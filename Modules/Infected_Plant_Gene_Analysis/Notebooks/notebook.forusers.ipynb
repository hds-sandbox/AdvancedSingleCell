{
 "cells": [
  {
   "cell_type": "markdown",
   "id": "78c23c23-b15e-4814-8092-cf85b10c1519",
   "metadata": {},
   "source": [
    "# Single Cell Analysis Tutorial\n",
    "\n",
    "Samuele Soraggi\n",
    "[![](data:image/png;base64,iVBORw0KGgoAAAANSUhEUgAAABAAAAAQCAYAAAAf8/9hAAAAGXRFWHRTb2Z0d2FyZQBBZG9iZSBJbWFnZVJlYWR5ccllPAAAA2ZpVFh0WE1MOmNvbS5hZG9iZS54bXAAAAAAADw/eHBhY2tldCBiZWdpbj0i77u/IiBpZD0iVzVNME1wQ2VoaUh6cmVTek5UY3prYzlkIj8+IDx4OnhtcG1ldGEgeG1sbnM6eD0iYWRvYmU6bnM6bWV0YS8iIHg6eG1wdGs9IkFkb2JlIFhNUCBDb3JlIDUuMC1jMDYwIDYxLjEzNDc3NywgMjAxMC8wMi8xMi0xNzozMjowMCAgICAgICAgIj4gPHJkZjpSREYgeG1sbnM6cmRmPSJodHRwOi8vd3d3LnczLm9yZy8xOTk5LzAyLzIyLXJkZi1zeW50YXgtbnMjIj4gPHJkZjpEZXNjcmlwdGlvbiByZGY6YWJvdXQ9IiIgeG1sbnM6eG1wTU09Imh0dHA6Ly9ucy5hZG9iZS5jb20veGFwLzEuMC9tbS8iIHhtbG5zOnN0UmVmPSJodHRwOi8vbnMuYWRvYmUuY29tL3hhcC8xLjAvc1R5cGUvUmVzb3VyY2VSZWYjIiB4bWxuczp4bXA9Imh0dHA6Ly9ucy5hZG9iZS5jb20veGFwLzEuMC8iIHhtcE1NOk9yaWdpbmFsRG9jdW1lbnRJRD0ieG1wLmRpZDo1N0NEMjA4MDI1MjA2ODExOTk0QzkzNTEzRjZEQTg1NyIgeG1wTU06RG9jdW1lbnRJRD0ieG1wLmRpZDozM0NDOEJGNEZGNTcxMUUxODdBOEVCODg2RjdCQ0QwOSIgeG1wTU06SW5zdGFuY2VJRD0ieG1wLmlpZDozM0NDOEJGM0ZGNTcxMUUxODdBOEVCODg2RjdCQ0QwOSIgeG1wOkNyZWF0b3JUb29sPSJBZG9iZSBQaG90b3Nob3AgQ1M1IE1hY2ludG9zaCI+IDx4bXBNTTpEZXJpdmVkRnJvbSBzdFJlZjppbnN0YW5jZUlEPSJ4bXAuaWlkOkZDN0YxMTc0MDcyMDY4MTE5NUZFRDc5MUM2MUUwNEREIiBzdFJlZjpkb2N1bWVudElEPSJ4bXAuZGlkOjU3Q0QyMDgwMjUyMDY4MTE5OTRDOTM1MTNGNkRBODU3Ii8+IDwvcmRmOkRlc2NyaXB0aW9uPiA8L3JkZjpSREY+IDwveDp4bXBtZXRhPiA8P3hwYWNrZXQgZW5kPSJyIj8+84NovQAAAR1JREFUeNpiZEADy85ZJgCpeCB2QJM6AMQLo4yOL0AWZETSqACk1gOxAQN+cAGIA4EGPQBxmJA0nwdpjjQ8xqArmczw5tMHXAaALDgP1QMxAGqzAAPxQACqh4ER6uf5MBlkm0X4EGayMfMw/Pr7Bd2gRBZogMFBrv01hisv5jLsv9nLAPIOMnjy8RDDyYctyAbFM2EJbRQw+aAWw/LzVgx7b+cwCHKqMhjJFCBLOzAR6+lXX84xnHjYyqAo5IUizkRCwIENQQckGSDGY4TVgAPEaraQr2a4/24bSuoExcJCfAEJihXkWDj3ZAKy9EJGaEo8T0QSxkjSwORsCAuDQCD+QILmD1A9kECEZgxDaEZhICIzGcIyEyOl2RkgwAAhkmC+eAm0TAAAAABJRU5ErkJggg==)](https://orcid.org/0000-0002-1159-5535)\n",
    "\n",
    "This tutorial will give you the extensive basic commands and\n",
    "explanations for the single cell analysis of your own dataset.\n",
    "\n",
    "-   The **first part of the tutorial** ([Section 2](#sec-preprocessing))\n",
    "    is focused on **preprocessing** the data, which means primarily\n",
    "    filtering and normalizing it.\n",
    "\n",
    "-   The **second part of the tutorial** ([Section 3](#sec-integration))\n",
    "    is focused on **integrating** all sixteen datasets produced from the\n",
    "    lab sessions (you will perform this integration analysis in groups),\n",
    "    identifying cell types and find a population of cells expressing the\n",
    "    HAR1 gene to analyze different conditions of mutant VS wild type\n",
    "    Lotus japonicus.\n",
    "\n",
    "-   The **third part of the tutorial** ([Section 4](#sec-geneanalysis))\n",
    "    applies tipycal gene analysis to detect genes conserved and\n",
    "    differentially expressed between conditions\n",
    "\n",
    "-   The **fourth part of the tutorial** ([Section 5](#sec-networks))\n",
    "    pivots around the study of groups of genes co-expressed in the data\n",
    "    and in specific clusters and conditions\n",
    "\n",
    "The first two parts follow the phylosophy of the best practices\n",
    "explained in Luecken and Theis (2019) and Heumos et al. (2023). The\n",
    "third part applies standard statistical tests on the average gene\n",
    "expressions in subsets of the data. The last part is based pulling cells\n",
    "transcripts together with different granularities to improve the\n",
    "statistical power of calculations based on their gene expression (as in\n",
    "Morabito et al. (2023)).\n",
    "\n",
    "The tutorial is based on four samples of Lotus Japonicus (two\n",
    "rhizobia-infected and two wild types) from [Frank et al.\n",
    "(2023)](https://www.ncbi.nlm.nih.gov/pmc/articles/PMC10630511/pdf/41467_2023_Article_42911.pdf).\n",
    "The last section follows some of the [tutorials from\n",
    "hdWGCNA](https://smorabit.github.io/hdWGCNA/).\n",
    "\n",
    "> **Learning outcomes**\n",
    ">\n",
    "> At the end of this tutorial **you will be able to use `R` to**\n",
    ">\n",
    "> -   **Filter** your data selecting specific criteria\n",
    "> -   **Preprocess** your data for advanced analysis\n",
    "> -   **Merge and integrate** datasets and perform **cross-data\n",
    ">     analysis**\n",
    "> -   **Identify potential cell types** by markers and exploiting other\n",
    ">     datasets\n",
    "> -   Perform and elaborate **differential and conserved** gene\n",
    ">     expression\n",
    "> -   Infer **gene modules** from your data and isolate significant ones\n",
    ">     related to a cell type\n",
    "> -   **Visualize gene modules** and extract their **gene ontology** to\n",
    ">     draw biological conclusions\n",
    "\n",
    "## A (rather very) short biological background\n",
    "\n",
    "Lotus Japonicus is a legume characterized by the legume-rhizobium\n",
    "symbiotic interaction (rhizobia are soil microorganisms that can\n",
    "interact with leguminous plants to form root nodules within which\n",
    "conditions are favourable for bacterial nitrogen fixation. Legumes allow\n",
    "the development of very large rhizobial populations in the vicinity of\n",
    "their roots).\n",
    "\n",
    "![Figure 1: Figure and text from Wang, Liu, and Zhu (2018). Symbiosis\n",
    "signaling and plant immunity involved in recognition specificity in the\n",
    "legume-rhizobial interactions (indicated by the red stars). **A** The\n",
    "process of infection and nodule development. A mature indeterminate\n",
    "nodule contains a meristem zone (I), an infection zone (II), an\n",
    "interzone (IZ), a nitrogen fixing zone (III), and a senescent zone (IV).\n",
    "**B** The host secretes flavonoids to induce the expression of bacterial\n",
    "nodulation (nod) gene through the activation of NodD proteins. The\n",
    "enzymes encoded by the nod genes lead to the synthesis of Nod factors\n",
    "(NF) that are recognized by host Nod factor receptors (NFRs).\n",
    "Recognition specificity occurs both between Flavonoids and NodDs and\n",
    "between NF and NFRs. **C** In addition to NF signaling, bacteria also\n",
    "produce extracellular polysaccharides (EPS) and type III effectors to\n",
    "facilitate their infection in compatible interactions, but these\n",
    "molecules may also induce immune responses causing resistance to\n",
    "infection in incompatible interactions. **D** Certain legumes such as\n",
    "Medicago encode antimicrobial nodule-specific cysteine-rich (NCR)\n",
    "peptides to drive their bacterial partners to terminal differentiation\n",
    "that is required for nitrogen fixation. However, some rhizobial strains\n",
    "cannot survive the antibacterial activity of certain peptide isoforms,\n",
    "leading to formation of nodules defective in nitrogen\n",
    "fixation.](attachment:images/nitrogenfixing.jpg)\n",
    "\n",
    "Rhizobial invasion of legumes is primarily mediated by a plant-made\n",
    "tubular invagination called an infection thread (IT). Research has shown\n",
    "that various genes are involved in some of the processes of the\n",
    "legume-rhizobia interaction.\n",
    "\n",
    "![Figure 2: Figure and text from Szczyglowski et al. (1998). Primary\n",
    "infection of Lotus japonicus roots inoculated with Mesorhizobium loti\n",
    "strain NZP2235. **A**, Brightfield micrograph of root hair curlings\n",
    "resembling shepherd’s-crook structures (arrows). **B–C**, Phase contrast\n",
    "micrographs of the intracellular infection threads within curled root\n",
    "hairs. Arrows point to infection threads with papilla-like structures on\n",
    "their outer surface. Bar, 70 µm **A**, 25 µm **B**, and 20 µm\n",
    "**C**.](attachment:images/LJinfection.png)\n",
    "\n",
    "-   **RINRK1** (Rhizobial Infection Receptor-like Kinase1), that is\n",
    "    induced by Nod factors (NFs) and is involved in IT formation but not\n",
    "    nodule organogenesis. A paralog, RINRK2, plays a relatively minor\n",
    "    role in infection. RINRK1 is required for full induction of early\n",
    "    infection genes, including Nodule Inception (NIN), encoding an\n",
    "    essential nodulation transcription factor. See Li et al. (2019).\n",
    "-   **HAR1** mediates nitrate inhibition and autoregulation of\n",
    "    nodulation. Autoregulation of nodulation involves\n",
    "    root-to-shoot-to-root long-distance communication, and HAR1\n",
    "    functions in shoots. HAR1 is critical for the inhibition of\n",
    "    nodulation at 10 mM nitrate. The nitrate-induced CLE-RS2\n",
    "    glycopeptide binds directly to the HAR1 receptor, this result\n",
    "    suggests that CLE-RS2/HAR1 long-distance signaling plays an\n",
    "    important role in the both nitrate inhibition and the autoregulation\n",
    "    of nodulation. See Okamoto and Kawaguchi (2015).\n",
    "-   **SYMRKL1**, encodes a protein with an ectodomain predicted to be\n",
    "    nearly identical to that of SYMRK and is required for normal\n",
    "    infection thread formation. See Frank et al. (2023).\n",
    "\n",
    "# UMI-based single cell data from microdroplets\n",
    "\n",
    "The dataset is based on a **microdroplet-based method from 10X\n",
    "chromium**. We remember that a microdroplet single cell sequencing\n",
    "protocol works as follow:\n",
    "\n",
    "-   each cell is isolated together with a barcode bead in a gel/oil\n",
    "    droplet\n",
    "\n",
    "![Figure 3: Isolation of cells and beads into\n",
    "microdroplets.](attachment:images/dropletisolation.jpg)\n",
    "\n",
    "-   each transcript in the cell is captured via the bead and assigned a\n",
    "    cell barcode and a transcript unique molecular identifier (UMI)\n",
    "-   3’ reverse transcription of mRNA into cDNA is then performed in\n",
    "    preparation to the PCR amplification\n",
    "-   the cDNA is amplified through PCR cycles\n",
    "\n",
    "![Figure 4: steps for the microdroplet-based single cell RNA sequencing\n",
    "after isolation.](attachment:images/10X.png)\n",
    "\n",
    "## The raw data in practice\n",
    "\n",
    "Let’s look at a specific read and its UMI and cell barcode. The data is\n",
    "organized in paired-end reads (written on `fastq` files), where the\n",
    "first `fastq` file contains reads in the following format\n",
    "\n",
    "    @SRR8363305.1 1 length=26\n",
    "    NTGAAGTGTTAAGACAAGCGTGAACT\n",
    "    +SRR8363305.1 1 length=26\n",
    "    #AAFFJJJJJJJJJJJJJJJJFJJJJ\n",
    "\n",
    "Here, the first 16 characters `NTGAAGTGTTAAGACA` represent the cell\n",
    "barcode, while the last 10 characters `AGCGTGAACT` are the transcript\n",
    "UMI tag. The last line represents the quality scores of the 26\n",
    "characters of barcode+UMI.\n",
    "\n",
    "The associated second `fastq` file contains reads of 98nt as the\n",
    "following\n",
    "\n",
    "    @SRR8363305.1 1 length=98\n",
    "    NCTAAAGATCACACTAAGGCAACTCATGGAGGGGTCTTCAAAGA\n",
    "        CCTTGCAAGAAGTACTAACTATGGAGTATCGGCTAAGTCAANCN\n",
    "        TGTATGAGAT\n",
    "    +SRR8363305.1 1 length=98\n",
    "    #A<77AFJJFAAAJJJ7-7-<7FJ-7----<77--7FAAA--\n",
    "        <JFFF-7--7<<-F77---FF---7-7A-777777A-<\n",
    "        -7---#-#A-7-7--7--\n",
    "\n",
    "The 98nt-long string of characters in the second line is a partial\n",
    "sequence of the cDNA transcript. Specifically, the 10X chromium protocol\n",
    "used for sequencing the data is biased towards the 3’ end, because the\n",
    "sequencing is oriented from the 3’ to the 5’ end of the transcripts. The\n",
    "last line contains the corresponding quality scores.\n",
    "\n",
    "## Alignment and expression matrix\n",
    "\n",
    "The data is aligned with `cellranger`, a completely automatized\n",
    "[pipeline implemented by\n",
    "10X](https://support.10xgenomics.com/single-cell-gene-expression/software/pipelines/latest/what-is-cell-ranger)\n",
    "for 10X-genomics data.\n",
    "\n",
    "Apart from the data, the output contains an interactive document\n",
    "reporting the quality of the data and a small preliminary UMAP plot and\n",
    "clustering. In this report it is especially instructive to look at the\n",
    "**knee plot**.\n",
    "\n",
    "The knee plot is created by plotting the number of unique molecular\n",
    "identifiers (UMIs) or reads against the number of cells sequenced,\n",
    "sorted in descending order. The UMIs or reads are a measure of the\n",
    "amount of RNA captured for each cell, and thus a measure of the quality\n",
    "of the data. The plot typically shows a **steep slope at the beginning,\n",
    "followed by a plateau, and then a gradual decrese into a second slope\n",
    "and a final plateau**.\n",
    "\n",
    "-   The steep slope represents the initial cells that are of **high\n",
    "    quality** and have the highest number of UMIs or reads.\n",
    "-   The first plateau represents the cells that have **lower quality\n",
    "    data**, and the gradual decrease represents the addition of droplets\n",
    "    with even lower quality data.\n",
    "-   Usually, beyond the first slope, you have droplets that are **either\n",
    "    empty or of so poor quality**, that they are not worth keeping for\n",
    "    analysis.\n",
    "-   The height of the last plateau gives you an idea of the **presence\n",
    "    of ambient RNA** inside droplets. If the last plateau is located\n",
    "    high up, then the corresponding amount of UMIs consist of background\n",
    "    ambient RNA which likely pollutes all cells in your data.\n",
    "\n",
    "Below, the knee plot from the `control 1` sample used in this analysis.\n",
    "You can see that around 10,000 cells with above ~1000 UMIs seems to be\n",
    "coinsidered of decent quality by `cellranger` (the part of line coloured\n",
    "in blue). Note that the last plateau is located at a very low amount of\n",
    "UMIs, meaning there is not really any relevant contamination from\n",
    "ambient RNA.\n",
    "\n",
    "![Figure 5: Knee plot of the Control 1 sample of the tutorial. Note the\n",
    "lower plateau of ambient RNA](attachment:images/knee.png)\n",
    "\n",
    "> **Exercise**\n",
    ">\n",
    "> In this same folder you have the document `web_summary.html` that\n",
    "> shows you the quality report of your own dataset. **Take some time to\n",
    "> look at it and explore what it contains** (Click on `Trust HTML` on\n",
    "> the top menu if the html remains blank after opening it). Get an idea\n",
    "> of how many UMIs there are in cells of decent quality. We will work\n",
    "> more on filtering out cells based on their quality in this tutorial.\n",
    "\n",
    "> **Something more about knee plots**\n",
    ">\n",
    "> The background RNA (sequenced together with the transcript coming from\n",
    "> the cell of interest) makes up the *ambient plateau*: the same\n",
    "> background RNA is contained in empty droplets. If your dataset has\n",
    "> extremely few UMI counts in empty droplets, then there is not much\n",
    "> background RNA present - This is the best situation in which you can\n",
    "> find yourself. See Exhibit A in [Figure 6](#fig-bender).\n",
    ">\n",
    "> If you have a dataset where you can identify an *empty droplet\n",
    "> plateau* by eye (Exhibit B in [Figure 6](#fig-bender)), and these\n",
    "> empty droplets have 50 or 100 or several hundred counts, then it can\n",
    "> be advisable to use a specific software to remove the background\n",
    "> transcripts (e.g. `CellBender` (Fleming et al. (2023)), `SoupX` (Young\n",
    "> and Behjati (2020))).\n",
    ">\n",
    "> If you have a dataset with so much background RNA that you cannot\n",
    "> identify the *empty droplet plateau* yourself by eye (Exhibit C in\n",
    "> [Figure 6](#fig-bender)), then any software to remove background\n",
    "> transcripts will also likely have a difficult time. Such the\n",
    "> algorithms might be worth a try, but you should **strongly consider\n",
    "> re-running the experiment, as the knee plot points to a real QC\n",
    "> failure**\n",
    ">\n",
    "> ![Figure 6: Various cases of knee plot you can encounter from\n",
    "> sequenced data. Figure from [the webpage of\n",
    "> Cellbender.](https://cellbender.readthedocs.io/)](attachment:images/UMI_curve_tropes.png)\n",
    "\n",
    "# Preprocessing\n",
    "\n",
    "> **Learning outcome**\n",
    ">\n",
    "> We will answer to the following questions:\n",
    ">\n",
    "> -   How can I **import single-cell data** into R?\n",
    "> -   How are different types of data/information (e.g. cell\n",
    ">     information, gene information, etc.) **stored and manipulated**?\n",
    "> -   How can I obtain basic **summary metrics** for cells and genes and\n",
    ">     **filter the data** accordingly?\n",
    "> -   How can I **visually explore** these metrics?\n",
    "\n",
    "We start by loading all the packages necessary for the analysis and\n",
    "setup a few things"
   ]
  },
  {
   "cell_type": "code",
   "execution_count": null,
   "id": "545d1310-ceba-484c-be10-8a3edb0bfd05",
   "metadata": {
    "tags": [],
    "vscode": {
     "languageId": "r"
    }
   },
   "outputs": [],
   "source": [
    "suppressPackageStartupMessages({\n",
    "library(SeuratDisk); \n",
    "library(Seurat);\n",
    "library(DoubletFinder);\n",
    "library(parallel);\n",
    "library(multtest);\n",
    "library(metap);\n",
    "library(purrr);\n",
    "library(dplyr);\n",
    "library(stringr);\n",
    "library(tibble);\n",
    "library(ggplot2);\n",
    "library(MAST);\n",
    "library(WGCNA);\n",
    "library(hdWGCNA);\n",
    "library(patchwork);\n",
    "library(doFuture);})"
   ]
  },
  {
   "cell_type": "code",
   "execution_count": null,
   "id": "41ae4ef1-050d-4d5a-8bad-7ee51aac5f6e",
   "metadata": {
    "vscode": {
     "languageId": "r"
    }
   },
   "outputs": [],
   "source": [
    "source(\"../Scripts/script.R\")"
   ]
  },
  {
   "cell_type": "code",
   "execution_count": null,
   "id": "93e9d974-8b7d-47d1-aa58-097352b0c485",
   "metadata": {
    "tags": [],
    "vscode": {
     "languageId": "r"
    }
   },
   "outputs": [],
   "source": [
    "options(future.seed=TRUE)"
   ]
  },
  {
   "cell_type": "code",
   "execution_count": null,
   "id": "4b979f08-91c0-42d7-93f3-24e9cd5f3fc4",
   "metadata": {
    "tags": [],
    "vscode": {
     "languageId": "r"
    }
   },
   "outputs": [],
   "source": [
    "plan(\"multicore\", workers = 8)\n",
    "options(future.globals.maxSize = 8 * 1024^3)"
   ]
  },
  {
   "cell_type": "markdown",
   "id": "49192f7a-7bd4-486a-a4ca-f5a48e5a7093",
   "metadata": {},
   "source": [
    "## Download data\n",
    "\n",
    "We check if the data exists, otherwise a script will download the\n",
    "missing data files in the appropriate folder, which should be `../Data`."
   ]
  },
  {
   "cell_type": "code",
   "execution_count": null,
   "id": "8fa45d28-812b-4c8a-87bc-0078b2c40936",
   "metadata": {
    "vscode": {
     "languageId": "r"
    }
   },
   "outputs": [],
   "source": [
    "downloadData()"
   ]
  },
  {
   "cell_type": "markdown",
   "id": "e7c9f69b-6683-4daf-9ff3-89376259b62b",
   "metadata": {},
   "source": [
    "## Import data\n",
    "\n",
    "We import the data reading the matrix files aligned by 10X. Those are\n",
    "usually contained in a folder with a name of the type\n",
    "`aligned_dataset/outs/filtered_bc_matrix`, that 10X Cellranger creates\n",
    "automatically after the alignment. You will use such a folder when your\n",
    "own data is aligned. In this tutorial, the aligned data is in the folder\n",
    "used below. The command for reading the data is simply `Read10X`.\n",
    "\n",
    "> **Important**\n",
    ">\n",
    "> When using your own data, you need to use the correct folder name\n",
    "> below according to the `10X` folder structure\n",
    "> `aligned_dataset/outs/filtered_bc_matrix`."
   ]
  },
  {
   "cell_type": "code",
   "execution_count": null,
   "id": "679ff5f7-8bb7-4beb-9899-de056b2660dd",
   "metadata": {
    "tags": [],
    "vscode": {
     "languageId": "r"
    }
   },
   "outputs": [],
   "source": [
    "Control1 <- Read10X(\"../Data/control_1/\")"
   ]
  },
  {
   "cell_type": "markdown",
   "id": "540746af-3d59-4e61-97bc-efd0fd2b8615",
   "metadata": {},
   "source": [
    "Note that we are loading only one dataset (`control_1`, one of the two\n",
    "control replicates). Another control dataset, and two infected datasets,\n",
    "have already been preprocessed and will be used later - so **we will now\n",
    "focus on the preprocessing of a single dataset**. In general, when you\n",
    "have multiple datasets, you must preprocess them one at a time before\n",
    "integrating them together.\n",
    "\n",
    "What we obtain in the command above is an expression matrix. Look at the\n",
    "first 10 rows and columns of the matrix (whose rows represent genes and\n",
    "columns droplets/cells) - the dots are zeros (they are not stored in the\n",
    "data, which has a compressed format called `dgCMatrix`), and **are the\n",
    "majority of the expression values obtained in scRNA data!**"
   ]
  },
  {
   "cell_type": "code",
   "execution_count": null,
   "id": "53f6c9b1-8130-4b3a-97ed-eb545b2ccbf0",
   "metadata": {
    "tags": [],
    "vscode": {
     "languageId": "r"
    }
   },
   "outputs": [],
   "source": [
    "Control1[1:10,1:10]"
   ]
  },
  {
   "cell_type": "markdown",
   "id": "bdefdd76-0987-4f1c-8c1d-f5041b372e42",
   "metadata": {},
   "source": [
    "What is the percentage of zeros in this matrix? You can see it for\n",
    "yourself below - it is a lot, but quite surprisingly we can get a lot of\n",
    "information from the data!"
   ]
  },
  {
   "cell_type": "code",
   "execution_count": null,
   "id": "b974b834-a7f2-4287-8cf0-02e2adb362b7",
   "metadata": {
    "tags": [],
    "vscode": {
     "languageId": "r"
    }
   },
   "outputs": [],
   "source": [
    "cat(\"Number of zeros: \")\n",
    "zeros <-  sum(Control1==0)\n",
    "cat( zeros )"
   ]
  },
  {
   "cell_type": "code",
   "execution_count": null,
   "id": "b766627a-ba7f-4879-81f1-35623f405177",
   "metadata": {
    "tags": [],
    "vscode": {
     "languageId": "r"
    }
   },
   "outputs": [],
   "source": [
    "cat(\"Number of expression entries: \")\n",
    "total <- dim(Control1)[1] * dim(Control1)[2]\n",
    "cat( total )"
   ]
  },
  {
   "cell_type": "code",
   "execution_count": null,
   "id": "b0c52da8-7818-4f3b-972e-e69f95f29c6a",
   "metadata": {
    "tags": [],
    "vscode": {
     "languageId": "r"
    }
   },
   "outputs": [],
   "source": [
    "cat(\"Percentage of zeros: \")\n",
    "cat( zeros / total * 100 )"
   ]
  },
  {
   "cell_type": "markdown",
   "id": "d6e8afdd-dbcf-4f50-aba4-91bfe79e291d",
   "metadata": {},
   "source": [
    "## Create a single cell object in Seurat\n",
    "\n",
    "We use our count matrix to create a Seurat object. A Seurat object\n",
    "allows you to **store the count matrix** and future modifications of it\n",
    "(for example its normalized version), together with **information\n",
    "regarding cells and genes** (such as clusters of cell types) and their\n",
    "**projections** (such as PCA and tSNE). We will go through these\n",
    "elements, but first we create the object with `CreateSeuratObject`:"
   ]
  },
  {
   "cell_type": "code",
   "execution_count": null,
   "id": "40951dd1-5b54-4716-a659-c72e96531b71",
   "metadata": {
    "tags": [],
    "vscode": {
     "languageId": "r"
    }
   },
   "outputs": [],
   "source": [
    "Control1_seurat <- CreateSeuratObject(counts = Control1, \n",
    "                                               project = \"Control1_seurat\", \n",
    "                                               min.cells = 3, \n",
    "                                               min.features = 200)"
   ]
  },
  {
   "cell_type": "markdown",
   "id": "b4b6de7d-96ff-4cd2-8781-65eea3d74577",
   "metadata": {},
   "source": [
    "The arguments of the command are \\* `counts`: the count matrix \\*\n",
    "`project`: a project name \\* `min.cells`: a minimum requirement for\n",
    "genes, in our case saying they must be expressed in at least 3 cells. If\n",
    "not, they are filtered out already now when creating the object. \\*\n",
    "`min.features`: a minimum requirement for cells. Cells having less than\n",
    "200 expressed genes are removed from the beginning from the data.\n",
    "\n",
    "Values for the minimum requirements chosen above are standard checks\n",
    "when running the analysis. Droplets not satisfying those requirements\n",
    "are of extremely bad quality and not worth carrying on during the\n",
    "analysis (remember the knee plot).\n",
    "\n",
    "How many genes and cells have been filtered out?"
   ]
  },
  {
   "cell_type": "code",
   "execution_count": null,
   "id": "953273bb-73d9-4c96-b884-899cb23f610f",
   "metadata": {
    "tags": [],
    "vscode": {
     "languageId": "r"
    }
   },
   "outputs": [],
   "source": [
    "cat(\"Starting Genes and Cells:\\n\")\n",
    "cat( dim(Control1) )\n",
    "\n",
    "cat(\"\\nFiltered Genes and Cells:\\n\")\n",
    "cat( dim(Control1) - dim(Control1_seurat) )\n",
    "\n",
    "cat(\"\\nRemaining Genes and Cells:\\n\")\n",
    "cat( dim(Control1_seurat) )"
   ]
  },
  {
   "cell_type": "markdown",
   "id": "d7dea009-43b8-4834-b0c1-4a5a125242bf",
   "metadata": {},
   "source": [
    "We want to use this data later in the analysis with other `Control` and\n",
    "`Infected` datasets. Therefore we add a `Condition` to the metadata\n",
    "table, and for this dataset we establish that each cell is `Control`.\n",
    "\n",
    "> **Important**\n",
    ">\n",
    "> When using your own data, do not forget to **write the correct\n",
    "> condition label**."
   ]
  },
  {
   "cell_type": "code",
   "execution_count": null,
   "id": "2d2b73bd-18c3-42fe-9379-6f74ef7b65c4",
   "metadata": {
    "tags": [],
    "vscode": {
     "languageId": "r"
    }
   },
   "outputs": [],
   "source": [
    "Control1_seurat <- AddMetaData(object = Control1_seurat, \n",
    "                                        metadata = \"Control\", \n",
    "                                        col.name = \"Condition\")"
   ]
  },
  {
   "cell_type": "markdown",
   "id": "42da472a-3df5-4ec3-9b91-733817e8b262",
   "metadata": {},
   "source": [
    "### Content of a Seurat Object\n",
    "\n",
    "What is contained in the Seurat object? We can use the command `str` to\n",
    "list the various *slots* of the object."
   ]
  },
  {
   "cell_type": "code",
   "execution_count": null,
   "id": "32590806-07a3-4b1a-bfa0-e9b9737088cc",
   "metadata": {
    "tags": [],
    "vscode": {
     "languageId": "r"
    }
   },
   "outputs": [],
   "source": [
    "str(Control1_seurat, max.level = 2)"
   ]
  },
  {
   "cell_type": "markdown",
   "id": "181645c2-3bcc-44c3-b775-d1b1272392b7",
   "metadata": {},
   "source": [
    "The first slot is called `assays`, and it contains all the count\n",
    "matrices we have collected during our analysis when, for example,\n",
    "normalizing data or doing other transformations of it. Right now we only\n",
    "have the `RNA` assay with the raw counts:"
   ]
  },
  {
   "cell_type": "code",
   "execution_count": null,
   "id": "384a4f49-5d67-42e5-a320-4e0b09bd1a85",
   "metadata": {
    "tags": [],
    "vscode": {
     "languageId": "r"
    }
   },
   "outputs": [],
   "source": [
    "Control1_seurat@assays"
   ]
  },
  {
   "cell_type": "markdown",
   "id": "4905e73d-4389-4037-8836-31d791aab8dc",
   "metadata": {},
   "source": [
    "You can always select which matrix is currently in use for the analysis\n",
    "by assigning it to `DefaultAssay()`. The default assay is often changed\n",
    "automatically by Seurat, for example the normalized assay is used as\n",
    "default after normalization is performed."
   ]
  },
  {
   "cell_type": "code",
   "execution_count": null,
   "id": "36eb5464-efc1-4d29-a8f9-7ebdbe708ddc",
   "metadata": {
    "tags": [],
    "vscode": {
     "languageId": "r"
    }
   },
   "outputs": [],
   "source": [
    "DefaultAssay(object = Control1_seurat) <- \"RNA\""
   ]
  },
  {
   "cell_type": "code",
   "execution_count": null,
   "id": "ad550296-d146-48f2-b617-3c04873c0566",
   "metadata": {
    "tags": [],
    "vscode": {
     "languageId": "r"
    }
   },
   "outputs": [],
   "source": [
    "cat(\"Your default assay is \")\n",
    "cat(DefaultAssay(object = Control1_seurat))"
   ]
  },
  {
   "cell_type": "markdown",
   "id": "b9d8a34c-b109-4a84-b3c4-6bc8378ecc85",
   "metadata": {},
   "source": [
    "The second slot is the one that contains the metadata for each cell. It\n",
    "is easily visualized as a table (the command `head` shows only the first\n",
    "6 rows of the table):"
   ]
  },
  {
   "cell_type": "code",
   "execution_count": null,
   "id": "66bdf2a0-e2b1-44e5-bef1-eeb882821ad3",
   "metadata": {
    "tags": [],
    "vscode": {
     "languageId": "r"
    }
   },
   "outputs": [],
   "source": [
    "head( Control1_seurat@meta.data )"
   ]
  },
  {
   "cell_type": "markdown",
   "id": "6b958ddc-ffb4-460e-b835-558dce6632be",
   "metadata": {},
   "source": [
    "The table contains a name for the dataset (`orig.ident`, useful to\n",
    "distinguish multiple datasets merged together), how many RNA transcripts\n",
    "are contained in each cell (`nCount_RNA`), the number of expressed genes\n",
    "in each cell (`nFeature_RNA`), and the `Condition` (added by us\n",
    "previously). More metadata can be added along the analysis, and some is\n",
    "added automatically by Seurat when running specific commands.\n",
    "\n",
    "The `assays` and `meta.data` slots are the most relevant and useful to\n",
    "know - the other ones are mostly for internal use by Seurat and we do\n",
    "not go into detail with those.\n",
    "\n",
    "## Finding filtering criteria\n",
    "\n",
    "We want to look in depth at which droplets do not contain good quality\n",
    "data, so that we can filter them out. The standard approach - which\n",
    "works quite well - is to study the **distribution of various quality\n",
    "measures and remove doublets** (droplets containing more than one cell)\n",
    "which can confound the analysis results. We will look at some plots and\n",
    "decide some threshold, then we will apply them at the end after looking\n",
    "at all the histograms.\n",
    "\n",
    "### Quality measure distributions\n",
    "\n",
    "A first step is to calculate the percentage of mitochondrial and\n",
    "chloroplastic genes. A high percentage indicates the presence of spilled\n",
    "material from broken cells. We use the command `PercentageFeatureSet`\n",
    "and provide the pattern of the gene ID which corresponds to\n",
    "mitochondrial and ribosomal genes. The percentages are saved into the\n",
    "metadata simply by using the double squared brackets `[[`."
   ]
  },
  {
   "cell_type": "code",
   "execution_count": null,
   "id": "146cdcd8-5a9e-485e-acaa-d9a3efde01ef",
   "metadata": {
    "tags": [],
    "vscode": {
     "languageId": "r"
    }
   },
   "outputs": [],
   "source": [
    "Control1_seurat[[\"percent.mt\"]] <- PercentageFeatureSet(Control1_seurat, \n",
    "                                                                 pattern = \"LotjaGiM1v\")\n",
    "Control1_seurat[[\"percent.chloroplast\"]] <- PercentageFeatureSet(Control1_seurat, \n",
    "                                                                          pattern = \"LotjaGiC1v\")"
   ]
  },
  {
   "cell_type": "markdown",
   "id": "82c838eb-f55a-4b33-8725-e71fe7e63c48",
   "metadata": {},
   "source": [
    "You can see the new metadata is now added for each cell"
   ]
  },
  {
   "cell_type": "code",
   "execution_count": null,
   "id": "9109155c-a6b3-41ff-9e5a-772ed0152246",
   "metadata": {
    "tags": [],
    "vscode": {
     "languageId": "r"
    }
   },
   "outputs": [],
   "source": [
    "head( Control1_seurat@meta.data )"
   ]
  },
  {
   "cell_type": "markdown",
   "id": "139cc415-1a79-4952-9994-98c4c8974e38",
   "metadata": {},
   "source": [
    "#### Number of transcripts per cell\n",
    "\n",
    "We plot a histogram of the number of transcripts per cell in\n",
    "[Figure 7](#fig-rnacount) below. On the right, we zoom into the\n",
    "histogram. We want to **filter out the cells with the lowest number of\n",
    "transcripts** - often there is a peak we can identify with a group of\n",
    "low-quality cells. Here we can choose to remove cells with less than\n",
    "~700 transcripts (some people prefere to do a lighter filtering, and\n",
    "would for example set a threshold to a lower value). We remove also\n",
    "**cells with too many transcripts** that might contain some weird\n",
    "transcripts - which is also helpful for normalization because it removes\n",
    "some outlying values. For those we can set a limit to 30000, where there\n",
    "is a very thin tail in the histogram."
   ]
  },
  {
   "cell_type": "code",
   "execution_count": null,
   "id": "ed0c7a86-73bd-4848-97b7-1ee72f222ad3",
   "metadata": {
    "tags": [],
    "vscode": {
     "languageId": "r"
    }
   },
   "outputs": [],
   "source": [
    "options(repr.plot.width=14, repr.plot.height=5)\n",
    "\n",
    "plot1 <- ggplot(Control1_seurat@meta.data, aes(x=nCount_RNA)) + \n",
    "     geom_histogram(fill=\"#69b3a2\", color=\"#e9ecef\", alpha=0.9)\n",
    "\n",
    "plot2 <- ggplot(Control1_seurat@meta.data, aes(x=nCount_RNA)) + \n",
    "     geom_histogram(fill=\"#69b3a2\", color=\"#e9ecef\", alpha=0.9) +\n",
    "     xlim(0,2000)\n",
    "\n",
    "plot1 + plot2"
   ]
  },
  {
   "cell_type": "markdown",
   "id": "3b3daa26-1aa8-4016-8fdd-6e01a1c56db9",
   "metadata": {},
   "source": [
    "#### Number of detected genes per cell\n",
    "\n",
    "Here we work similarly to filter out cells based on how many genes are\n",
    "detected ([Figure 8](#fig-genecounts)). The right-side plot is a zoom\n",
    "into the histogram. It seems easy to set the thresholds at ~400 and\n",
    "~7000 detected genes."
   ]
  },
  {
   "cell_type": "code",
   "execution_count": null,
   "id": "38f89d9a-1bd3-4151-8fa7-dc2d3bec5e17",
   "metadata": {
    "tags": [],
    "vscode": {
     "languageId": "r"
    }
   },
   "outputs": [],
   "source": [
    "options(repr.plot.width=14, repr.plot.height=5)\n",
    "\n",
    "plot1 <- ggplot(Control1_seurat@meta.data, aes(x=nFeature_RNA)) + \n",
    "     geom_histogram(fill=\"#69b3a2\", color=\"#e9ecef\", alpha=0.9)\n",
    "\n",
    "plot2 <- ggplot(Control1_seurat@meta.data, aes(x=nFeature_RNA)) + \n",
    "     geom_histogram(fill=\"#69b3a2\", color=\"#e9ecef\", alpha=0.9) +\n",
    "     xlim(0,1000)\n",
    "\n",
    "\n",
    "plot1 + plot2"
   ]
  },
  {
   "cell_type": "markdown",
   "id": "bb454613-cc6a-4bae-874c-caa6e62b79b0",
   "metadata": {},
   "source": [
    "#### Mitochondrial and Chloroplast percentages\n",
    "\n",
    "The percentages of mitochondrial and chloroplastic transcripts tells us\n",
    "the data is of good quality, since most cells have low values of those\n",
    "([Figure 9](#fig-mt)). Thresholds are usually set between 5% and 20% in\n",
    "single cell data analysis. In the paper, thresholds were for example set\n",
    "at 20%."
   ]
  },
  {
   "cell_type": "code",
   "execution_count": null,
   "id": "6a3cbef6-c592-4c73-9e56-4c2c2f37e6b7",
   "metadata": {
    "tags": [],
    "vscode": {
     "languageId": "r"
    }
   },
   "outputs": [],
   "source": [
    "options(repr.plot.width=14, repr.plot.height=5)\n",
    "\n",
    "plot1 <- ggplot(Control1_seurat@meta.data, aes(x=percent.mt)) + \n",
    "     geom_histogram(fill=\"#69b3a2\", color=\"#e9ecef\", alpha=0.9)\n",
    "\n",
    "plot2 <- ggplot(Control1_seurat@meta.data, aes(x=percent.chloroplast)) + \n",
    "     geom_histogram(fill=\"#69b3a2\", color=\"#e9ecef\", alpha=0.9)\n",
    "\n",
    "plot1 + plot2"
   ]
  },
  {
   "cell_type": "markdown",
   "id": "fba042e6-1309-4c85-9a15-76716006c18e",
   "metadata": {},
   "source": [
    "#### Counts-Features relationship\n",
    "\n",
    "In [Figure 10](#fig-gentra) below, we look at the plot of the number of\n",
    "transcripts per cell vs the number of detected genes per cell. Usually,\n",
    "those two measure grow simultaneously. At lower counts the relationship\n",
    "is quite linear, then becomes a curve, typically bending in favour of\n",
    "the number of transcripts per cell. You can see below that each dot\n",
    "(representing a droplet) is coloured by percentage of mitochondria.\n",
    "Droplets with a high percentage of mitochondrial genes also have very\n",
    "low amount of transcripts and detected genes, **confirming that high\n",
    "mitochondrial content is a measure of low quality**."
   ]
  },
  {
   "cell_type": "code",
   "execution_count": null,
   "id": "3d0cdf55-d8c0-4b6a-b726-731a65cbb331",
   "metadata": {
    "tags": [],
    "vscode": {
     "languageId": "r"
    }
   },
   "outputs": [],
   "source": [
    "options(repr.plot.width=14, repr.plot.height=5)\n",
    "\n",
    "meta <- Control1_seurat@meta.data %>% arrange(percent.mt)\n",
    "\n",
    "plot1 <- ggplot( meta, aes(x=nCount_RNA, y=nFeature_RNA, colour=percent.mt)) + \n",
    "         geom_point(alpha=0.75, size=5)+\n",
    "         geom_smooth(se=TRUE, method=\"loess\")\n",
    "\n",
    "plot1"
   ]
  },
  {
   "cell_type": "markdown",
   "id": "cde9422e-ced7-4e58-b19f-f509fc6b4305",
   "metadata": {},
   "source": [
    "In a similar way the chloroplastic genes confirm the pattern of low\n",
    "quality droplets."
   ]
  },
  {
   "cell_type": "code",
   "execution_count": null,
   "id": "4e7922cc-b3c5-4f3c-a416-5e1f62c038cd",
   "metadata": {
    "tags": [],
    "vscode": {
     "languageId": "r"
    }
   },
   "outputs": [],
   "source": [
    "options(repr.plot.width=14, repr.plot.height=5)\n",
    "\n",
    "meta <- Control1_seurat@meta.data %>% arrange(percent.chloroplast)\n",
    "\n",
    "plot1 <- ggplot( meta, aes(x=nCount_RNA, y=nFeature_RNA, colour=percent.chloroplast)) + \n",
    "         geom_point(alpha=0.75, size=5)+\n",
    "         geom_smooth(se=TRUE, method=\"loess\")\n",
    "\n",
    "plot1"
   ]
  },
  {
   "cell_type": "markdown",
   "id": "b4ed023f-dfec-4bd8-a90e-0f0bfbb96261",
   "metadata": {},
   "source": [
    "### Filtering with the chosen criteria\n",
    "\n",
    "Here we use the command `subset` and impose the criteria we chose above\n",
    "looking at the histograms. We set each criteria for keeping cells of\n",
    "good quality using the names of the features in metadata. We print those\n",
    "names to remember them."
   ]
  },
  {
   "cell_type": "code",
   "execution_count": null,
   "id": "e0984bb9-0153-4c2c-a131-b36908a243b8",
   "metadata": {
    "tags": [],
    "vscode": {
     "languageId": "r"
    }
   },
   "outputs": [],
   "source": [
    "cat(\"Meta data names:\\n\")\n",
    "cat( names(Control1_seurat@meta.data), sep='; ' )"
   ]
  },
  {
   "cell_type": "markdown",
   "id": "3c561422-fdc4-45c6-a8df-97c69cf32883",
   "metadata": {},
   "source": [
    "The filtered object is called `Control1_seurat_filt`"
   ]
  },
  {
   "cell_type": "code",
   "execution_count": null,
   "id": "416110a4-4740-46a8-a3df-bc14a51cf340",
   "metadata": {
    "tags": [],
    "vscode": {
     "languageId": "r"
    }
   },
   "outputs": [],
   "source": [
    "Control1_seurat_filt <- subset(x = Control1_seurat, \n",
    "                                        subset = nCount_RNA > 700 &\n",
    "                                                 nCount_RNA < 35000 &\n",
    "                                                 nFeature_RNA > 400 & \n",
    "                                                 nFeature_RNA < 7000 & \n",
    "                                                 percent.mt < 5 & \n",
    "                                                 percent.chloroplast < 5)\n",
    "\n",
    "cat(\"Filtered Genes and Cells: \")\n",
    "cat( dim(Control1_seurat) - dim(Control1_seurat_filt) )\n",
    "cat(\"\\nRemaining Genes and Cells: \")\n",
    "cat( dim(Control1_seurat_filt) )"
   ]
  },
  {
   "cell_type": "markdown",
   "id": "efe0cc19-4f8d-4f5a-98ce-52a5bac65dec",
   "metadata": {},
   "source": [
    "Now the transcripts vs genes can be seen in\n",
    "[Figure 12](#fig-filtrelationship). The relationship is much more linear\n",
    "than previously after the removal of extreme values for transcripts and\n",
    "detected genes."
   ]
  },
  {
   "cell_type": "code",
   "execution_count": null,
   "id": "2ce88ce0-ee19-4245-803f-6976fcbe9ec3",
   "metadata": {
    "tags": [],
    "vscode": {
     "languageId": "r"
    }
   },
   "outputs": [],
   "source": [
    "options(repr.plot.width=14, repr.plot.height=5)\n",
    "\n",
    "meta <- Control1_seurat_filt@meta.data %>% arrange(percent.mt)\n",
    "\n",
    "plot1 <- ggplot( meta, aes(x=nCount_RNA, y=nFeature_RNA, colour=percent.mt)) + \n",
    "         geom_point(alpha=0.75, size=5)+\n",
    "         geom_smooth(se=TRUE, method=\"loess\")\n",
    "\n",
    "plot1"
   ]
  },
  {
   "cell_type": "markdown",
   "id": "638854aa-5e47-4195-a829-d1fdb062f3a7",
   "metadata": {},
   "source": [
    "## Normalization\n",
    "\n",
    "scRNA-seq data is **affected by highly variable RNA quantities and\n",
    "qualities** across different cells. Furthermore, it is often subject to\n",
    "**batch effects, sequencing depth differences, and other technical\n",
    "biases** that can confound downstream analyses.\n",
    "\n",
    "Normalization methods are used to **adjust for these technical\n",
    "variations so that true biological differences between cells can be\n",
    "accurately identified**.\n",
    "\n",
    "Some commonly used normalization methods in scRNA-seq data include the\n",
    "following:\n",
    "\n",
    "-   **Total count normalization**: Normalizing the read counts to the\n",
    "    total number of transcripts in each sample\n",
    "-   **TPM (transcripts per million)** normalization: Normalizing the\n",
    "    read counts to the total number of transcripts in each sample,\n",
    "    scaled to a million\n",
    "-   **Library size normalization:** Normalizing the read counts to the\n",
    "    total number of reads or transcripts in each sample, adjusted for\n",
    "    sequencing depth\n",
    "\n",
    "All the above suffer from distorting some gene expressions, especially\n",
    "if the data varies a lot in term of sequencing depth. A new and more\n",
    "advanced method, at the moment the state-of-the-art, is `SCTransform`\n",
    "(Hafemeister and Satija (2019)), a software package that can **correct\n",
    "for technical sources of variation and remove batch effects**.\n",
    "\n",
    "### Finding technical sources of variation\n",
    "\n",
    "Before normalizing we want to check for technical sources of variation\n",
    "in the data. One of those is the total number of transcripts: two\n",
    "similar cells might be sequenced at different depth. This influences of\n",
    "course normalization. The influence of the number of transcripts per\n",
    "cell is however always removed by `SCtransform`.\n",
    "\n",
    "We want to look into other possible sources of variation. Those are\n",
    "usually quantities we calculate for each cell, for example the\n",
    "percentage of mitochondrial and chloroplastic genes.\n",
    "\n",
    "To see if those quantities actually influence our data a lot, we check\n",
    "how much is their highest correlation with the first 10 components of\n",
    "the PCA of the dataset. In short, **we see if any technical variation is\n",
    "such that it explains much of the variability of the data, covering\n",
    "possibly biological signal**.\n",
    "\n",
    "We now use the function `plotCorrelations` to plot the highest\n",
    "correlation of three quantities with the PCA: number of transcripts,\n",
    "percent of mitochondrial genes and percent of chloroplastic genes. You\n",
    "will see in [Figure 13](#fig-corr) how **there is little correlation for\n",
    "the two percentages**, for which we do not need to worry about, while\n",
    "**there is correlation with the total number of transcripts per cell**\n",
    "(this is always expected and, as mentioned before, is removed\n",
    "automatically by the normalization process). We created the function\n",
    "`plotCorrelations` specifically for the course, together with a few\n",
    "others, mostly for plotting or handling tables. You can find them in the\n",
    "file `script.R`."
   ]
  },
  {
   "cell_type": "code",
   "execution_count": null,
   "id": "fig-corr",
   "metadata": {
    "tags": [],
    "vscode": {
     "languageId": "r"
    }
   },
   "outputs": [],
   "source": [
    "plotCorrelations( object=Control1_seurat, measures=c('nCount_RNA', 'percent.mt', 'percent.chloroplast') )"
   ]
  },
  {
   "cell_type": "markdown",
   "id": "2a0e0790-f42a-4b52-91da-e00125c7e98f",
   "metadata": {},
   "source": [
    "### Executing normalization\n",
    "\n",
    "We run `SCtransform` normalization below. Here you can choose to\n",
    "subsample some cells to do the normalization (`ncells` option): this is\n",
    "**useful to avoid ending up waiting for a long time**. A few thousands\n",
    "cells is enough.\n",
    "\n",
    "You can also choose how many genes to consider for normalization\n",
    "(`variable.features.n` option): in this case it is best to **use the\n",
    "genes that vary the most their expression across cells**. We look at a\n",
    "histogram ([Figure 14](#fig-hvg)) of the variance of each gene to choose\n",
    "a threshold to identify highly-variable genes."
   ]
  },
  {
   "cell_type": "code",
   "execution_count": null,
   "id": "28f3ca03-333b-4c14-825b-59fbfa17c888",
   "metadata": {
    "vscode": {
     "languageId": "r"
    }
   },
   "outputs": [],
   "source": [
    "variance_genes <- apply( as.matrix(Control1_seurat_filt[['RNA']]@counts), 1, var)\n",
    "\n",
    "options(repr.plot.width=14, repr.plot.height=5)\n",
    "\n",
    "plot1 <- ggplot(data.frame(variance_genes), aes(variance_genes)) + \n",
    "     geom_histogram(fill=\"#69b3a2\", color=\"#e9ecef\", alpha=0.9) + xlim(0,1)\n",
    "\n",
    "plot1"
   ]
  },
  {
   "cell_type": "code",
   "execution_count": null,
   "id": "934a87ae-3160-4c2b-a282-c18707ec9ed3",
   "metadata": {
    "vscode": {
     "languageId": "r"
    }
   },
   "outputs": [],
   "source": [
    "hvighly_var_genes <- variance_genes > .1\n",
    "cat(\"The total number of highly variable genes selected is: \")\n",
    "cat(sum( hvighly_var_genes ))"
   ]
  },
  {
   "cell_type": "code",
   "execution_count": null,
   "id": "39bf61ce-7820-498b-8695-8b90d67efbb9",
   "metadata": {
    "tags": [],
    "vscode": {
     "languageId": "r"
    }
   },
   "outputs": [],
   "source": [
    "Control1_seurat_norm <- SCTransform(Control1_seurat_filt, \n",
    "                                             return.only.var.genes = FALSE, \n",
    "                                             ncells = 3000, \n",
    "                                             variable.features.n = sum( hvighly_var_genes ),\n",
    "                                             verbose = FALSE)"
   ]
  },
  {
   "cell_type": "markdown",
   "id": "712c985c-ee9c-43b9-b947-3a77c82f27f8",
   "metadata": {},
   "source": [
    "Normalized data is now in the object `Control1_seurat_norm`, in a new\n",
    "assay called `SCT`. This assay is now the default used for data\n",
    "analysis: you can verify it very easily below:"
   ]
  },
  {
   "cell_type": "code",
   "execution_count": null,
   "id": "baba2916-0df4-44dc-a29a-6e5a70757fda",
   "metadata": {
    "vscode": {
     "languageId": "r"
    }
   },
   "outputs": [],
   "source": [
    "cat(\"Your default assay is \")\n",
    "cat(DefaultAssay(object = Control1_seurat_norm))"
   ]
  },
  {
   "cell_type": "markdown",
   "id": "d3ee0ba4-bc92-434c-a6d2-09a896f04f00",
   "metadata": {},
   "source": [
    "### Visualizing the result\n",
    "\n",
    "Now we plot the UMAP plot of the data to have a first impression of how\n",
    "the data is structured (presence of clusters, how many, etc.). First of\n",
    "all, we create a PCA plot, which tells us how many PCA components are of\n",
    "relevance with the elbow plot of [Figure 15](#fig-elbow). In the elbow\n",
    "plot, we see the variability of each component in descending order. Note\n",
    "how, after a few rapidly descending components, there is an elbow. We\n",
    "schoose a threshold just after the elbow (for example at 15), which\n",
    "means those components will be used to calculate some other things of\n",
    "relevance in the data, such as distance between cells and the UMAP\n",
    "projection of [Figure 16](#fig-umap): specific commands using PCA allow\n",
    "to choose the components, and we will set 10 with the option\n",
    "`dims = 1:15`."
   ]
  },
  {
   "cell_type": "code",
   "execution_count": null,
   "id": "52c6925b-4206-4187-afa9-95f414c4e725",
   "metadata": {
    "tags": [],
    "vscode": {
     "languageId": "r"
    }
   },
   "outputs": [],
   "source": [
    "Control1_seurat_norm <- FindVariableFeatures(Control1_seurat_norm,\n",
    "                                                     nfeatures = sum( hvighly_var_genes ))"
   ]
  },
  {
   "cell_type": "code",
   "execution_count": null,
   "id": "10b40250-3125-413a-a2a6-f346b6462406",
   "metadata": {
    "tags": [],
    "vscode": {
     "languageId": "r"
    }
   },
   "outputs": [],
   "source": [
    "Control1_seurat_norm <- RunPCA(object = Control1_seurat_norm, \n",
    "                                        verbose = FALSE, seed.use = 123)"
   ]
  },
  {
   "cell_type": "code",
   "execution_count": null,
   "id": "782148bc-c277-4e09-925b-01aefb4eb6e4",
   "metadata": {
    "vscode": {
     "languageId": "r"
    }
   },
   "outputs": [],
   "source": [
    "ElbowPlot(Control1_seurat_norm, ndims = 30)"
   ]
  },
  {
   "cell_type": "markdown",
   "id": "b7f22a39-e502-44ac-a45d-103625e27e19",
   "metadata": {},
   "source": [
    "We calculate the projection using the UMAP algorithm (McInnes et al.\n",
    "(2018), Becht et al. (2019)). The parameters `a` and `b` will change how\n",
    "stretched or sparsed the data looks like. When you do your own UMAP\n",
    "projection, you can avoid setting `a` and `b`, and those will be chosen\n",
    "automatically by the command."
   ]
  },
  {
   "cell_type": "code",
   "execution_count": null,
   "id": "cfa2744c-c97e-444c-9bee-c0b93e8f8dad",
   "metadata": {
    "tags": [],
    "vscode": {
     "languageId": "r"
    }
   },
   "outputs": [],
   "source": [
    "Control1_seurat_norm <- RunUMAP(object = Control1_seurat_norm, \n",
    "                                         a = .8, b=1,\n",
    "                                         dims = 1:15, \n",
    "                                         verbose = FALSE, \n",
    "                                         seed.use = 123)"
   ]
  },
  {
   "cell_type": "markdown",
   "id": "5a54b762-f9ef-4233-a188-da6e5009636e",
   "metadata": {},
   "source": [
    "In [Figure 16](#fig-umap) we can see the resulting projection. The\n",
    "result looks pretty neat and structured (we can clearly see there are\n",
    "various clusters)."
   ]
  },
  {
   "cell_type": "code",
   "execution_count": null,
   "id": "a4ca9558-d7ba-4d46-9f1c-c762ae4396d1",
   "metadata": {
    "tags": [],
    "vscode": {
     "languageId": "r"
    }
   },
   "outputs": [],
   "source": [
    "options(repr.plot.width=10, repr.plot.height=8)\n",
    "UMAPPlot(object = Control1_seurat_norm)"
   ]
  },
  {
   "cell_type": "markdown",
   "id": "5fa919b7-0ad6-4402-8fb0-77d0f1f1530a",
   "metadata": {},
   "source": [
    "## Removing doublets\n",
    "\n",
    "Doublets removal is part of filtering, but it needs normalized data to\n",
    "work. This is why we do it after using `SCtransform`.\n",
    "\n",
    "Doublets (and the very rare multiplets) refer to droplets that **contain\n",
    "the transcriptional profiles of two or more distinct cells**. Doublets\n",
    "can occur during the cell dissociation process or when two or more cells\n",
    "are captured in the same droplet during the library preparation step.\n",
    "\n",
    "It is quite obvious that a doublet transcriptional profile can confound\n",
    "downstream analyses, such as cell clustering and differential gene\n",
    "expression analysis. Most doublet detectors, like `DoubletFinder`\n",
    "(McGinnis, Murrow, and Gartner (2019)) which we will use, **simulates\n",
    "doublets and then finds cells in the data which are similar to the\n",
    "simulated doublets**. Most such packages need an idea of the\n",
    "number/proportion of expected doublets in the dataset. **As indicated\n",
    "from the Chromium user guide, expected doublet rates are about as\n",
    "follows:**\n",
    "\n",
    "![Figure 17: Table of expected doublet rates based on the number of\n",
    "cells.](attachment:./images/doublet_rates.png)\n",
    "\n",
    "The data we are using contained about 10000 cells per sample (as in the\n",
    "knee plot at the beginning), hence we can assume that it originates from\n",
    "around 18000 loaded cells and should have a doublet rate at about 7.6%.\n",
    "\n",
    "> **Note**\n",
    ">\n",
    "> Doublet prediction, like the rest of the filtering, **should be run on\n",
    "> each sample separately**.\n",
    "\n",
    "Here, we apply `DoubletFinder` to predict doublet cells. Most parameters\n",
    "are quite standard, we mostly need to choose `nExp` (expected number of\n",
    "doublets), `PCs` (number of principal components to use), `sct` (use the\n",
    "normalized data). The last three option are not part of the package, but\n",
    "have been added by creating a slightly modified version\n",
    "([here](https://github.com/SamueleSoraggi/DoubletFinder)) - they allow\n",
    "to use multiple cores and a subset of cells for calculations for a\n",
    "considerable speedup. However, the code takes some time to run, so be\n",
    "patient."
   ]
  },
  {
   "cell_type": "code",
   "execution_count": null,
   "id": "4758a690-a552-4f3d-ae25-e8d7b347e84b",
   "metadata": {
    "tags": [],
    "vscode": {
     "languageId": "r"
    }
   },
   "outputs": [],
   "source": [
    "nExp <- round(ncol(Control1_seurat_norm) * 0.076)  # expected doublet rate"
   ]
  },
  {
   "cell_type": "code",
   "execution_count": null,
   "id": "c5ea95fb-4a1b-4cb2-b962-05ea1abcf94a",
   "metadata": {
    "tags": [],
    "vscode": {
     "languageId": "r"
    }
   },
   "outputs": [],
   "source": [
    "Control1_seurat_norm <- doubletFinder_v3(Control1_seurat_norm,\n",
    "                                                  pN = 0.25, #proportion of doublets to simulate)\n",
    "                                                  pK = 0.09, \n",
    "                                                  nExp = nExp, \n",
    "                                                  PCs = 1:15, \n",
    "                                                  sct=TRUE, \n",
    "                                                  workers=8, \n",
    "                                                  future.globals.maxSize = 8*1024^13,\n",
    "                                                  seurat.ncells=3000)"
   ]
  },
  {
   "cell_type": "markdown",
   "id": "e1636f75-454c-48db-b01d-da93d2be5d5c",
   "metadata": {},
   "source": [
    "We visualize the UMAP plot and which cells are estimated doublets in\n",
    "[Figure 18](#fig-doublets). Fortunately, there are only a few to\n",
    "discard."
   ]
  },
  {
   "cell_type": "code",
   "execution_count": null,
   "id": "bf816830-2d36-4e1d-8b18-a82b61d77191",
   "metadata": {
    "tags": [],
    "vscode": {
     "languageId": "r"
    }
   },
   "outputs": [],
   "source": [
    "options(repr.plot.width=10, repr.plot.height=10)\n",
    "\n",
    "DF.name = colnames(Control1_seurat_norm@meta.data)[grepl(\"DF.classification\", colnames(Control1_seurat_norm@meta.data))]\n",
    "\n",
    "DimPlot(Control1_seurat_norm, group.by = DF.name, pt.size = 2, \n",
    "        split.by = DF.name)"
   ]
  },
  {
   "cell_type": "markdown",
   "id": "80543f2a-593d-41da-994c-3a7fb3d5ff3f",
   "metadata": {},
   "source": [
    "Sometimes doublets have more detected genes than a single cell. In our\n",
    "case, some of the droplets have higher number of genes than the average\n",
    "(the red violin is large also above 3000 detected genes), so there is\n",
    "aclear sign of the presence of some doublets. Of course, as with any\n",
    "filtering, we might remove some actual cells. To be more effective in\n",
    "our filtering, we can select doublets with more than 2000 detected genes\n",
    "when we filter."
   ]
  },
  {
   "cell_type": "code",
   "execution_count": null,
   "id": "99a63c8a-d3a5-4fbc-8469-aaddd120b1e8",
   "metadata": {
    "tags": [],
    "vscode": {
     "languageId": "r"
    }
   },
   "outputs": [],
   "source": [
    "VlnPlot(Control1_seurat_norm, features = \"nFeature_RNA\", group.by = DF.name, pt.size = 0.1)"
   ]
  },
  {
   "cell_type": "markdown",
   "id": "10478903-d315-47b8-9ce9-09453f88762f",
   "metadata": {},
   "source": [
    "Here we keep only singlets:"
   ]
  },
  {
   "cell_type": "code",
   "execution_count": null,
   "id": "9d216a9f-9f31-4bfc-b413-d777b5b1d240",
   "metadata": {
    "tags": [],
    "vscode": {
     "languageId": "r"
    }
   },
   "outputs": [],
   "source": [
    "Control1_seurat_norm = Control1_seurat_norm[, (Control1_seurat_norm@meta.data[, DF.name] == \"Singlet\")&(Control1_seurat_norm@meta.data$nFeature_RNA>2000)]"
   ]
  },
  {
   "cell_type": "markdown",
   "id": "20f139fa-c554-42cf-9e5d-e0e481c57f98",
   "metadata": {},
   "source": [
    "We save our data after all the filtering work!"
   ]
  },
  {
   "cell_type": "code",
   "execution_count": null,
   "id": "284e7e53-af47-499b-87f7-eea30571f278",
   "metadata": {
    "tags": [],
    "vscode": {
     "languageId": "r"
    }
   },
   "outputs": [],
   "source": [
    "SaveH5Seurat(object = Control1_seurat_norm, \n",
    "             filename = \"control1.normalized.h5Seurat\", \n",
    "             overwrite = TRUE,\n",
    "             verbose = FALSE)"
   ]
  },
  {
   "cell_type": "markdown",
   "id": "4267b202-de2f-4804-bcd7-4ac62084fdbd",
   "metadata": {},
   "source": [
    "# Integration\n",
    "\n",
    "Integration of scRNA-seq data is useful to combine datasets from\n",
    "different experimental conditions (in our case the Control vs Infected)\n",
    "and sequencing runs, to gain a broader understanding of cellular\n",
    "processes. Integration is challenging due to technical variations and\n",
    "biological differences between the datasets (where we want to remove the\n",
    "formers to study correctly the latters).\n",
    "\n",
    "Before integrating scRNA-seq datasets, we have applyed **quality control\n",
    "and normalization to each sample** to ensure consistency and accuracy of\n",
    "the data. Integration can happen using various methods (Adossa et al.\n",
    "(2021)). Seurat uses **canonical correlation analysis (CCA)** (Stuart et\n",
    "al. (2019), Xinming (2022)) to integrate scRNA-seq datasets from\n",
    "different experimental conditions. CCA identifies shared variation\n",
    "between two datasets while accounting for technical differences, such as\n",
    "batch effects.\n",
    "\n",
    "The shared covariance patterns **can represent biological signals that\n",
    "are common across the datasets**, such as cell types or signaling\n",
    "pathways.\n",
    "\n",
    "We load another control and two infected datasets. Those have been\n",
    "previously preprocessed, so you will not need to. Remember again: each\n",
    "dataset must be preprocessed separately before integration."
   ]
  },
  {
   "cell_type": "code",
   "execution_count": null,
   "id": "c97153f5-519b-45e9-a98e-bb1fd6c482d2",
   "metadata": {
    "tags": [],
    "vscode": {
     "languageId": "r"
    }
   },
   "outputs": [],
   "source": [
    "Control1_seurat_norm <- LoadH5Seurat(\"control1.normalized.h5Seurat\", verbose = FALSE)"
   ]
  },
  {
   "cell_type": "code",
   "execution_count": null,
   "id": "fbc6644a-f762-4177-9890-c5b0ec3a294a",
   "metadata": {
    "tags": [],
    "vscode": {
     "languageId": "r"
    }
   },
   "outputs": [],
   "source": [
    "Control2_seurat_norm <- LoadH5Seurat(\"../Data/control2.normalized.h5Seurat\", verbose = FALSE)\n",
    "Infected1_seurat_norm <- LoadH5Seurat(\"../Data/infected1.normalized.h5Seurat\", verbose = FALSE)\n",
    "Infected2_seurat_norm <- LoadH5Seurat(\"../Data/infected2.normalized.h5Seurat\", verbose = FALSE)"
   ]
  },
  {
   "cell_type": "markdown",
   "id": "148d2faa-e5b8-43c3-a60f-990dece8d259",
   "metadata": {},
   "source": [
    "To integrate the datasets, we need to start creating a list with all\n",
    "datasets."
   ]
  },
  {
   "cell_type": "code",
   "execution_count": null,
   "id": "0eaf8129-cc09-4824-bcb0-45b4b61c0d03",
   "metadata": {
    "tags": [],
    "vscode": {
     "languageId": "r"
    }
   },
   "outputs": [],
   "source": [
    "Gifu.list <- list(Control1_seurat_norm, \n",
    "                  Control2_seurat_norm, \n",
    "                  Infected1_seurat_norm, \n",
    "                  Infected2_seurat_norm)"
   ]
  },
  {
   "cell_type": "markdown",
   "id": "a0d8544f-7f61-4a16-bd34-cf7acc561b54",
   "metadata": {},
   "source": [
    "We then start by normalizing each dataset of the list with\n",
    "`SCtransform`. Here we also have a commented command (with the symbol\n",
    "`#`) that is not executed, to show how you add technical variations to\n",
    "be removed with the option `vars.to.regress`, if necessary (this is not\n",
    "the case of the tutorial)."
   ]
  },
  {
   "cell_type": "code",
   "execution_count": null,
   "id": "6ce3ddac-6946-4c4b-84e6-18e7b0cd983b",
   "metadata": {
    "tags": [],
    "vscode": {
     "languageId": "r"
    }
   },
   "outputs": [],
   "source": [
    "Gifu.list <- lapply(X = Gifu.list, FUN = function(x) {\n",
    "  message(\"Normalizing\\n\")\n",
    "  #x <- SCTransform(x, vars.to.regress = c(\"percent.mt\",  \"percent.chloroplast\"), variable.features.n = 10000, return.only.var.genes = FALSE, verbose = TRUE)\n",
    "  x <- SCTransform(x, ncells=3000, variable.features.n = 10000, return.only.var.genes = FALSE, verbose=FALSE)\n",
    "})"
   ]
  },
  {
   "cell_type": "markdown",
   "id": "e0650f8c-e0b7-4298-bdcb-88b437d276ca",
   "metadata": {},
   "source": [
    "Now we apply the CCA (Canonical Correlation Analysis) to put datasets\n",
    "together according to their similarities, while removing differences.\n",
    "The number of genes to use during integration is expressed below as\n",
    "`nfeatures`. We choose a reasonable number of features, for example\n",
    "10000, which is similar to what we used in the normalization steps along\n",
    "the tutorial."
   ]
  },
  {
   "cell_type": "code",
   "execution_count": null,
   "id": "8e3afc7b-1e1d-490a-b5ec-7b2ac2146709",
   "metadata": {
    "tags": [],
    "vscode": {
     "languageId": "r"
    }
   },
   "outputs": [],
   "source": [
    "Gifu.features <- SelectIntegrationFeatures(object.list = Gifu.list, nfeatures = 10000)\n",
    "\n",
    "Gifu.list <- PrepSCTIntegration(object.list = Gifu.list, anchor.features = Gifu.features)"
   ]
  },
  {
   "cell_type": "code",
   "execution_count": null,
   "id": "18e7c28f-17c3-4079-a539-8a6800f55e6a",
   "metadata": {
    "tags": [],
    "vscode": {
     "languageId": "r"
    }
   },
   "outputs": [],
   "source": [
    "Gifu.anchors <- FindIntegrationAnchors(object.list = Gifu.list, normalization.method = \"SCT\", \n",
    "                                       anchor.features = Gifu.features, reference = c(1,2))\n",
    "\n",
    "seurat.integrated <- IntegrateData(anchorset = Gifu.anchors, normalization.method = \"SCT\")"
   ]
  },
  {
   "cell_type": "markdown",
   "id": "fed816b2-6f87-4753-8d59-50599c7ac28e",
   "metadata": {},
   "source": [
    "Now the default assay used for analysis has changed into `integrated`:"
   ]
  },
  {
   "cell_type": "code",
   "execution_count": null,
   "id": "69b95f8e-38c2-4a43-be3a-571e620ff5bc",
   "metadata": {
    "tags": [],
    "vscode": {
     "languageId": "r"
    }
   },
   "outputs": [],
   "source": [
    "cat(\"The default assay of the data is now called: \")\n",
    "cat(DefaultAssay(seurat.integrated))"
   ]
  },
  {
   "cell_type": "markdown",
   "id": "8dd832d0-a72b-44d6-94f6-e0e08c29b257",
   "metadata": {},
   "source": [
    "We need to recalculate PCA and UMAP to look at all datasets integrated\n",
    "together. We choose again 10 principal components from\n",
    "[Figure 19](#fig-elbowint). The newUMAP is in [Figure 20](#fig-umapint)."
   ]
  },
  {
   "cell_type": "code",
   "execution_count": null,
   "id": "4ee96010-92e7-4e9f-87e1-ba2977bb4d38",
   "metadata": {
    "tags": [],
    "vscode": {
     "languageId": "r"
    }
   },
   "outputs": [],
   "source": [
    "seurat.integrated <- RunPCA(object = seurat.integrated, verbose = FALSE)"
   ]
  },
  {
   "cell_type": "code",
   "execution_count": null,
   "id": "095908a2-3865-4128-874f-0a81f5da4369",
   "metadata": {
    "vscode": {
     "languageId": "r"
    }
   },
   "outputs": [],
   "source": [
    "ElbowPlot(seurat.integrated, ndims = 30)"
   ]
  },
  {
   "cell_type": "code",
   "execution_count": null,
   "id": "f851009f-e53b-4736-95ef-636fc762d2a8",
   "metadata": {
    "tags": [],
    "vscode": {
     "languageId": "r"
    }
   },
   "outputs": [],
   "source": [
    "seurat.integrated <- FindNeighbors(object = seurat.integrated, dims = 1:20, k.param = 5)"
   ]
  },
  {
   "cell_type": "code",
   "execution_count": null,
   "id": "37542f23-9491-43d1-97f7-2dd628671645",
   "metadata": {
    "tags": [],
    "vscode": {
     "languageId": "r"
    }
   },
   "outputs": [],
   "source": [
    "seurat.integrated <- RunUMAP(object = seurat.integrated, dims = 1:20)"
   ]
  },
  {
   "cell_type": "code",
   "execution_count": null,
   "id": "d8e1c1bd-5548-4b0b-b081-37dbb92e95c2",
   "metadata": {
    "vscode": {
     "languageId": "r"
    }
   },
   "outputs": [],
   "source": [
    "seurat.integrated <- SetIdent(seurat.integrated, value = \"orig.ident\")"
   ]
  },
  {
   "cell_type": "code",
   "execution_count": null,
   "id": "50faac00-7008-4b4f-995e-ab8e821ff7c5",
   "metadata": {
    "tags": [],
    "vscode": {
     "languageId": "r"
    }
   },
   "outputs": [],
   "source": [
    "options(repr.plot.width=10, repr.plot.height=8)\n",
    "DimPlot(object = seurat.integrated, reduction = \"umap\",  label = T, repel = TRUE, pt.size = 0.5)"
   ]
  },
  {
   "cell_type": "markdown",
   "id": "dc2c5c9d-2380-41d4-b119-e2dcdad7be54",
   "metadata": {},
   "source": [
    "We save our integrated data"
   ]
  },
  {
   "cell_type": "code",
   "execution_count": null,
   "id": "4495c106-d037-422e-9add-c105c885e4f9",
   "metadata": {
    "tags": [],
    "vscode": {
     "languageId": "r"
    }
   },
   "outputs": [],
   "source": [
    "SaveH5Seurat(object = seurat.integrated, filename = \"seurat.integrated.h5Seurat\", overwrite=TRUE)"
   ]
  },
  {
   "cell_type": "markdown",
   "id": "9dfed52e-aea7-483d-ae89-9e8d22c034b5",
   "metadata": {},
   "source": [
    "## Clustering and cell type assignment\n",
    "\n",
    "We perform clustering on the data using the leiden algorithm\n",
    "(blondel_fast_2008, Traag, Waltman, and Van Eck (2019)). Then, we look\n",
    "at a typical strategy of **naming clusters by visualizing known\n",
    "markers**. Since this is very subjective and biased, we then resort to\n",
    "naming cell types **using a reference annotated dataset**. An overview\n",
    "of cell type assignment procedures can be found at Cheng et al. (2023)."
   ]
  },
  {
   "cell_type": "code",
   "execution_count": null,
   "id": "466fa682-e168-4c00-959b-ca02100f88f0",
   "metadata": {
    "vscode": {
     "languageId": "r"
    }
   },
   "outputs": [],
   "source": [
    "seurat.integrated <-  LoadH5Seurat(\"seurat.integrated.h5Seurat\", verbose=FALSE)"
   ]
  },
  {
   "cell_type": "markdown",
   "id": "3a4ca9b5-300c-45de-85ac-e73d6b586e66",
   "metadata": {},
   "source": [
    "Clustering function `FindClusters`. The resolution is used to change the\n",
    "number of clusters. We do not need many, so we set on to 0.25. Usual\n",
    "values range between 0.1 and 1."
   ]
  },
  {
   "cell_type": "code",
   "execution_count": null,
   "id": "ee75584b-ac4e-4d6f-9259-9df230ce6eda",
   "metadata": {
    "tags": [],
    "vscode": {
     "languageId": "r"
    }
   },
   "outputs": [],
   "source": [
    "seurat.integrated <- FindClusters(object = seurat.integrated, resolution = .25)"
   ]
  },
  {
   "cell_type": "markdown",
   "id": "3c26f295-5dea-482a-98ac-0dc8144d5212",
   "metadata": {},
   "source": [
    "The clusters are saved in the meta data table as\n",
    "`integrated_snn_res.0.25`. **Note that the name changes with the\n",
    "resolution**. Also observe how much metadata we have: many columns come\n",
    "from tools we have applied, such as doubletfinder (DF) and nearest\n",
    "neighbor distances (snn)."
   ]
  },
  {
   "cell_type": "code",
   "execution_count": null,
   "id": "a5cbf278-efa4-4c88-a2f5-c76431de9725",
   "metadata": {
    "tags": [],
    "vscode": {
     "languageId": "r"
    }
   },
   "outputs": [],
   "source": [
    "head( seurat.integrated@meta.data )"
   ]
  },
  {
   "cell_type": "markdown",
   "id": "f92edcfa-391e-4715-89f3-fe5d9464ea4d",
   "metadata": {},
   "source": [
    "We can plot the clusters in the UMAP plot"
   ]
  },
  {
   "cell_type": "code",
   "execution_count": null,
   "id": "564b5c82-27cc-411d-8695-b28b621df728",
   "metadata": {
    "tags": [],
    "vscode": {
     "languageId": "r"
    }
   },
   "outputs": [],
   "source": [
    "options(repr.plot.width=10, repr.plot.height=8)\n",
    "DimPlot(object = seurat.integrated, reduction = \"umap\",  label = T, repel = TRUE, pt.size = 0.5)"
   ]
  },
  {
   "cell_type": "markdown",
   "id": "af8e1b64-d2d2-41e8-8e3f-81da2f9d544f",
   "metadata": {},
   "source": [
    "### Cluster assignment from visualized marker scores\n",
    "\n",
    "Here, we look at how to assign names based on known markers. In this\n",
    "procedure, biological knowledge of the cell types is needed. Below,\n",
    "there is a list of known markers for each cell type, extracted from the\n",
    "supplementary data of Frank et al. (2023)."
   ]
  },
  {
   "cell_type": "code",
   "execution_count": null,
   "id": "65b6e320-d155-401e-a865-8db4769fe248",
   "metadata": {
    "vscode": {
     "languageId": "r"
    }
   },
   "outputs": [],
   "source": [
    "features_list <- list(\n",
    "    'Cortex_scoring' = c(\"LotjaGi1g1v0006200\",\n",
    "                 \"LotjaGi1g1v0022100\",\n",
    "                 \"LotjaGi1g1v0261700\",\n",
    "                 \"LotjaGi1g1v0348000\",\n",
    "                 \"LotjaGi2g1v0303000\",\n",
    "                 \"LotjaGi3g1v0505900\"),\n",
    "    'Epidermis_scoring' = c(\"LotjaGi1g1v0080000\",\n",
    "                    \"LotjaGi1g1v0377600\",\n",
    "                    \"LotjaGi1g1v0613100\",\n",
    "                    \"LotjaGi3g1v0070500\"),\n",
    "    'Endodermis_scoring' = c(\"LotjaGi1g1v0114400\",\n",
    "                     \"LotjaGi1g1v0221300\",\n",
    "                     \"LotjaGi1g1v0240900-LC\",\n",
    "                     \"LotjaGi1g1v0707500\"), \n",
    "    'RootCap_scoring' = c(\"LotjaGi1g1v0020900\",\n",
    "                   \"LotjaGi1g1v0039700-LC\",\n",
    "                   \"LotjaGi1g1v0040300\",\n",
    "                   \"LotjaGi1g1v0147500\"),  \n",
    "    'Meristem_scoring'= c(\"LotjaGi4g1v0300900\",\n",
    "                         \"LotjaGi6g1v0056500\",\n",
    "                         \"LotjaGi1g1v0594200\"),\n",
    "    'Phloem_scoring'= c(\"LotjaGi1g1v0028800\",\n",
    "                \"LotjaGi1g1v0085900\",\n",
    "                \"LotjaGi1g1v0119300\",\n",
    "                \"LotjaGi1g1v0149100\"),\n",
    "    'QuiescentCenter_scoring' = c(\"LotjaGi1g1v0004300\",\n",
    "                           \"LotjaGi1g1v0021400\",\n",
    "                           \"LotjaGi1g1v0052700\",\n",
    "                           \"LotjaGi1g1v0084000\"),\n",
    "    'RootHair_scoring'= c(\"LotjaGi1g1v0014300\",\n",
    "                   \"LotjaGi1g1v0109000\",\n",
    "                   \"LotjaGi1g1v0109100\",\n",
    "                   \"LLotjaGi1g1v0143900\"),  \n",
    "    'Pericycle_scoring'= c(\"LotjaGi3g1v0222100\",\n",
    "                   \"LotjaGi3g1v0395900-LC\",\n",
    "                   \"LotjaGi5g1v0166000-LC\",\n",
    "                   \"LotjaGi3g1v0395500-LC\",\n",
    "                   \"LotjaGi1g1v0783700-LC\",\n",
    "                   \"LotjaGi2g1v0333200\",\n",
    "                   \"LotjaGi4g1v0293000-LC\"),     \n",
    "    'Stele_scoring' = c(\"LotjaGi2g1v0126700\",\n",
    "                \"LotjaGi1g1v0558200\",\n",
    "                \"LotjaGi4g1v0215500\",\n",
    "                \"LotjaGi3g1v0174100\",\n",
    "                \"LotjaGi5g1v0288600\",\n",
    "                \"LotjaGi3g1v0129700\"),\n",
    "    'Xylem_scoring' = c(\"LotjaGi1g1v0623100\",\n",
    "                \"LotjaGi1g1v0569300\",\n",
    "                \"LotjaGi1g1v0443000\",\n",
    "                \"LotjaGi1g1v0428800\")\n",
    "    )"
   ]
  },
  {
   "cell_type": "markdown",
   "id": "d3076b1d-45ce-41fb-bd18-b8720eff7607",
   "metadata": {},
   "source": [
    "Here, we need a function calculating the scores for each cell type. This\n",
    "is the average expression of the markers in the list, from which we\n",
    "remove the average expression of some control genes, which are supposed\n",
    "not to be specific for the cell type of interest. The cells matching the\n",
    "desired type should retain a high score."
   ]
  },
  {
   "cell_type": "code",
   "execution_count": null,
   "id": "dd5da9b0-6a74-4a72-b751-eb7d6767279e",
   "metadata": {
    "vscode": {
     "languageId": "r"
    }
   },
   "outputs": [],
   "source": [
    "seurat.clustered <- AddModuleScore(\n",
    "  object = seurat.integrated,\n",
    "  features = features_list,\n",
    "  ctrl = 5,\n",
    "  name = 'LJ_scores'\n",
    ")"
   ]
  },
  {
   "cell_type": "markdown",
   "id": "7d1543fd-6f58-4dcc-b125-0359cf221136",
   "metadata": {},
   "source": [
    "We also apply a function (from `script.R`) to rename the scores in the\n",
    "metadata. Their names are not intuitive by default, they are all called\n",
    "with the name chosen above and a number after it:"
   ]
  },
  {
   "cell_type": "code",
   "execution_count": null,
   "id": "87e03de7-83a6-4f64-b80b-0696e74aa9e8",
   "metadata": {
    "vscode": {
     "languageId": "r"
    }
   },
   "outputs": [],
   "source": [
    "names(seurat.clustered@meta.data)"
   ]
  },
  {
   "cell_type": "code",
   "execution_count": null,
   "id": "ac00c582-8621-41e2-8c18-0aca6c5edd2d",
   "metadata": {
    "vscode": {
     "languageId": "r"
    }
   },
   "outputs": [],
   "source": [
    "seurat.clustered <- renameScores(markers_list = features_list, seurat_data = seurat.clustered)      "
   ]
  },
  {
   "cell_type": "markdown",
   "id": "e039e942-5e89-4162-abfe-944fa285d36f",
   "metadata": {},
   "source": [
    "Now we run the function `plotScoresUMAP` (from the file `script.R`). In\n",
    "[Figure 22](#fig-scores) we can see that some clusters are easy to\n",
    "classify (phloem and xylem), but many others are not. This is mainly due\n",
    "to the fact that the change of many cell types is a continuum, and this\n",
    "manual annotation is very subjective."
   ]
  },
  {
   "cell_type": "code",
   "execution_count": null,
   "id": "8ddc9813-7e75-4fc4-a7f6-087388a9a7c9",
   "metadata": {
    "vscode": {
     "languageId": "r"
    }
   },
   "outputs": [],
   "source": [
    "plotScoresUMAP(markers_list = features_list, seurat_data = seurat.clustered)                                  "
   ]
  },
  {
   "cell_type": "markdown",
   "id": "32c5b7d2-b79d-4b9c-bee9-92bcef0cbcfa",
   "metadata": {},
   "source": [
    "Just for the sake of the exercise, we set some names to the clusters\n",
    "below, at least for those ones that are well identifiable. Note that we\n",
    "use `idents` to define which is the clustering to be considered in use\n",
    "in the data."
   ]
  },
  {
   "cell_type": "code",
   "execution_count": null,
   "id": "d0f8b06a-1863-4af4-8c54-0a7e170dbf48",
   "metadata": {
    "tags": [],
    "vscode": {
     "languageId": "r"
    }
   },
   "outputs": [],
   "source": [
    "Idents(seurat.clustered) <- 'integrated_snn_res.0.25'\n",
    "\n",
    "seurat.clustered <- RenameIdents(object = seurat.clustered,\n",
    "                               \"2\"=\"Cortex\", \"5\"=\"Cortex\", \"11\"=\"Cortex\",\n",
    "                               \"6\"=\"Epidermis\", \"12\"=\"Epidermis\", \"7\"=\"Epidermis\",\n",
    "                               \"15\"=\"Endodermis\",  \n",
    "                               \"0\"=\"Root_Cap\", \"13\"=\"Root_Cap\",\n",
    "                               \"16\"=\"Meristem\",  \n",
    "                               \"17\"=\"Phloem\",\n",
    "                               \"10\"=\"Root_Hair\", \"9\"=\"Root_Hair\",\n",
    "                               \"1\"=\"PericycleStele\", \n",
    "                               \"3\"=\"Pericycle\", \"19\"=\"Pericycle\",\n",
    "                               \"20\"=\"Xylem\")"
   ]
  },
  {
   "cell_type": "markdown",
   "id": "c090f2f8-5252-4673-879d-889e6b5e948f",
   "metadata": {},
   "source": [
    "we saved the renamed clusters in the metadata under `Cell_types`"
   ]
  },
  {
   "cell_type": "code",
   "execution_count": null,
   "id": "5639bf4c-9504-4376-a573-7599a20f7590",
   "metadata": {
    "tags": [],
    "vscode": {
     "languageId": "r"
    }
   },
   "outputs": [],
   "source": [
    "seurat.clustered@meta.data$Cell_types <- Idents(seurat.clustered)"
   ]
  },
  {
   "cell_type": "markdown",
   "id": "a0560651-c6b1-40c2-9d6f-a5e4cd3c18cf",
   "metadata": {},
   "source": [
    "It seems from [Figure 23](#fig-umapbyeye) that we named most clusters.\n",
    "For some others we could not really be sure of the markers, and we will\n",
    "use the reference-based assignment."
   ]
  },
  {
   "cell_type": "code",
   "execution_count": null,
   "id": "7b8bdf05-22d1-40a6-a251-6a2991e8c72a",
   "metadata": {
    "tags": [],
    "vscode": {
     "languageId": "r"
    }
   },
   "outputs": [],
   "source": [
    "options(repr.plot.width=10, repr.plot.height=10)\n",
    "DimPlot(object = seurat.clustered, reduction = \"umap\", repel = TRUE, label=T, pt.size = 2, label.size = 5)"
   ]
  },
  {
   "cell_type": "markdown",
   "id": "a32ece93-cb70-4c4d-ad48-1185cf6ad41b",
   "metadata": {},
   "source": [
    "#### Optional: assigning a mixed cluster\n",
    "\n",
    "The cluster `Pericycle_Stele` is probably a mix of the Pericycle and\n",
    "Stele, because it shows markers from both. We can assign at each cell of\n",
    "the cluster one of the cell types based on which marker score is\n",
    "highest. First we save the old clustering in the metadata to avoid\n",
    "losing it"
   ]
  },
  {
   "cell_type": "code",
   "execution_count": null,
   "id": "7a5ff071-6f4e-48c0-8339-4fbd39a2c026",
   "metadata": {
    "vscode": {
     "languageId": "r"
    }
   },
   "outputs": [],
   "source": [
    "seurat.clustered@meta.data$Cell_types_old <- Idents(seurat.clustered)"
   ]
  },
  {
   "cell_type": "markdown",
   "id": "bf137c81-91d9-4bbf-a63a-a52ac83f0d0d",
   "metadata": {},
   "source": [
    "and then reassign the name to the cluster `Pericycle_Stele` checking the\n",
    "markers score of each cell."
   ]
  },
  {
   "cell_type": "code",
   "execution_count": null,
   "id": "81bde624-d689-474d-9155-f3fe007549e3",
   "metadata": {
    "vscode": {
     "languageId": "r"
    }
   },
   "outputs": [],
   "source": [
    "peri <- seurat.clustered@meta.data$Pericycle_scoring[seurat.clustered@meta.data$Cell_types == 'PericycleStele']\n",
    "stel <- seurat.clustered@meta.data$Stele_scoring[seurat.clustered@meta.data$Cell_types == 'PericycleStele']\n",
    "peri_stele <- peri>=stel\n",
    "finalcl = c()\n",
    "for(i in peri_stele)\n",
    "    finalcl = c(finalcl, ifelse(i, \"Pericycle\", \"Stele\"))\n",
    "\n",
    "celltypes <- unfactor(seurat.clustered@meta.data$Cell_types)\n",
    "celltypes[seurat.clustered@meta.data$Cell_types == 'PericycleStele'] <- finalcl\n",
    "seurat.clustered@meta.data$Cell_types <- celltypes\n",
    "Idents(seurat.clustered) <- seurat.clustered@meta.data$Cell_types"
   ]
  },
  {
   "cell_type": "markdown",
   "id": "d344ae91-e9fa-4271-a116-c64a431b908b",
   "metadata": {},
   "source": [
    "We managed to get a meaningful separation between the two clusters!"
   ]
  },
  {
   "cell_type": "code",
   "execution_count": null,
   "id": "fb4500ea-5c79-4573-8d40-1e9b67150064",
   "metadata": {
    "tags": [],
    "vscode": {
     "languageId": "r"
    }
   },
   "outputs": [],
   "source": [
    "options(repr.plot.width=10, repr.plot.height=10)\n",
    "DimPlot(object = seurat.clustered, reduction = \"umap\", repel = TRUE, label=T, pt.size = 2, label.size = 5)"
   ]
  },
  {
   "cell_type": "markdown",
   "id": "93736b38-5f29-4801-984d-e2a038c05ceb",
   "metadata": {},
   "source": [
    "### Cluster assignment from an annotated dataset\n",
    "\n",
    "We now use the annotated data from Frank et al. (2023) (which is the\n",
    "same we are using in the tutorial) to transfer data labels to our own\n",
    "processed data. More about label transfer can be read at Stuart et al.\n",
    "(2019). We load the data from the paper and define reference and query\n",
    "data."
   ]
  },
  {
   "cell_type": "code",
   "execution_count": null,
   "id": "22629669-afdf-43b5-9e8d-b95577977a7f",
   "metadata": {
    "vscode": {
     "languageId": "r"
    }
   },
   "outputs": [],
   "source": [
    "seurat.reference <- readRDS(\"../Data/data_lavinia.RDS\")"
   ]
  },
  {
   "cell_type": "code",
   "execution_count": null,
   "id": "5f07fd93-91e8-425b-9fc8-7d37c790d5b3",
   "metadata": {
    "vscode": {
     "languageId": "r"
    }
   },
   "outputs": [],
   "source": [
    "seurat.query <- seurat.clustered"
   ]
  },
  {
   "cell_type": "markdown",
   "id": "71932e14-8983-429d-b556-dc5cf3a4c371",
   "metadata": {},
   "source": [
    "We have to define the data integration between query and reference\n",
    "before we can transfer the cluster names. For the algorithm to work, we\n",
    "need to use the “RNA” assay, which contains raw expression values."
   ]
  },
  {
   "cell_type": "code",
   "execution_count": null,
   "id": "881b5302-63c4-4c3a-9697-421bdca793af",
   "metadata": {
    "vscode": {
     "languageId": "r"
    }
   },
   "outputs": [],
   "source": [
    "DefaultAssay(seurat.query) <- \"RNA\""
   ]
  },
  {
   "cell_type": "code",
   "execution_count": null,
   "id": "eeca1a01-3ba3-4173-bac7-ae0826c157a4",
   "metadata": {
    "vscode": {
     "languageId": "r"
    }
   },
   "outputs": [],
   "source": [
    "lotusjaponicus.anchors <- FindTransferAnchors(reference = seurat.reference, \n",
    "                                        features = intersect( rownames(seurat.query), \n",
    "                                                   rownames( seurat.reference[['SCT']]@scale.data ) ),\n",
    "                                        query = seurat.query, dims = 1:20, \n",
    "                                        reference.reduction = \"pca\",\n",
    "                                        reference.assay='RNA')"
   ]
  },
  {
   "cell_type": "markdown",
   "id": "90b3370c-f240-446f-a038-cb7a837c22b2",
   "metadata": {},
   "source": [
    "Calculating the integration of the labels from the reference takes time.\n",
    "So we save the calculated anchors for the integration. If you need to\n",
    "rerun the code, skip the command above and instead load the data with\n",
    "`readRDS` below."
   ]
  },
  {
   "cell_type": "code",
   "execution_count": null,
   "id": "ff8bc4ce-e41f-41f2-a054-7887187be51f",
   "metadata": {
    "vscode": {
     "languageId": "r"
    }
   },
   "outputs": [],
   "source": [
    "saveRDS(lotusjaponicus.anchors, file = \"anchors.RDS\")"
   ]
  },
  {
   "cell_type": "code",
   "execution_count": null,
   "id": "36448727-e945-4a91-9c42-2030943c0986",
   "metadata": {
    "vscode": {
     "languageId": "r"
    }
   },
   "outputs": [],
   "source": [
    "lotusjaponicus.anchors <- readRDS(\"anchors.RDS\")"
   ]
  },
  {
   "cell_type": "markdown",
   "id": "7e46e80a-7c1f-4fca-a41e-22b820179cbf",
   "metadata": {},
   "source": [
    "Now it is finally time to transfer the labels and add them to the\n",
    "metadata. The column in the metadata is called by default\n",
    "`predicted.id`."
   ]
  },
  {
   "cell_type": "code",
   "execution_count": null,
   "id": "dfe9fd1a-52c2-4a42-a4ec-d43623f628a5",
   "metadata": {
    "vscode": {
     "languageId": "r"
    }
   },
   "outputs": [],
   "source": [
    "predictions <- TransferData(anchorset = lotusjaponicus.anchors, \n",
    "                            refdata = Idents(seurat.reference), \n",
    "                            dims = 1:20)"
   ]
  },
  {
   "cell_type": "code",
   "execution_count": null,
   "id": "b312934a-e130-4a8e-a5cb-65d600f5affb",
   "metadata": {
    "vscode": {
     "languageId": "r"
    }
   },
   "outputs": [],
   "source": [
    "seurat.clustered <- AddMetaData(seurat.clustered, metadata = predictions['predicted.id'])"
   ]
  },
  {
   "cell_type": "markdown",
   "id": "7958eeff-7c50-4547-95a5-4c09a35b0533",
   "metadata": {},
   "source": [
    "Just as a reminder of what is in the metadata, we can quickly look at\n",
    "the column names. Those are ordered by when we added things along the\n",
    "analysis. If you read the names, you can recognize part of the analysis\n",
    "steps until now."
   ]
  },
  {
   "cell_type": "code",
   "execution_count": null,
   "id": "3f3cc4e0-6f6e-4d42-9ec9-79a1ca942672",
   "metadata": {
    "vscode": {
     "languageId": "r"
    }
   },
   "outputs": [],
   "source": [
    "names( seurat.clustered@meta.data )"
   ]
  },
  {
   "cell_type": "markdown",
   "id": "f8401abf-2b28-4ca4-a6a7-29d10fe0798d",
   "metadata": {},
   "source": [
    "Here we define as clustering for the data and the plots, the one\n",
    "transfered just before. We then have a look at\n",
    "[Figure 25](#fig-transfer) to observe that the labels look fine."
   ]
  },
  {
   "cell_type": "code",
   "execution_count": null,
   "id": "7b2d7593-9451-443b-b9df-2f2b79487dbe",
   "metadata": {
    "vscode": {
     "languageId": "r"
    }
   },
   "outputs": [],
   "source": [
    "Idents(seurat.clustered) <- 'predicted.id'"
   ]
  },
  {
   "cell_type": "code",
   "execution_count": null,
   "id": "fig-transfer",
   "metadata": {
    "tags": [],
    "vscode": {
     "languageId": "r"
    }
   },
   "outputs": [],
   "source": [
    "options(repr.plot.width=10, repr.plot.height=10)\n",
    "DimPlot(object = seurat.clustered, \n",
    "        reduction = \"umap\", \n",
    "        repel = TRUE, label=T, \n",
    "        pt.size = 0.5, label.size = 10, )"
   ]
  },
  {
   "cell_type": "markdown",
   "id": "634c27e8-958a-4bd1-824b-53bd222a91cc",
   "metadata": {},
   "source": [
    "We save the data"
   ]
  },
  {
   "cell_type": "code",
   "execution_count": null,
   "id": "873934c0-185f-4de2-9ea2-9d87a971fad2",
   "metadata": {
    "vscode": {
     "languageId": "r"
    }
   },
   "outputs": [],
   "source": [
    "SaveH5Seurat(object = seurat.clustered, \n",
    "             filename = \"seurat.clustered.h5Seurat\", \n",
    "             overwrite = TRUE,\n",
    "             verbose=FALSE)"
   ]
  },
  {
   "cell_type": "markdown",
   "id": "e4e5abae-a6fe-43b9-a00b-c53df320f31f",
   "metadata": {},
   "source": [
    "# Gene Expression Analysis\n",
    "\n",
    "In this section we explore the gene expression through\n",
    "\n",
    "-   inferring **conserved genes** across all treatments in the\n",
    "    integrated dataset. Conserved genes are the ones preserving their\n",
    "    expression across the grouping of interest.\n",
    "-   determining **differentially expressed genes** for the infected\n",
    "    condition against the control. Differentially expressed genes are\n",
    "    significantly more epressed in one of the two groups used for the\n",
    "    comparison. Usually the wild type is used as query for the\n",
    "    comparison, such that differentially expressed genes are referred to\n",
    "    the perturbated condition (infection, knock-out, illness, …)\n",
    "-   studying **coexpression modules** (a module is a group of gene\n",
    "    similarly expressed across cells in the data) to find if\n",
    "    -   any of them contains the gene of interest,\n",
    "    -   they are significantly more expressed in specific cell groups\n",
    "        (**Differential module expression**)\n",
    "    -   if there are specific known functions associated to some modules\n",
    "\n",
    "We will also use gene ontology terms for understanding the function of\n",
    "groups of genes.\n",
    "\n",
    "## Conserved markers\n",
    "\n",
    "We detect **conserved markers** across control and infected datasets.\n",
    "Below, we define a function that detect the conserved markers for each\n",
    "cell type, and calculates the average log-fold change of each conserved\n",
    "gene. The log-fold change is the magnitude of change of the gene\n",
    "expression in the cluster of interest against the rest of the data. This\n",
    "means that a marker with a high log-fold change and a significant\n",
    "p-value is also **differentially expressed in a specific cluster across\n",
    "the two conditions**."
   ]
  },
  {
   "cell_type": "code",
   "execution_count": null,
   "id": "8ccde4ea-8b22-4ae9-8117-660ed8f6e3d9",
   "metadata": {
    "vscode": {
     "languageId": "r"
    }
   },
   "outputs": [],
   "source": [
    "seurat.clustered <- LoadH5Seurat(\"seurat.clustered.h5Seurat\", verbose=FALSE)"
   ]
  },
  {
   "cell_type": "code",
   "execution_count": null,
   "id": "026a185b-80e0-4dbc-ad4b-8a3959d76dca",
   "metadata": {
    "tags": [],
    "vscode": {
     "languageId": "r"
    }
   },
   "outputs": [],
   "source": [
    "get_conserved <- function(cluster){\n",
    "  message(paste0(\"Conserved genes in \",cluster), appendLF=FALSE)\n",
    "  FindConservedMarkers(seurat.clustered, \n",
    "                       ident.1 = cluster,\n",
    "                       grouping.var = \"Condition\",\n",
    "                       only.pos = TRUE,\n",
    "                       verbose=FALSE) %>%\n",
    "    rownames_to_column(var = \"gene\") %>%\n",
    "    cbind(cluster_id = cluster, .)\n",
    "}\n",
    "\n",
    "clusters <- levels(seurat.clustered@active.ident)\n",
    "conserved_markers <- map_dfr(c(clusters), get_conserved)\n",
    "conserved_markers$Average_log2FC <- (conserved_markers$Control_avg_log2FC + conserved_markers$R7A_avg_log2FC) /2\n",
    "conserved_markers$Max_p_val_adj <- apply(conserved_markers[, c('Control_p_val_adj', 'R7A_p_val_adj')], 1, max)"
   ]
  },
  {
   "cell_type": "markdown",
   "id": "7ec0fb08-8a9e-4e53-b90e-ab5184f0bd27",
   "metadata": {},
   "source": [
    "We can save conserved markers in a csv file. It can be downloaded and\n",
    "opened like a normal excel table to consult it, for example when writing\n",
    "an article or a report."
   ]
  },
  {
   "cell_type": "code",
   "execution_count": null,
   "id": "4675ba10-e0a8-4357-aad9-716ef648b25a",
   "metadata": {
    "tags": [],
    "vscode": {
     "languageId": "r"
    }
   },
   "outputs": [],
   "source": [
    "write.csv(conserved_markers, \"conserved_markers.csv\")"
   ]
  },
  {
   "cell_type": "markdown",
   "id": "fd5c348f-3f27-4d13-a0c9-56f4fa66bb9a",
   "metadata": {},
   "source": [
    "You can load the table in `R` with `read.csv`"
   ]
  },
  {
   "cell_type": "code",
   "execution_count": null,
   "id": "f30428dd-22d8-443c-a2d2-b44776174a29",
   "metadata": {
    "tags": [],
    "vscode": {
     "languageId": "r"
    }
   },
   "outputs": [],
   "source": [
    "conserved_markers <- read.csv(\"conserved_markers.csv\")"
   ]
  },
  {
   "cell_type": "markdown",
   "id": "020db4de-6e16-46a6-b267-85af0fd413a6",
   "metadata": {},
   "source": [
    "The table contains, for each cluster, the genes that are conserved, the\n",
    "cluster they refer to, the mean log-fold change of the gene compared to\n",
    "the rest of the data, and the maximum p-value (adjusted). There are many\n",
    "other values, which are not of interest for interpreting results:"
   ]
  },
  {
   "cell_type": "code",
   "execution_count": null,
   "id": "7dfa6b22-97f3-4cbc-8845-af1a58b276cc",
   "metadata": {
    "tags": [],
    "vscode": {
     "languageId": "r"
    }
   },
   "outputs": [],
   "source": [
    "head(conserved_markers)"
   ]
  },
  {
   "cell_type": "markdown",
   "id": "99c461e4-54ca-4831-919f-e618c7c74855",
   "metadata": {},
   "source": [
    "We can easily look at the interesting columns:"
   ]
  },
  {
   "cell_type": "code",
   "execution_count": null,
   "id": "f66efb7c-5b17-430a-99f2-67aa6f45c065",
   "metadata": {
    "vscode": {
     "languageId": "r"
    }
   },
   "outputs": [],
   "source": [
    "head( conserved_markers[,c('cluster_id', 'gene', 'Average_log2FC', 'Max_p_val_adj')] )"
   ]
  },
  {
   "cell_type": "markdown",
   "id": "9a086da1-a521-4f54-880b-11bc932fb4b4",
   "metadata": {},
   "source": [
    "So many of those columns are not significant in term of differential\n",
    "gene expression! This means that their expression is conserved across\n",
    "conditions, but they are **not specific to any cluster**. Rather, they\n",
    "are found with the same expression everywhere. It is definitely more\n",
    "interesting to look at the genes that are specific of some clusters. We\n",
    "define the table with only our columns of interest, and then we filter\n",
    "the non-significant genes. Also, we can filter by requiring that the log\n",
    "fold-change is above 1.5, so that we do not have too many genes to look\n",
    "at in each cluster. Remember we are using logarithms, so it means the\n",
    "expression is larger by a factor 2.83 (2 elevated at the power of 1.5)."
   ]
  },
  {
   "cell_type": "code",
   "execution_count": null,
   "id": "d5061e01-6210-4788-b02e-77db13eff2d9",
   "metadata": {
    "vscode": {
     "languageId": "r"
    }
   },
   "outputs": [],
   "source": [
    "conserved_filtered <- conserved_markers %>%\n",
    "        select(cluster_id, gene, Average_log2FC, Max_p_val_adj) %>%\n",
    "        filter(Max_p_val_adj < .001 & Average_log2FC>1.5 )"
   ]
  },
  {
   "cell_type": "code",
   "execution_count": null,
   "id": "8c8879e2-c234-41e9-91e2-7bbd439c72f6",
   "metadata": {
    "vscode": {
     "languageId": "r"
    }
   },
   "outputs": [],
   "source": [
    "conserved_filtered"
   ]
  },
  {
   "cell_type": "markdown",
   "id": "e7df7c24-1c4e-4222-9eeb-c7a983546000",
   "metadata": {},
   "source": [
    "We can use our list in combination witht he gene ontology table, so that\n",
    "we can find out the relevant go-terms for each cluster and the genes we\n",
    "have found.\n",
    "\n",
    "We open the gene ontology table"
   ]
  },
  {
   "cell_type": "code",
   "execution_count": null,
   "id": "d26d4394-71be-41d9-9a71-9020b3c6c0aa",
   "metadata": {
    "tags": [],
    "vscode": {
     "languageId": "r"
    }
   },
   "outputs": [],
   "source": [
    "go_table <- read.table(\"../Data/LJ_GO_terms.gaf\", skip=6, sep='\\t', fill=TRUE, quote = \"\\\"\")"
   ]
  },
  {
   "cell_type": "markdown",
   "id": "3132f17a-04cf-40ce-b0a1-8e7fa4b4eed3",
   "metadata": {},
   "source": [
    "This contains genes and ontology descriptions that can be useful for\n",
    "identifying functions of conserved markers."
   ]
  },
  {
   "cell_type": "code",
   "execution_count": null,
   "id": "46a1fbe2-3dce-4be1-a685-3aed6c0fc83b",
   "metadata": {
    "vscode": {
     "languageId": "r"
    }
   },
   "outputs": [],
   "source": [
    "go_table$V2[1]"
   ]
  },
  {
   "cell_type": "code",
   "execution_count": null,
   "id": "aec0472d-5573-44e6-b4a7-a57a874e7c2b",
   "metadata": {
    "tags": [],
    "vscode": {
     "languageId": "r"
    }
   },
   "outputs": [],
   "source": [
    "head( go_table )"
   ]
  },
  {
   "cell_type": "markdown",
   "id": "91e63b65-c9f2-442b-9b92-8f34ed0493e6",
   "metadata": {},
   "source": [
    "The code below adds the GO terms to our filtered table of conserved\n",
    "markers. We parse from the go table the terms from the TAIR\n",
    "([arabidopsis protein archive](https://www.arabidopsis.org/index.jsp))\n",
    "and the reviewed `swiss-uniprotKB` [protein archive for\n",
    "plants](https://www.uniprot.org/uniprotkb?query=*&facets=reviewed%3Atrue%2Cmodel_organism%3A3702)\n",
    "for the arabidopsis thaliana. It can take some time to run, but is\n",
    "usually fast because we parallelized the function (here we assign GO\n",
    "terms to 16 genes at a time)."
   ]
  },
  {
   "cell_type": "code",
   "execution_count": null,
   "id": "7d034301-ac1a-4955-bd4d-0dc25010759b",
   "metadata": {
    "vscode": {
     "languageId": "r"
    }
   },
   "outputs": [],
   "source": [
    "conserved_filtered <- addGOterms(input_table = conserved_filtered,\n",
    "                                go_table = go_table,\n",
    "                                n.cores = 16)"
   ]
  },
  {
   "cell_type": "markdown",
   "id": "1898e724-6683-4086-a193-6e8b68e2c6f6",
   "metadata": {},
   "source": [
    "You can choose any cluster and see its GO terms. We do not look at\n",
    "undefined GO terms."
   ]
  },
  {
   "cell_type": "code",
   "execution_count": null,
   "id": "7a0a346a-63b1-42e5-bff2-b852d16e9580",
   "metadata": {
    "tags": [],
    "vscode": {
     "languageId": "r"
    }
   },
   "outputs": [],
   "source": [
    "conserved_filtered %>% filter(cluster_id=='Phloem' & GO!='Undefined')"
   ]
  },
  {
   "cell_type": "markdown",
   "id": "b9a122a5-e9b6-4474-befc-ef759f8ad5f5",
   "metadata": {},
   "source": [
    "As a last check, we can see if the gene RINRK1 is in the table. The gene\n",
    "ID we need for RINCR1 is `LotjaGi1g1v0732500`. Since this gene should be\n",
    "expressed only within the infected samples, we expect not to find it in\n",
    "the table of conserved genes:"
   ]
  },
  {
   "cell_type": "code",
   "execution_count": null,
   "id": "154800f0-5fd7-4db2-894f-5769d08a4975",
   "metadata": {
    "vscode": {
     "languageId": "r"
    }
   },
   "outputs": [],
   "source": [
    "RINRK1.id <- 'LotjaGi1g1v0182900'"
   ]
  },
  {
   "cell_type": "code",
   "execution_count": null,
   "id": "9f1821db-69c3-4acf-9d66-cc468d619f98",
   "metadata": {
    "vscode": {
     "languageId": "r"
    }
   },
   "outputs": [],
   "source": [
    "conserved_filtered %>% filter(gene==RINRK1.id)"
   ]
  },
  {
   "cell_type": "markdown",
   "id": "a6b306bd-5b43-44af-9fea-05182869712b",
   "metadata": {},
   "source": [
    "Again, we saved the filtered table of conserved genes with the GO terms,\n",
    "so it can be downloaded and used outside the programming environment."
   ]
  },
  {
   "cell_type": "code",
   "execution_count": null,
   "id": "5d29ef9d-afbe-403a-9d92-38ba5cbb051f",
   "metadata": {
    "tags": [],
    "vscode": {
     "languageId": "r"
    }
   },
   "outputs": [],
   "source": [
    "write.csv(conserved_filtered, \"conserved_GO.csv\")"
   ]
  },
  {
   "cell_type": "markdown",
   "id": "240a10de-8032-4ad5-a9e4-e46eb3cac0b0",
   "metadata": {},
   "source": [
    "## Differential Gene Expression (DGE)\n",
    "\n",
    "Here we test each cluster to see which are significantly more expressed\n",
    "genes in the infected samples compared to the wild-type samples. We also\n",
    "see if we find the gene RINRK1 as being significant. Again, the\n",
    "resulting genes can be useful to be integrated with the GO terms as we\n",
    "did before.\n",
    "\n",
    "We first have a quick look to see how much the RINRK1 gene is expressed\n",
    "in the data. We use the `RNA` assay to plot the true expression values.\n",
    "The UMAP plot shows few cells expressing the genes, meaning its average\n",
    "expression is going to be very low, so it is likely we will not find the\n",
    "gene to be differentially expressed anywhere."
   ]
  },
  {
   "cell_type": "code",
   "execution_count": null,
   "id": "6032204b-968e-404b-be6c-b735ec2f6d49",
   "metadata": {
    "tags": [],
    "vscode": {
     "languageId": "r"
    }
   },
   "outputs": [],
   "source": [
    "RINRK1.id <- 'LotjaGi1g1v0182900'\n",
    "\n",
    "DefaultAssay(seurat.clustered) <- \"RNA\"\n",
    "\n",
    "FeaturePlot(seurat.clustered,\n",
    "            reduction = \"umap\", \n",
    "            features = c(RINRK1.id), \n",
    "            order = TRUE,\n",
    "            min.cutoff = 0, \n",
    "            pt.size = 1,\n",
    "            label = TRUE,\n",
    "            label.size = 7) + theme(legend.position = \"right\")"
   ]
  },
  {
   "cell_type": "markdown",
   "id": "eadbaa13-46bd-4cd3-82d5-ceea06a2f97a",
   "metadata": {},
   "source": [
    "From biological knowledge, we expect the gene mostly expressed in the\n",
    "cortex and trichoblasts upon inoculation with rhizobia, and that is what\n",
    "happens in our data as well. We can see it in the code and violin plot\n",
    "of [Figure 27](#fig-vln)"
   ]
  },
  {
   "cell_type": "code",
   "execution_count": null,
   "id": "2cee393f-a30f-4642-99e1-5d4ce81f53a2",
   "metadata": {
    "tags": [],
    "vscode": {
     "languageId": "r"
    }
   },
   "outputs": [],
   "source": [
    "cat(\"Cells in inoculated L.J. expressing\", RINRK1.id, \"\\n\")\n",
    "\n",
    "cat( sum( as.numeric(GetAssayData(seurat.clustered[RINRK1.id,]))>0 & \n",
    "     seurat.clustered@meta.data$Condition==\"R7A\" ) )\n",
    "\n",
    "cat(\"\\nCells in control L.J. expressing\", RINRK1.id, \"\\n\")\n",
    "\n",
    "cat( sum( as.numeric(GetAssayData(seurat.clustered[RINRK1.id,]))>0 & \n",
    "    seurat.clustered@meta.data$Condition==\"Control\" ) )"
   ]
  },
  {
   "cell_type": "code",
   "execution_count": null,
   "id": "5ed1e6a2-0697-4574-afca-114e5b15f5d6",
   "metadata": {
    "vscode": {
     "languageId": "r"
    }
   },
   "outputs": [],
   "source": [
    "VlnPlot(seurat.clustered, \n",
    "        features = RINRK1.id)"
   ]
  },
  {
   "cell_type": "markdown",
   "id": "f869026a-9687-43e1-9862-6749b7c40000",
   "metadata": {},
   "source": [
    "The code below uses `FindMarkers` to compare `R7A` condition against\n",
    "`Control` for each cluster, with a filter to remove non-singnificant\n",
    "genes (keeping p-value below 0.001 and log fold change \\> 1 and \\< -1).\n",
    "We keep also genes expressed 30% more than in the condition where they\n",
    "are underexpressed. We use only the 2000 most variable genes, since we\n",
    "are interested in very variable gene expressions across data."
   ]
  },
  {
   "cell_type": "code",
   "execution_count": null,
   "id": "217ed821-365b-4516-b914-9e1b3c6d7b9e",
   "metadata": {
    "vscode": {
     "languageId": "r"
    }
   },
   "outputs": [],
   "source": [
    "seurat.clustered <- FindVariableFeatures(seurat.clustered, nfeatures = 2000, assay = \"integrated\")"
   ]
  },
  {
   "cell_type": "code",
   "execution_count": null,
   "id": "7bf0c18a-3462-424d-9b6a-f2e80de8d5c7",
   "metadata": {
    "vscode": {
     "languageId": "r"
    }
   },
   "outputs": [],
   "source": [
    "DEG_table <- FindMarkers(seurat.clustered, \n",
    "                             assay='integrated',\n",
    "                             ident.1 = \"R7A\",\n",
    "                             ident.2 = \"Control\", \n",
    "                             group.by = \"Condition\",\n",
    "                             subset.ident=\"Cortex\",\n",
    "                             min.diff.pct = 0.3,\n",
    "                             verbose = TRUE, \n",
    "                             features = seurat.clustered@assays$integrated@var.features,\n",
    "                             test.use = \"wilcox\") %>%\n",
    "                             filter(p_val_adj <= 0.001 & abs(avg_log2FC)>1) %>%\n",
    "                             select(-p_val)"
   ]
  },
  {
   "cell_type": "code",
   "execution_count": null,
   "id": "e104a738-5b19-4a6c-9d89-c8e7df20e3b3",
   "metadata": {
    "tags": [],
    "vscode": {
     "languageId": "r"
    }
   },
   "outputs": [],
   "source": [
    "DefaultAssay(seurat.clustered) <- \"integrated\" #return to the integrated data\n",
    "DEG <- data.frame()\n",
    "cluster.names <- unique(Idents(seurat.clustered))\n",
    "\n",
    "for(CLUSTER in cluster.names){\n",
    "    DEG_table <- FindMarkers(seurat.clustered,\n",
    "                             assay='integrated',\n",
    "                             ident.1 = \"R7A\",\n",
    "                             ident.2 = \"Control\", \n",
    "                             group.by = \"Condition\",\n",
    "                             subset.ident=CLUSTER,\n",
    "                             verbose = TRUE, \n",
    "                             min.diff.pct = 0.3,\n",
    "                             features = seurat.clustered@assays$integrated@var.features,\n",
    "                             test.use = \"wilcox\") %>%\n",
    "                             filter(p_val_adj <= 0.001 & abs(avg_log2FC)>1) %>%\n",
    "                             select(-p_val)\n",
    "    if(dim(DEG_table)[1]>0){\n",
    "        DEG_table$'cluster' <- CLUSTER\n",
    "        DEG <- rbind(DEG, DEG_table)}\n",
    "    else{\n",
    "        message(paste0(\"---> Warning: No DE genes in cluster \", CLUSTER), appendLF=FALSE)}\n",
    "    message(paste0(\"Done with cluster \",CLUSTER), appendLF=FALSE)\n",
    "    }\n",
    "\n",
    "DEG <- as.data.frame(DEG)\n",
    "DEG$gene <- rownames(DEG)"
   ]
  },
  {
   "cell_type": "markdown",
   "id": "c6433f65-927c-4360-b935-5c1977de4397",
   "metadata": {},
   "source": [
    "The table looks like this. Columns represent:\n",
    "\n",
    "-   average logfoldchange between R7A and Control\n",
    "-   percentage of cells in R7A expressing the gene\n",
    "-   percentage of cells in Control expressing the gene\n",
    "-   adjusted p-value\n",
    "-   cluster\n",
    "-   gene\n",
    "\n",
    "There are some genes in the table"
   ]
  },
  {
   "cell_type": "code",
   "execution_count": null,
   "id": "6f7e942d-36dd-4c79-b350-ec9f0f25fc70",
   "metadata": {
    "vscode": {
     "languageId": "r"
    }
   },
   "outputs": [],
   "source": [
    "dim(DEG)[1]"
   ]
  },
  {
   "cell_type": "markdown",
   "id": "804ec6e1-c36f-4aac-8c4f-29be3fa23393",
   "metadata": {},
   "source": [
    "We now integrate GO terms"
   ]
  },
  {
   "cell_type": "code",
   "execution_count": null,
   "id": "b8d117c9-1d42-47ac-809b-3824cad5f431",
   "metadata": {
    "tags": [],
    "vscode": {
     "languageId": "r"
    }
   },
   "outputs": [],
   "source": [
    "go_table <- read.table(\"../Data/LJ_GO_terms.gaf\", skip=6, sep='\\t', fill=TRUE, quote = \"\\\"\")"
   ]
  },
  {
   "cell_type": "code",
   "execution_count": null,
   "id": "5f32e0c3-ed9e-45dc-b1ac-671a2112a7bc",
   "metadata": {
    "tags": [],
    "vscode": {
     "languageId": "r"
    }
   },
   "outputs": [],
   "source": [
    "DEG <- addGOterms(DEG, go_table, n.cores = 16)"
   ]
  },
  {
   "cell_type": "markdown",
   "id": "3fce0fdb-cd63-4f45-bc38-963368f7ebc8",
   "metadata": {},
   "source": [
    "So we can see which GO terms are relevant in each cluster for the\n",
    "infected samples against the control:"
   ]
  },
  {
   "cell_type": "code",
   "execution_count": null,
   "id": "ad1f7274-b89d-4216-bfe2-6f4733dbb7c8",
   "metadata": {
    "vscode": {
     "languageId": "r"
    }
   },
   "outputs": [],
   "source": [
    "DEG %>% filter(cluster==\"Cortex\" & GO!=\"Undefined\")"
   ]
  },
  {
   "cell_type": "markdown",
   "id": "20b6a734-feba-4b07-aa45-d664efbac950",
   "metadata": {},
   "source": [
    "Finally, we do not expect to find the RINRK1 gene as differentially\n",
    "expressed, because its expression is on average too low."
   ]
  },
  {
   "cell_type": "code",
   "execution_count": null,
   "id": "e737355a-63f4-4275-9193-63d539d35dcb",
   "metadata": {
    "vscode": {
     "languageId": "r"
    }
   },
   "outputs": [],
   "source": [
    "DEG %>% filter(gene==RINRK1.id)"
   ]
  },
  {
   "cell_type": "markdown",
   "id": "d7426a93-a836-4f68-bdb8-d96bfaf0831e",
   "metadata": {},
   "source": [
    "We save the table:"
   ]
  },
  {
   "cell_type": "code",
   "execution_count": null,
   "id": "b86ca6f3-5ab4-4f36-a8f9-314b09b4477f",
   "metadata": {
    "tags": [],
    "vscode": {
     "languageId": "r"
    }
   },
   "outputs": [],
   "source": [
    "write.csv(DEG_table, \"DEG_table.csv\")"
   ]
  },
  {
   "cell_type": "markdown",
   "id": "f118b57b-5f67-4792-95a4-df2ab1a586d7",
   "metadata": {},
   "source": [
    "# Coexpression analysis\n",
    "\n",
    "We use the package hdWGCNA to detect groups of cells expressed\n",
    "simultaneously, and we find which modules are differentially expressed\n",
    "in specific clusters. We look at the GO terms to gain biological insight\n",
    "in the data.\n",
    "\n",
    "> **Note**\n",
    ">\n",
    "> Before running hdWGCNA, we first have to set up the Seurat object.\n",
    "> Most of the information computed by hdWGCNA will be stored in the\n",
    "> Seurat object’s `@misc` slot.\n",
    "\n",
    "Here we will set up the Seurat object using the `SetupForWGCNA`\n",
    "function, specifying the name of the `hdWGNCA` experiment. This function\n",
    "also selects the genes that will be used for WGCNA. The user can select\n",
    "genes using three different approaches using the posse gene_select\n",
    "parameter:\n",
    "\n",
    "-   variable: use the genes stored in the Seurat object’s\n",
    "    VariableFeatures.\n",
    "-   fraction: use genes that are expressed in a certain fraction of\n",
    "    cells for in the whole dataset or in each group of cells, specified\n",
    "    by `group.by`.\n",
    "-   custom: use genes that are specified in a custom list.\n",
    "\n",
    "In this example, we will select genes that are expressed in at least 5%\n",
    "of cells in this dataset, and we will name our `hdWGCNA` experiment\n",
    "“tutorial”."
   ]
  },
  {
   "cell_type": "code",
   "execution_count": null,
   "id": "25505f48-c41e-4b76-a45e-cfb28171e1c0",
   "metadata": {
    "vscode": {
     "languageId": "r"
    }
   },
   "outputs": [],
   "source": [
    "seurat.clustered <- LoadH5Seurat(\"seurat.clustered.h5Seurat\", verbose=FALSE)"
   ]
  },
  {
   "cell_type": "code",
   "execution_count": null,
   "id": "9e042dbd-ce92-4173-b240-5826f215feb1",
   "metadata": {
    "vscode": {
     "languageId": "r"
    }
   },
   "outputs": [],
   "source": [
    "seurat.clustered <- SetupForWGCNA(\n",
    "  seurat.clustered,\n",
    "  gene_select = \"variable\",\n",
    "  #gene_select = \"fraction\", # the gene selection approach\n",
    "  fraction = 0.05, # fraction of cells that a gene needs to be expressed in order to be included\n",
    "  wgcna_name = \"tutorial\" # the name of the hdWGCNA experiment\n",
    ")"
   ]
  },
  {
   "cell_type": "markdown",
   "id": "c1e4ffd7-dfbf-412d-9ca4-3834dd0fb11e",
   "metadata": {},
   "source": [
    "## Construct metacells\n",
    "\n",
    "After we have set up our Seurat object, the first step in running the\n",
    "hdWGCNA pipeline is to construct metacells from the single-cell dataset.\n",
    "Briefly, metacells are **aggregates of small groups of similar cells\n",
    "originating from the same biological sample of origin**.\n",
    "\n",
    "![Workflow of hdWGCNA. Similar cells are summed or averaged together to\n",
    "form metacells. The resulting matrix is then used as the basis for\n",
    "inferring modules of coexpressed genes. The metacells expression matrix\n",
    "is the base for all the downstream analysis, such as differential\n",
    "expression of genes modules in specific\n",
    "clusters](attachment:./images/hdwgcna.jpg) {#fig-hdwgcna, width=800}\n",
    "\n",
    "> **Something more about hdWGCNA**\n",
    ">\n",
    "> The k-Nearest Neighbors (KNN) algorithm is used to identify groups of\n",
    "> similar cells to aggregate, and then the average or summed expression\n",
    "> of these cells is computed, thus yielding a metacell gene expression\n",
    "> matrix (**as if you had many bulk samples**). The **sparsity of the\n",
    "> metacell expression matrix is considerably reduced** when compared to\n",
    "> the original expression matrix, and therefore it is preferable to use.\n",
    "> We were originally motivated to use metacells in place of the original\n",
    "> single cells because correlation **network approaches such as WGCNA\n",
    "> are sensitive to data sparsity**.\n",
    ">\n",
    "> `hdWGCNA` includes a function `MetacellsByGroups` to construct\n",
    "> metacell expression matrices given a single-cell dataset. This\n",
    "> function constructs a new Seurat object for the metacell dataset which\n",
    "> is stored internally in the `hdWGCNA` experiment. The `group.by`\n",
    "> parameter determines which groups metacells will be constructed in. We\n",
    "> only want to construct metacells from cells that came from the same\n",
    "> biological sample of origin, so it is critical to pass that\n",
    "> information to `hdWGCNA` via the `group.by` parameter. Additionally,\n",
    "> we usually construct metacells for each cell type separately. Thus, in\n",
    "> this example, we are **grouping by Sample and cell type** to achieve\n",
    "> the desired result.\n",
    ">\n",
    "> **The number of cells to be aggregated `k` should be tuned based on\n",
    "> the size of the input dataset**, in general a lower number for `k` can\n",
    "> be used for small datasets. We generally use `k` values between 20 and\n",
    "> 75. The dataset used for this tutorial has 21,369 cells, and here we\n",
    "> use `k=20`. The amount of allowable overlap between metacells can be\n",
    "> tuned using the `max_shared` argument. There should be a range of `k`\n",
    "> values that are suitable for reducing the sparsity while retaining\n",
    "> cellular heterogeneity for a given dataset, rather than a single\n",
    "> optimal value.\n",
    ">\n",
    "> Note: the authors of `hdWGCNA` have found that the metacell\n",
    "> aggregation approach does not yield good results for extremely\n",
    "> underrepresented cell types. For example, in this dataset, the\n",
    "> `Meristem` and `Xylem` are the least represented, and will be excluded\n",
    "> them from this analysis. `MetacellsByGroups` has a parameter\n",
    "> `min_cells` to exclude groups that are smaller than a specified number\n",
    "> of cells. **Errors are likely to arise if the selected value for\n",
    "> `min_cells` is too low**.\n",
    "\n",
    "Here **we construct metacells and normalize the resulting expression\n",
    "matrix** using the following code (read the additional text in the box\n",
    "above to understand the parameters). Note how the clusters Xylem and\n",
    "Quiescent center are removed, simply because they are too small and\n",
    "cannot be used. So from now on we do not consider them for the\n",
    "coexpression analysis."
   ]
  },
  {
   "cell_type": "code",
   "execution_count": null,
   "id": "45fce053-0f71-4a0b-b52f-767fcfc85b06",
   "metadata": {
    "vscode": {
     "languageId": "r"
    }
   },
   "outputs": [],
   "source": [
    "# construct metacells  in each group\n",
    "seurat.clustered <- MetacellsByGroups(\n",
    "  seurat_obj = seurat.clustered,\n",
    "  group.by = c(\"predicted.id\", \"Condition\"), # specify metadata to split by cluster and condition\n",
    "  reduction = 'pca', # select the dimensionality reduction to perform KNN on\n",
    "  k = 30, # nearest-neighbors parameter\n",
    "  max_shared = 10, # maximum number of shared cells between two metacells\n",
    "  ident.group = 'predicted.id', # set the Idents of the metacell seurat object\n",
    "  assay = \"integrated\",\n",
    "  slot = \"scale.data\",\n",
    "  min_cells = 100,\n",
    "  wgcna_name = \"tutorial\",\n",
    "  verbose=TRUE\n",
    ")"
   ]
  },
  {
   "cell_type": "code",
   "execution_count": null,
   "id": "02d16367-658b-4e37-9b2a-adffbbac652b",
   "metadata": {
    "vscode": {
     "languageId": "r"
    }
   },
   "outputs": [],
   "source": [
    "#normalize metacell expression matrix:\n",
    "seurat.clustered <- NormalizeMetacells(seurat.clustered)"
   ]
  },
  {
   "cell_type": "markdown",
   "id": "f823a36a-cdde-497b-8a0a-fe424f4b51be",
   "metadata": {},
   "source": [
    "Here we specify the expression matrix that we will use for network\n",
    "analysis. For example, we can choose the Cortex, which is important also\n",
    "because it expresses RINRK1 in infected samples."
   ]
  },
  {
   "cell_type": "code",
   "execution_count": null,
   "id": "1f989ddd-9684-4c6f-8616-f7ede48eba49",
   "metadata": {
    "vscode": {
     "languageId": "r"
    }
   },
   "outputs": [],
   "source": [
    "seurat.clustered <- SetDatExpr(\n",
    "  seurat.clustered,\n",
    "  group_name = c('Pericycle','Cortex','Trichoblasts','Root tip',\n",
    "                 'Phloem','Stele','Endodermis','Atrichoblasts',\n",
    "                 'Meristem'), #all groups of interest in the data (we use all clusters)\n",
    "  group.by='predicted.id', # the metadata column containing the cell type info. This same column should have also been used in MetacellsByGroups\n",
    "  assay = 'integrated', # using integrated assay\n",
    "  slot = 'counts' # using count data\n",
    ")"
   ]
  },
  {
   "cell_type": "markdown",
   "id": "fbc95591-e8ae-480f-903a-df86bf1b9b55",
   "metadata": {},
   "source": [
    "## Select soft-power threshold\n",
    "\n",
    "Next we will select the soft power threshold. This is an extremely\n",
    "important step in the pipeline. `hdWGCNA` constructs a gene-gene\n",
    "correlation adjacency matrix to infer co-expression relationships\n",
    "between genes. The correlations are **raised to a power to reduce the\n",
    "amount of noise present in the correlation matrix**, thereby **retaining\n",
    "the strong connections and removing the weak connections**. Therefore,\n",
    "it is critical to determine a proper value for the soft power threshold.\n",
    "\n",
    "We use the function `TestSoftPowers` to perform a parameter sweep for\n",
    "different soft power thresholds. This function helps us to guide our\n",
    "choice in a soft power threshold for constructing the co-expression\n",
    "network by inspecting the resulting network topology for different power\n",
    "values. The following code performs the parameter sweep and outputs a\n",
    "summary figure."
   ]
  },
  {
   "cell_type": "code",
   "execution_count": null,
   "id": "a65a0035-cf89-4e0e-9f4c-a503c2505e30",
   "metadata": {
    "vscode": {
     "languageId": "r"
    }
   },
   "outputs": [],
   "source": [
    "# Test different soft powers:\n",
    "seurat.clustered <- TestSoftPowers(powers = 1:100,\n",
    "  seurat.clustered,\n",
    "  networkType = 'signed'\n",
    ")\n",
    "\n",
    "# plot the results:\n",
    "plot_list <- PlotSoftPowers(seurat.clustered)\n",
    "\n",
    "# assemble with patchwork\n",
    "wrap_plots(plot_list, ncol=2)"
   ]
  },
  {
   "cell_type": "markdown",
   "id": "98be15fa-2df7-45a6-a7b1-74c7e2ba2c2f",
   "metadata": {},
   "source": [
    "The general guidance for `hdWGCNA` is to pick the lowest soft power\n",
    "threshold that has Model Fit greater than or equal to 0.8, so in this\n",
    "case we would select our soft power threshold to be 11 following the\n",
    "illustration fo [Figure 28](#fig-sweep). Later on, the\n",
    "`ConstructNetwork` command will automatically select the soft power\n",
    "threshold if the user does not provide one.\n",
    "\n",
    "## Construction of co-expression network\n",
    "\n",
    "We now have everything that we need to construct our co-expression\n",
    "network. Here we use the `hdWGCNA` function `ConstructNetwork`. This\n",
    "function has quite a few parameters to play with if you are an advanced\n",
    "user (read [this\n",
    "manual](https://rdrr.io/github/smorabit/hdWGCNA/man/ConstructNetwork.html)\n",
    "and the function `ConstructNetwork` is based on\n",
    "[here](https://www.rdocumentation.org/packages/WGCNA/versions/1.72-5/topics/blockwiseConsensusModules)),\n",
    "but we use default parameters that work well with many single-cell\n",
    "datasets.\n",
    "\n",
    "The following code constructs the co-expression network using the soft\n",
    "power threshold selected before:"
   ]
  },
  {
   "cell_type": "code",
   "execution_count": null,
   "id": "41436168-c2a9-416d-a2d3-ecfb01cedca3",
   "metadata": {
    "vscode": {
     "languageId": "r"
    }
   },
   "outputs": [],
   "source": [
    "# construct co-expression network:\n",
    "seurat.clustered <- ConstructNetwork(na.rm=TRUE,\n",
    "  seurat.clustered,\n",
    "  soft_power=11,                                   \n",
    "  setDatExpr=FALSE,\n",
    "  tom_name = 'Cortex', # name of the topoligical overlap matrix written to disk\n",
    "  overwrite_tom = TRUE\n",
    ")"
   ]
  },
  {
   "cell_type": "markdown",
   "id": "f93dcf7f-3ff2-4e30-bca4-927343573d9d",
   "metadata": {},
   "source": [
    "We can plot the network dendrogram in [Figure 29](#fig-dendro). Each\n",
    "leaf on the dendrogram represents a single gene, and the color at the\n",
    "bottom indicates the co-expression module assignment.\n",
    "\n",
    "**Note: the “gray” module consists of genes that were not grouped into\n",
    "any co-expression module. The gray module is to be ignored for all\n",
    "downstream analysis and interpretation.**"
   ]
  },
  {
   "cell_type": "code",
   "execution_count": null,
   "id": "7802e6e6-3b0d-427c-8f18-bad307b650a5",
   "metadata": {
    "vscode": {
     "languageId": "r"
    }
   },
   "outputs": [],
   "source": [
    "PlotDendrogram(seurat.clustered, main='Phloem hdWGCNA Dendrogram')"
   ]
  },
  {
   "cell_type": "markdown",
   "id": "c2118e82-5998-45d3-83ca-cfb2f0c91048",
   "metadata": {},
   "source": [
    "### Module Eigengenes (MEs)\n",
    "\n",
    "We calculate harmonized module eigengenes. This is a way of doing PCA of\n",
    "the expression matrix of metacells including the genes of one\n",
    "coexpression module at a time. Thus we have a PCA of the data for each\n",
    "module. The first principal component of each PCA is called module\n",
    "eigengene: it is enough to distinguish one module from all the others\n",
    "and characterize the expression pattern of the module (Langfelder and\n",
    "Horvath (2007))!\n",
    "\n",
    "Dimensionality reduction techniques are a very hot topic in single-cell\n",
    "genomics (Xiang et al. (2021)). It is well known that technical\n",
    "artifacts can muddy the analysis of single-cell datasets, and over the\n",
    "years there have been many methods that aim to reduce the effects of\n",
    "these artifacts. Therefore it stands to reason that MEs would be subject\n",
    "to these technical artifacts as well, and `hdWGCNA` seeks to alleviate\n",
    "these effects by using the integration software `Harmony` (Korsunsky et\n",
    "al. (2019)).\n",
    "\n",
    "The following code performs the module eigengene computation harmonizing\n",
    "by the Sample of origin using the `group.by.vars` parameter."
   ]
  },
  {
   "cell_type": "code",
   "execution_count": null,
   "id": "03d2cb9b-5363-4570-9163-9e2987d78b2d",
   "metadata": {
    "vscode": {
     "languageId": "r"
    }
   },
   "outputs": [],
   "source": [
    "# need to run ScaleData first or else harmony throws an error:\n",
    "seurat.clustered <- ScaleData(seurat.clustered, \n",
    "                              features=VariableFeatures(seurat.clustered), \n",
    "                              verbose = FALSE)"
   ]
  },
  {
   "cell_type": "code",
   "execution_count": null,
   "id": "5f942738-0276-4916-a581-916573b60f04",
   "metadata": {
    "vscode": {
     "languageId": "r"
    }
   },
   "outputs": [],
   "source": [
    "# compute all MEs in the full single-cell dataset\n",
    "seurat.clustered <- ModuleEigengenes( \n",
    " seurat.clustered,\n",
    " group.by.vars=\"orig.ident\",\n",
    " verbose = FALSE\n",
    ")"
   ]
  },
  {
   "cell_type": "markdown",
   "id": "c59b844d-f087-4ffd-9d0a-723e29192a14",
   "metadata": {},
   "source": [
    "### Compute module connectivity\n",
    "\n",
    "In co-expression network analysis, we often want to focus on the **hub\n",
    "genes, those which are highly connected within each module**. Therefore\n",
    "we wish to determine the eigengene-based connectivity, also known as\n",
    "kME, of each gene. The `ModuleConnectivity` function computes the kMEs\n",
    "in the single-cell dataset (rather than the metacell dataset). This\n",
    "function essentially computes pairwise correlations between genes and\n",
    "module eigengenes. kME can be computed for all cells in the dataset, but\n",
    "it is recommended computing kMEs in the cell type(s) or group(s)\n",
    "previously used to run `ConstructNetwork`."
   ]
  },
  {
   "cell_type": "code",
   "execution_count": null,
   "id": "5c2af805-c144-4cc9-8c4f-27e47d72c3d8",
   "metadata": {
    "vscode": {
     "languageId": "r"
    }
   },
   "outputs": [],
   "source": [
    "# compute eigengene-based connectivity (kME):\n",
    "seurat.clustered <- ModuleConnectivity(\n",
    "  seurat.clustered,\n",
    "  group.by = 'predicted.id', \n",
    "  group_name = c('Pericycle','Cortex','Trichoblasts','Root tip',\n",
    "                 'Phloem','Stele','Endodermis','Atrichoblasts',\n",
    "                 'Meristem','Xylem'),\n",
    ")"
   ]
  },
  {
   "cell_type": "markdown",
   "id": "5d84446a-d21f-4623-a744-2498376a805a",
   "metadata": {},
   "source": [
    "For convenience, we re-name the hdWGCNA modules to indicate that they\n",
    "are from the Cortex cluster."
   ]
  },
  {
   "cell_type": "code",
   "execution_count": null,
   "id": "f98a5b90-a126-4486-8865-9aa127700c1b",
   "metadata": {
    "vscode": {
     "languageId": "r"
    }
   },
   "outputs": [],
   "source": [
    "# rename the modules\n",
    "seurat.clustered <- ResetModuleNames(\n",
    "  seurat.clustered,\n",
    "  new_name = \"Lotus-Mod\"\n",
    ")"
   ]
  },
  {
   "cell_type": "markdown",
   "id": "a035c81a-9874-4940-adb2-dc4684538315",
   "metadata": {},
   "source": [
    "We can visualize the genes in each module ranked by kME using the\n",
    "`PlotKMEs` function."
   ]
  },
  {
   "cell_type": "code",
   "execution_count": null,
   "id": "30a222f5-ee26-4d8d-8977-f33cd620de2f",
   "metadata": {
    "vscode": {
     "languageId": "r"
    }
   },
   "outputs": [],
   "source": [
    "options(repr.plot.width=20, repr.plot.height=25)\n",
    "p <- capture.output({PlotKMEs(seurat.clustered, ncol=3, text_size = 4);})"
   ]
  },
  {
   "cell_type": "markdown",
   "id": "3d2fe0ff-3891-42b8-8405-c04c1c8b0c15",
   "metadata": {},
   "source": [
    "### Getting the module assignment table\n",
    "\n",
    "The plots of [Figure 30](#fig-kme) are a bit hard to read, though fancy\n",
    "to plot. `hdWGCNA` allows for easy access of the module assignment table\n",
    "using the `GetModules` function. This table consists of three columns:\n",
    "`gene_name` stores the gene’s symbol or ID, module stores the gene’s\n",
    "module assignment, and color stores a color mapping for each module\n",
    "(which is used in plotting steps). If `ModuleConnectivity` has been used\n",
    "on this hdWGCNA experiment, as it is our case, this table has additional\n",
    "columns with the connectivities plotted in [Figure 30](#fig-kme)"
   ]
  },
  {
   "cell_type": "code",
   "execution_count": null,
   "id": "a924b256-57da-4253-b694-00bee9af92b5",
   "metadata": {
    "vscode": {
     "languageId": "r"
    }
   },
   "outputs": [],
   "source": [
    "# get the module assignment table:\n",
    "modules <- GetModules(seurat.clustered)\n",
    "\n",
    "# show the first 6 columns:\n",
    "head(modules[,1:6])"
   ]
  },
  {
   "cell_type": "markdown",
   "id": "834e1386-2ef3-49b6-aaac-f30b9563b43d",
   "metadata": {},
   "source": [
    "A table of the top N hub genes sorted by kME can be extracted using the\n",
    "`GetHubGenes` function. Here we choose the top 10 genes, but you can\n",
    "change the value if you want"
   ]
  },
  {
   "cell_type": "code",
   "execution_count": null,
   "id": "06fd173f-5da4-44f1-a893-d30bf9312ea0",
   "metadata": {
    "vscode": {
     "languageId": "r"
    }
   },
   "outputs": [],
   "source": [
    "# get hub genes\n",
    "hub_df <- GetHubGenes(seurat.clustered, n_hubs = 10)\n",
    "\n",
    "head( hub_df )"
   ]
  },
  {
   "cell_type": "markdown",
   "id": "3d1973af-fd34-4f44-82ef-b14104a5d096",
   "metadata": {},
   "source": [
    "Again, we can assign GO terms to better check associated functions"
   ]
  },
  {
   "cell_type": "code",
   "execution_count": null,
   "id": "88e77e24-98f4-44f2-8305-94cff29e2ad1",
   "metadata": {
    "tags": [],
    "vscode": {
     "languageId": "r"
    }
   },
   "outputs": [],
   "source": [
    "go_table <- read.table(\"../Data/LJ_GO_terms.gaf\", skip=6, sep='\\t', fill=TRUE, quote = \"\\\"\")"
   ]
  },
  {
   "cell_type": "code",
   "execution_count": null,
   "id": "f552355f-06fc-4e53-b1f7-93c085264e32",
   "metadata": {
    "tags": [],
    "vscode": {
     "languageId": "r"
    }
   },
   "outputs": [],
   "source": [
    "hub_df <- addGOterms(input_table = hub_df, \n",
    "                     go_table = go_table, \n",
    "                     gene_column = 'gene_name',\n",
    "                     n.cores = 16)"
   ]
  },
  {
   "cell_type": "markdown",
   "id": "94eeffa5-7ebd-438c-a9f1-cc68e1075192",
   "metadata": {},
   "source": [
    "Now it is easy to look at each module and relevant GO terms."
   ]
  },
  {
   "cell_type": "code",
   "execution_count": null,
   "id": "a44ad320-96f9-48a4-b9e8-3e4a3fa2d04b",
   "metadata": {
    "vscode": {
     "languageId": "r"
    }
   },
   "outputs": [],
   "source": [
    "hub_filtered <- hub_df %>% filter(module == \"Lotus-Mod3\")"
   ]
  },
  {
   "cell_type": "code",
   "execution_count": null,
   "id": "60edd8fe-c955-4442-8622-e0a1746a0a42",
   "metadata": {
    "vscode": {
     "languageId": "r"
    }
   },
   "outputs": [],
   "source": [
    "hub_filtered"
   ]
  },
  {
   "cell_type": "markdown",
   "id": "2e705011-326c-40e6-9a18-499e7e826ee9",
   "metadata": {},
   "source": [
    "We save the table for later use"
   ]
  },
  {
   "cell_type": "code",
   "execution_count": null,
   "id": "5c98dc3b-994c-480d-baeb-bfb02d26c92f",
   "metadata": {
    "vscode": {
     "languageId": "r"
    }
   },
   "outputs": [],
   "source": [
    "write.csv(hub_df, \"top_genes_networks.csv\")"
   ]
  },
  {
   "cell_type": "markdown",
   "id": "8fabecb3-5e2b-460a-944b-8b1a2a884218",
   "metadata": {},
   "source": [
    "We can also plot the modules to see where they are most relevant on the\n",
    "UMAP plot. First we calculate the scores of each module."
   ]
  },
  {
   "cell_type": "code",
   "execution_count": null,
   "id": "1b4b3d25-bc8e-4f84-a277-72d43b530a5b",
   "metadata": {
    "vscode": {
     "languageId": "r"
    }
   },
   "outputs": [],
   "source": [
    "features_list <- list()\n",
    "\n",
    "for(MOD in hub_df$module){\n",
    "    genes <- hub_df %>% filter(module == MOD)\n",
    "    genes_mod <- genes$gene_name\n",
    "    features_list[[MOD]] <- genes_mod\n",
    "    }\n",
    "\n",
    "seurat.clustered <- AddModuleScore(\n",
    "  object = seurat.clustered,\n",
    "  features = features_list,\n",
    "  ctrl = 5,\n",
    ")\n",
    "\n",
    "seurat.clustered <- renameScores(markers_list = features_list, seurat_data = seurat.clustered)\n",
    "plotScoresUMAP(markers_list = features_list, seurat_data = seurat.clustered)\n"
   ]
  },
  {
   "cell_type": "markdown",
   "id": "0b11446c-5c4d-4cab-82ea-ae17d9fed073",
   "metadata": {},
   "source": [
    "We save the seurat object and the network (because for some inscrutable\n",
    "error, it cannot load together with the Seurat object when it is needed\n",
    "again)."
   ]
  },
  {
   "cell_type": "code",
   "execution_count": null,
   "id": "3f39a56b-81d5-4ce3-9cdf-362c47eccb4a",
   "metadata": {
    "vscode": {
     "languageId": "r"
    }
   },
   "outputs": [],
   "source": [
    "SaveH5Seurat(seurat.clustered, 'seurat.network.h5Seurat', overwrite = TRUE, verbose=FALSE)"
   ]
  },
  {
   "cell_type": "code",
   "execution_count": null,
   "id": "5684f126-19c3-40cc-bea7-864e59940d48",
   "metadata": {
    "vscode": {
     "languageId": "r"
    }
   },
   "outputs": [],
   "source": [
    "saveRDS(seurat.clustered@misc, \"network_lotus.RDS\")"
   ]
  },
  {
   "cell_type": "markdown",
   "id": "8b801ae2-0c4f-46fa-8305-f325377f387f",
   "metadata": {},
   "source": [
    "## Differential module Expression (DME) analysis\n",
    "\n",
    "Lastly, we can see which modules are most expressed in a specific\n",
    "cluster against the others, in a similar way to differential gene\n",
    "expression."
   ]
  },
  {
   "cell_type": "code",
   "execution_count": null,
   "id": "4d5a3a3c-1c4c-401b-bfa6-29c3ed36dfb9",
   "metadata": {
    "vscode": {
     "languageId": "r"
    }
   },
   "outputs": [],
   "source": [
    "seurat.network <- LoadH5Seurat('seurat.network.h5Seurat', misc=FALSE, verbose=FALSE)"
   ]
  },
  {
   "cell_type": "code",
   "execution_count": null,
   "id": "c2f11f61-5d9a-4a0b-9381-2fb921bba5d6",
   "metadata": {
    "vscode": {
     "languageId": "r"
    }
   },
   "outputs": [],
   "source": [
    "seurat.network@misc <- readRDS(\"network_lotus.RDS\")"
   ]
  },
  {
   "cell_type": "markdown",
   "id": "c7e693ab-d3d3-4485-a7c3-0982be42e904",
   "metadata": {},
   "source": [
    "Here we discuss how to perform **DME testing between two different\n",
    "groups**. We use the `hdWGCNA` function `FindDMEs`, which is similar to\n",
    "the Seurat function FindMarkers. We use the Mann-Whitney U test, also\n",
    "known as the Wilcoxon test, to compare two groups, but other tests can\n",
    "be used at the user’s discretion with the `test.use` parameter.\n",
    "\n",
    "We are interested in defining our two groups both by condition and by\n",
    "choosing a cluster, for example `Cortex`. We filter DMEs by p-value and\n",
    "fold-change."
   ]
  },
  {
   "cell_type": "code",
   "execution_count": null,
   "id": "9ecf9796-4f5c-473c-8958-1ced739ac664",
   "metadata": {
    "vscode": {
     "languageId": "r"
    }
   },
   "outputs": [],
   "source": [
    "R7Agroup <- seurat.network@meta.data %>% subset(Condition == 'R7A' & predicted.id == 'Cortex') %>% rownames\n",
    "WTgroup <- seurat.network@meta.data %>% subset(Condition == 'Control' & predicted.id == 'Cortex') %>% rownames"
   ]
  },
  {
   "cell_type": "code",
   "execution_count": null,
   "id": "adb93a04-c9ec-4227-9b4d-18eaa9b5e71f",
   "metadata": {
    "vscode": {
     "languageId": "r"
    }
   },
   "outputs": [],
   "source": [
    "DMEs <- FindDMEs(\n",
    "  seurat.network,\n",
    "  barcodes1 = R7Agroup,\n",
    "  barcodes2 = WTgroup,\n",
    "  test.use='wilcox',\n",
    "  wgcna_name='tutorial'\n",
    ") %>% filter(p_val_adj < 0.001 & abs(avg_log2FC)>1) %>% select(-p_val)\n"
   ]
  },
  {
   "cell_type": "markdown",
   "id": "02538e57-8dd5-4cce-b1a4-eb6d26dcfe53",
   "metadata": {},
   "source": [
    "The resulting table below is very similar to the one for differential\n",
    "gene expression. Now the p-values and fold changes are referred to the\n",
    "differential module expression in the inoculated cortex VS the control\n",
    "cortex."
   ]
  },
  {
   "cell_type": "code",
   "execution_count": null,
   "id": "1003e216-473e-471b-be7f-0ec22aa3e6bb",
   "metadata": {
    "vscode": {
     "languageId": "r"
    }
   },
   "outputs": [],
   "source": [
    "DMEs"
   ]
  },
  {
   "cell_type": "markdown",
   "id": "67026571-464c-47f1-8262-4708af55028d",
   "metadata": {},
   "source": [
    "We can also do a lollipop plot as in [Figure 31](#fig-lol), where the\n",
    "size of each circle is the p-value, and the x-axis is the log-fold\n",
    "change. A cross on a circle means the p-value is not significant. Module\n",
    "4 and 11 are very interesting because of their over- and\n",
    "under-expression, though you should note the difference in percentages\n",
    "is pretty small. In our case we filtered out p-values that were too\n",
    "high, so we have only significant modules in the plot."
   ]
  },
  {
   "cell_type": "code",
   "execution_count": null,
   "id": "c8e5084e-1f42-4ba9-ac91-a097d2ee001b",
   "metadata": {
    "vscode": {
     "languageId": "r"
    }
   },
   "outputs": [],
   "source": [
    "options(repr.plot.width=6, repr.plot.height=6)\n",
    "\n",
    "PlotDMEsLollipop(\n",
    "  seurat.network, \n",
    "  DMEs, \n",
    "  wgcna_name='tutorial', \n",
    "  pvalue = \"p_val_adj\",\n",
    ")"
   ]
  },
  {
   "cell_type": "markdown",
   "id": "f034a733-3abb-490d-8cb7-6c56c1d97d67",
   "metadata": {},
   "source": [
    "### One-versus-all DME analysis\n",
    "\n",
    "This is another case of DME analysis, where each cluster is tested\n",
    "against the rest of the data to see which modules are differentially\n",
    "expressed. We can test by cell type (`predicted.id`) or by condition\n",
    "(`Condition`)."
   ]
  },
  {
   "cell_type": "code",
   "execution_count": null,
   "id": "ef081e4f-affa-4adb-a01c-73fe822dd8c2",
   "metadata": {
    "vscode": {
     "languageId": "r"
    }
   },
   "outputs": [],
   "source": [
    "DMEs_all <- FindAllDMEs(\n",
    "  seurat.network,\n",
    "  group.by = 'predicted.id',\n",
    "  wgcna_name = 'tutorial'\n",
    ") "
   ]
  },
  {
   "cell_type": "markdown",
   "id": "b09cbd1f-477b-4de8-ac3b-76d1ad353165",
   "metadata": {},
   "source": [
    "The table is usually big, but you can choose to filter by various\n",
    "parameters as below, and to look only at one cluster of interest"
   ]
  },
  {
   "cell_type": "code",
   "execution_count": null,
   "id": "952962c4-2ad1-44fa-b276-98b247d65a94",
   "metadata": {
    "vscode": {
     "languageId": "r"
    }
   },
   "outputs": [],
   "source": [
    "DMEs_cortex <- DMEs_all %>% filter(p_val_adj < .001 & abs(avg_log2FC)>1 \n",
    "                                       & is.finite(avg_log2FC)\n",
    "                                       & group=='Cortex')"
   ]
  },
  {
   "cell_type": "markdown",
   "id": "b2cd56cd-db7b-4b92-b08c-d657e42de82e",
   "metadata": {},
   "source": [
    "The DME analysis results in a lot of significant results for the cortex.\n",
    "But we can see that `pct.1` and `pct.2` vary a lot. Module 12 has more\n",
    "than 50% of the cells expressing the module, and 7% in the rest of the\n",
    "data, while Module 20 has percentages of 52% vs 22%. Here it is always\n",
    "best to report those percentages and log-fold changes starting from the\n",
    "highest ones."
   ]
  },
  {
   "cell_type": "code",
   "execution_count": null,
   "id": "f385eec4-a75c-4254-b1f0-b5a2f617be83",
   "metadata": {
    "vscode": {
     "languageId": "r"
    }
   },
   "outputs": [],
   "source": [
    "DMEs_cortex"
   ]
  },
  {
   "cell_type": "markdown",
   "id": "f9c009e0-b496-4625-ae4d-5b1f38279cef",
   "metadata": {},
   "source": [
    "You can look at any other cluster. For example trichoblasts. Here you\n",
    "can see how module 4 pops up as being basically entirely expressed only\n",
    "in Trichoblasts."
   ]
  },
  {
   "cell_type": "code",
   "execution_count": null,
   "id": "7fb4298f-1894-44a4-afa8-0df68fd2ea55",
   "metadata": {
    "vscode": {
     "languageId": "r"
    }
   },
   "outputs": [],
   "source": [
    "DMEs_tricho <- DMEs_all %>% filter(p_val_adj < .001 & abs(avg_log2FC)>1 \n",
    "                                       & is.finite(avg_log2FC)\n",
    "                                       & group=='Trichoblasts')"
   ]
  },
  {
   "cell_type": "code",
   "execution_count": null,
   "id": "0b5b8754-f333-4f81-92af-ef383210ac70",
   "metadata": {
    "vscode": {
     "languageId": "r"
    }
   },
   "outputs": [],
   "source": [
    "DMEs_tricho"
   ]
  },
  {
   "cell_type": "markdown",
   "id": "78b63543-884b-48b1-829b-5719b13450f5",
   "metadata": {},
   "source": [
    "For better visualization, you can always use the lolliplot plots using\n",
    "the correct table as an argument, so that you can plot multiple\n",
    "instances for the various clusters. In [Figure 32](#fig-lol2) we plot\n",
    "boyh for cortex and trichoblasts from the tables determined in the code\n",
    "above."
   ]
  },
  {
   "cell_type": "code",
   "execution_count": null,
   "id": "eac91f00-0834-4782-a4a3-b52749a0272c",
   "metadata": {
    "vscode": {
     "languageId": "r"
    }
   },
   "outputs": [],
   "source": [
    "options(repr.plot.width=12, repr.plot.height=6)\n",
    "\n",
    "#lollipop with cortex table\n",
    "p1 <- PlotDMEsLollipop(\n",
    "  seurat.network, \n",
    "  DMEs_cortex, \n",
    "  wgcna_name='tutorial', \n",
    "  pvalue = \"p_val_adj\",\n",
    ")\n",
    "\n",
    "#lollipop with trichoblasts table\n",
    "p2 <- PlotDMEsLollipop(\n",
    "  seurat.network, \n",
    "  DMEs_tricho, \n",
    "  wgcna_name='tutorial', \n",
    "  pvalue = \"p_val_adj\",\n",
    ")\n",
    "\n",
    "#plot an add a title\n",
    "p1 + ggtitle(\"DMEs of Cortex VS data\") + \n",
    "p2 + ggtitle(\"DMEs of Trichoblasts VS data\")"
   ]
  },
  {
   "cell_type": "markdown",
   "id": "49be2198-bcd7-410c-bbda-2c9ab33085f4",
   "metadata": {},
   "source": [
    "> **Wrapping Up**\n",
    ">\n",
    "> This is the end of the tutorial. We have not shown much biological\n",
    "> conclusion from the analysis - this is something that comes out by\n",
    "> studying for example the GO terms of the various genes and modules\n",
    "> identified. The scope of the tutorial was mainly to give all the means\n",
    "> to perform your own analysis, from which you can then gain biological\n",
    "> insight.\n",
    ">\n",
    "> If you are interested in more resources to learn single cell analysis,\n",
    "> you can find them at some of our courses. We have other single-cell\n",
    "> analysis tutorials including different tools at\n",
    ">\n",
    "> -   **Introduction to NGS data analysis** (found in the\n",
    ">     `Genomics Sandbox` **[at this\n",
    ">     link](https://cloud.sdu.dk/app/jobs/create?app=genomics&version=2023.03.01)** -\n",
    ">     note that this is in the `python` language )\n",
    "> -   **Introduction to scRNAseq analysis in R** (found in the\n",
    ">     `Transcriptomics Sandbox` **[at this\n",
    ">     link](https://cloud.sdu.dk/app/jobs/create?app=transcriptomics&version=2023.11)**\n",
    ">     )\n",
    ">\n",
    "> You can also find a lot of material in the **[`Seurat`\n",
    "> webpage](https://satijalab.org/seurat/articles/get_started.html)**. If\n",
    "> you create a new notebook in this environment, you are likely to have\n",
    "> all the packages needed to try the `Seurat` tutorials.\n",
    "\n",
    "Adossa, Nigatu, Sofia Khan, Kalle T. Rytkönen, and Laura L. Elo. 2021.\n",
    "“Computational Strategies for Single-Cell Multi-Omics Integration.”\n",
    "*Computational and Structural Biotechnology Journal* 19: 2588–96.\n",
    "<https://doi.org/10.1016/j.csbj.2021.04.060>.\n",
    "\n",
    "Becht, Etienne, Leland McInnes, John Healy, Charles-Antoine Dutertre,\n",
    "Immanuel W H Kwok, Lai Guan Ng, Florent Ginhoux, and Evan W Newell.\n",
    "2019. “Dimensionality Reduction for Visualizing Single-Cell Data Using\n",
    "UMAP.” *Nature Biotechnology* 37 (1): 38–44.\n",
    "<https://doi.org/10.1038/nbt.4314>.\n",
    "\n",
    "Cheng, Changde, Wenan Chen, Hongjian Jin, and Xiang Chen. 2023. “A\n",
    "Review of Single-Cell RNA-Seq Annotation, Integration, and Cell–Cell\n",
    "Communication.” *Cells* 12 (15): 1970.\n",
    "<https://doi.org/10.3390/cells12151970>.\n",
    "\n",
    "Fleming, Stephen J., Mark D. Chaffin, Alessandro Arduini, Amer-Denis\n",
    "Akkad, Eric Banks, John C. Marioni, Anthony A. Philippakis, Patrick T.\n",
    "Ellinor, and Mehrtash Babadi. 2023. “Unsupervised Removal of Systematic\n",
    "Background Noise from Droplet-Based Single-Cell Experiments Using\n",
    "CellBender.” *Nature Methods* 20 (9): 1323–35.\n",
    "<https://doi.org/10.1038/s41592-023-01943-7>.\n",
    "\n",
    "Frank, Manuel, Lavinia Ioana Fechete, Francesca Tedeschi, Marcin\n",
    "Nadzieja, Malita Malou Malekzadeh Nørgaard, Jesus Montiel, Kasper\n",
    "Røjkjær Andersen, Mikkel H. Schierup, Dugald Reid, and Stig Uggerhøj\n",
    "Andersen. 2023. “Single-Cell Analysis Identifies Genes Facilitating\n",
    "Rhizobium Infection in Lotus Japonicus.” *Nature Communications* 14\n",
    "(November): 7171. <https://doi.org/10.1038/s41467-023-42911-1>.\n",
    "\n",
    "Hafemeister, Christoph, and Rahul Satija. 2019. “Normalization and\n",
    "Variance Stabilization of Single-Cell RNA-Seq Data Using Regularized\n",
    "Negative Binomial Regression.” *Genome Biology* 20 (1): 296.\n",
    "<https://doi.org/10.1186/s13059-019-1874-1>.\n",
    "\n",
    "Heumos, Lukas, Anna C. Schaar, Christopher Lance, Anastasia\n",
    "Litinetskaya, Felix Drost, Luke Zappia, Malte D. Lücken, et al. 2023.\n",
    "“Best Practices for Single-Cell Analysis Across Modalities.” *Nature\n",
    "Reviews Genetics* 24 (8): 550–72.\n",
    "<https://doi.org/10.1038/s41576-023-00586-w>.\n",
    "\n",
    "Korsunsky, Ilya, Nghia Millard, Jean Fan, Kamil Slowikowski, Fan Zhang,\n",
    "Kevin Wei, Yuriy Baglaenko, Michael Brenner, Po-ru Loh, and Soumya\n",
    "Raychaudhuri. 2019. “Fast, Sensitive and Accurate Integration of\n",
    "Single-Cell Data with Harmony.” *Nature Methods* 16 (12): 1289–96.\n",
    "<https://doi.org/10.1038/s41592-019-0619-0>.\n",
    "\n",
    "Langfelder, Peter, and Steve Horvath. 2007. “Eigengene Networks for\n",
    "Studying the Relationships Between Co-Expression Modules.” *BMC Systems\n",
    "Biology* 1 (1): 54. <https://doi.org/10.1186/1752-0509-1-54>.\n",
    "\n",
    "Li, Xiaolin, Zhiqiong Zheng, Xiangxiao Kong, Ji Xu, Liping Qiu, Jongho\n",
    "Sun, Dugald Reid, et al. 2019. “Atypical Receptor Kinase RINRK1 Required\n",
    "for Rhizobial Infection but Not Nodule Development in *Lotus\n",
    "Japonicus*.” *Plant Physiology* 181 (2): 804–16.\n",
    "<https://doi.org/10.1104/pp.19.00509>.\n",
    "\n",
    "Luecken, Malte D, and Fabian J Theis. 2019. “Current Best Practices in\n",
    "Single‐cell RNA‐seq Analysis: A Tutorial.” *Molecular Systems Biology*\n",
    "15 (6): e8746. <https://doi.org/10.15252/msb.20188746>.\n",
    "\n",
    "McGinnis, Christopher S., Lyndsay M. Murrow, and Zev J. Gartner. 2019.\n",
    "“DoubletFinder: Doublet Detection in Single-Cell RNA Sequencing Data\n",
    "Using Artificial Nearest Neighbors.” *Cell Systems* 8 (4): 329–337.e4.\n",
    "<https://doi.org/10.1016/j.cels.2019.03.003>.\n",
    "\n",
    "McInnes, Leland, John Healy, Nathaniel Saul, and Lukas Großberger. 2018.\n",
    "“UMAP: Uniform Manifold Approximation and Projection.” *Journal of Open\n",
    "Source Software* 3 (29): 861. <https://doi.org/10.21105/joss.00861>.\n",
    "\n",
    "Morabito, Samuel, Fairlie Reese, Negin Rahimzadeh, Emily Miyoshi, and\n",
    "Vivek Swarup. 2023. “<span class=\"nocase\">hdWGCNA</span> Identifies\n",
    "Co-Expression Networks in High-Dimensional Transcriptomics Data.” *Cell\n",
    "Reports Methods* 3 (6): 100498.\n",
    "<https://doi.org/10.1016/j.crmeth.2023.100498>.\n",
    "\n",
    "Okamoto, Satoru, and Masayoshi Kawaguchi. 2015. “Shoot HAR1 Mediates\n",
    "Nitrate Inhibition of Nodulation in *Lotus Japonicus*.” *Plant Signaling\n",
    "& Behavior* 10 (5): e1000138.\n",
    "<https://doi.org/10.1080/15592324.2014.1000138>.\n",
    "\n",
    "Stuart, Tim, Andrew Butler, Paul Hoffman, Christoph Hafemeister,\n",
    "Efthymia Papalexi, William M. Mauck, Yuhan Hao, Marlon Stoeckius, Peter\n",
    "Smibert, and Rahul Satija. 2019. “Comprehensive Integration of\n",
    "Single-Cell Data.” *Cell* 177 (7): 1888–1902.e21.\n",
    "<https://doi.org/10.1016/j.cell.2019.05.031>.\n",
    "\n",
    "Szczyglowski, Krzysztof, Robert S. Shaw, Judith Wopereis, Sue Copeland,\n",
    "Dirk Hamburger, Beth Kasiborski, Frank B. Dazzo, and Frans J. De Bruijn.\n",
    "1998. “Nodule Organogenesis and Symbiotic Mutants of the Model Legume\n",
    "*Lotus Japonicus*.” *Molecular Plant-Microbe Interactions®* 11 (7):\n",
    "684–97. <https://doi.org/10.1094/MPMI.1998.11.7.684>.\n",
    "\n",
    "Traag, V. A., L. Waltman, and N. J. Van Eck. 2019. “From Louvain to\n",
    "Leiden: Guaranteeing Well-Connected Communities.” *Scientific Reports* 9\n",
    "(1): 5233. <https://doi.org/10.1038/s41598-019-41695-z>.\n",
    "\n",
    "Wang, Qi, Jinge Liu, and Hongyan Zhu. 2018. “Genetic and Molecular\n",
    "Mechanisms Underlying Symbiotic Specificity in Legume-Rhizobium\n",
    "Interactions.” *Frontiers in Plant Science* 9.\n",
    "<https://www.frontiersin.org/journals/plant-science/articles/10.3389/fpls.2018.00313>.\n",
    "\n",
    "Xiang, Ruizhi, Wencan Wang, Lei Yang, Shiyuan Wang, Chaohan Xu, and\n",
    "Xiaowen Chen. 2021. “A Comparison for Dimensionality Reduction Methods\n",
    "of Single-Cell RNA-Seq Data.” *Frontiers in Genetics* 12 (March):\n",
    "646936. <https://doi.org/10.3389/fgene.2021.646936>.\n",
    "\n",
    "Xinming, Tu. 2022. “Seurat CCA? It’s Just a Simple Extension of PCA!”\n",
    "<https://xinmingtu.cn/blog/2022/CCA_dual_PCA/>.\n",
    "\n",
    "Young, Matthew D, and Sam Behjati. 2020. “SoupX Removes Ambient RNA\n",
    "Contamination from Droplet-Based Single-Cell RNA Sequencing Data.”\n",
    "*GigaScience* 9 (12): giaa151.\n",
    "<https://doi.org/10.1093/gigascience/giaa151>."
   ]
  }
 ],
 "metadata": {
  "colab": {
   "collapsed_sections": [],
   "name": "Single_cell_day_Notebook_students.ipynb",
   "provenance": [],
   "toc_visible": true
  },
  "kernelspec": {
   "display_name": "R scrna",
   "language": "R",
   "name": "rscrna"
  },
  "language_info": {
   "codemirror_mode": "r",
   "file_extension": ".r",
   "mimetype": "text/x-r-source",
   "name": "R",
   "pygments_lexer": "r",
   "version": "4.3.2"
  },
  "toc-autonumbering": true,
  "toc-showmarkdowntxt": false
 },
 "nbformat": 4,
 "nbformat_minor": 5
}

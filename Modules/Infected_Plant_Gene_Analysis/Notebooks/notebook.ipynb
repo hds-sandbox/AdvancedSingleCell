{
  "cells": [
    {
      "cell_type": "markdown",
      "id": "3ef6eb3d-764e-49e1-b220-6fa2298d6044",
      "metadata": {},
      "source": [
        "# Single Cell Analysis Tutorial\n",
        "\n",
        "Samuele Soraggi\n",
        "[![](data:image/png;base64,iVBORw0KGgoAAAANSUhEUgAAABAAAAAQCAYAAAAf8/9hAAAAGXRFWHRTb2Z0d2FyZQBBZG9iZSBJbWFnZVJlYWR5ccllPAAAA2ZpVFh0WE1MOmNvbS5hZG9iZS54bXAAAAAAADw/eHBhY2tldCBiZWdpbj0i77u/IiBpZD0iVzVNME1wQ2VoaUh6cmVTek5UY3prYzlkIj8+IDx4OnhtcG1ldGEgeG1sbnM6eD0iYWRvYmU6bnM6bWV0YS8iIHg6eG1wdGs9IkFkb2JlIFhNUCBDb3JlIDUuMC1jMDYwIDYxLjEzNDc3NywgMjAxMC8wMi8xMi0xNzozMjowMCAgICAgICAgIj4gPHJkZjpSREYgeG1sbnM6cmRmPSJodHRwOi8vd3d3LnczLm9yZy8xOTk5LzAyLzIyLXJkZi1zeW50YXgtbnMjIj4gPHJkZjpEZXNjcmlwdGlvbiByZGY6YWJvdXQ9IiIgeG1sbnM6eG1wTU09Imh0dHA6Ly9ucy5hZG9iZS5jb20veGFwLzEuMC9tbS8iIHhtbG5zOnN0UmVmPSJodHRwOi8vbnMuYWRvYmUuY29tL3hhcC8xLjAvc1R5cGUvUmVzb3VyY2VSZWYjIiB4bWxuczp4bXA9Imh0dHA6Ly9ucy5hZG9iZS5jb20veGFwLzEuMC8iIHhtcE1NOk9yaWdpbmFsRG9jdW1lbnRJRD0ieG1wLmRpZDo1N0NEMjA4MDI1MjA2ODExOTk0QzkzNTEzRjZEQTg1NyIgeG1wTU06RG9jdW1lbnRJRD0ieG1wLmRpZDozM0NDOEJGNEZGNTcxMUUxODdBOEVCODg2RjdCQ0QwOSIgeG1wTU06SW5zdGFuY2VJRD0ieG1wLmlpZDozM0NDOEJGM0ZGNTcxMUUxODdBOEVCODg2RjdCQ0QwOSIgeG1wOkNyZWF0b3JUb29sPSJBZG9iZSBQaG90b3Nob3AgQ1M1IE1hY2ludG9zaCI+IDx4bXBNTTpEZXJpdmVkRnJvbSBzdFJlZjppbnN0YW5jZUlEPSJ4bXAuaWlkOkZDN0YxMTc0MDcyMDY4MTE5NUZFRDc5MUM2MUUwNEREIiBzdFJlZjpkb2N1bWVudElEPSJ4bXAuZGlkOjU3Q0QyMDgwMjUyMDY4MTE5OTRDOTM1MTNGNkRBODU3Ii8+IDwvcmRmOkRlc2NyaXB0aW9uPiA8L3JkZjpSREY+IDwveDp4bXBtZXRhPiA8P3hwYWNrZXQgZW5kPSJyIj8+84NovQAAAR1JREFUeNpiZEADy85ZJgCpeCB2QJM6AMQLo4yOL0AWZETSqACk1gOxAQN+cAGIA4EGPQBxmJA0nwdpjjQ8xqArmczw5tMHXAaALDgP1QMxAGqzAAPxQACqh4ER6uf5MBlkm0X4EGayMfMw/Pr7Bd2gRBZogMFBrv01hisv5jLsv9nLAPIOMnjy8RDDyYctyAbFM2EJbRQw+aAWw/LzVgx7b+cwCHKqMhjJFCBLOzAR6+lXX84xnHjYyqAo5IUizkRCwIENQQckGSDGY4TVgAPEaraQr2a4/24bSuoExcJCfAEJihXkWDj3ZAKy9EJGaEo8T0QSxkjSwORsCAuDQCD+QILmD1A9kECEZgxDaEZhICIzGcIyEyOl2RkgwAAhkmC+eAm0TAAAAABJRU5ErkJggg==)](https://orcid.org/0000-0002-1159-5535)\n",
        "\n",
        "This tutorial will give you the extensive basic commands and\n",
        "explanations for the single cell analysis of your own dataset.\n",
        "\n",
        "-   The **first part of the tutorial** ([Section 2](#sec-preprocessing))\n",
        "    is focused on **preprocessing** the data, which means primarily\n",
        "    filtering and normalizing it.\n",
        "\n",
        "-   The **second part of the tutorial** ([Section 3](#sec-integration))\n",
        "    is focused on **integrating** all sixteen datasets produced from the\n",
        "    lab sessions (you will perform this integration analysis in groups),\n",
        "    identifying cell types and find a population of cells expressing the\n",
        "    HAR1 gene to analyze different conditions of mutant VS wild type\n",
        "    Lotus japonicus.\n",
        "\n",
        "-   The **third part of the tutorial** ([Section 4](#sec-geneanalysis))\n",
        "    applies tipycal gene analysis to detect genes conserved and\n",
        "    differentially expressed between conditions\n",
        "\n",
        "-   The **fourth part of the tutorial** ([Section 4.2](#sec-networks))\n",
        "    pivots around the study of groups of genes co-expressed in the data\n",
        "    and in specific clusters and conditions\n",
        "\n",
        "The first two parts follow the phylosophy of the best practices\n",
        "explained in Luecken and Theis (2019) and Heumos et al. (2023). The\n",
        "third part applies standard statistical tests on the average gene\n",
        "expressions in subsets of the data. The last part is based pulling cells\n",
        "transcripts together with different granularities to improve the\n",
        "statistical power of calculations based on their gene expression (as in\n",
        "Morabito et al. (2023)).\n",
        "\n",
        "The tutorial is based on four samples of Lotus Japonicus (two\n",
        "rhizobia-infected and two wild types) from [Frank et al.\n",
        "(2023)](https://www.ncbi.nlm.nih.gov/pmc/articles/PMC10630511/pdf/41467_2023_Article_42911.pdf).\n",
        "The last section follows some of the [tutorials from\n",
        "hdWGCNA](https://smorabit.github.io/hdWGCNA/).\n",
        "\n",
        ":::{.callout-note title=\"Learning outcomes\" icon=false}\n",
        "\n",
        "At the end of this tutorial **you will be able to use `R` to**\n",
        "\n",
        "- **Filter** your data selecting specific criteria\n",
        "- **Preprocess** your data for advanced analysis\n",
        "- **Merge and integrate** datasets and perform **cross-data analysis**\n",
        "- **Identify potential cell types** by markers and exploiting other datasets \n",
        "- Perform and elaborate **differential and conserved** gene expression\n",
        "- Infer **gene modules** from your data and isolate significant ones related to a cell type\n",
        "- **Visualize gene modules** and extract their **gene ontology** to draw biological conclusions\n",
        "\n",
        ":::\n",
        "\n",
        "## A (rather very) short biological background\n",
        "\n",
        "Lotus Japonicus is a legume characterized by the legume-rhizobium\n",
        "symbiotic interaction (rhizobia are soil microorganisms that can\n",
        "interact with leguminous plants to form root nodules within which\n",
        "conditions are favourable for bacterial nitrogen fixation. Legumes allow\n",
        "the development of very large rhizobial populations in the vicinity of\n",
        "their roots). [Figure 1](#fig-nitrogenfixing) and text below it from\n",
        "Wang, Liu, and Zhu (2018).\n",
        "\n",
        "![Figure 1: Symbiosis signaling and plant immunity involved in\n",
        "recognition specificity in the legume-rhizobial interactions (indicated\n",
        "by the red stars). **A** The process of infection and nodule\n",
        "development. A mature indeterminate nodule contains a meristem zone (I),\n",
        "an infection zone (II), an interzone (IZ), a nitrogen fixing zone (III),\n",
        "and a senescent zone (IV). **B** The host secretes flavonoids to induce\n",
        "the expression of bacterial nodulation (nod) gene through the activation\n",
        "of NodD proteins. The enzymes encoded by the nod genes lead to the\n",
        "synthesis of Nod factors (NF) that are recognized by host Nod factor\n",
        "receptors (NFRs). Recognition specificity occurs both between Flavonoids\n",
        "and NodDs and between NF and NFRs. **C** In addition to NF signaling,\n",
        "bacteria also produce extracellular polysaccharides (EPS) and type III\n",
        "effectors to facilitate their infection in compatible interactions, but\n",
        "these molecules may also induce immune responses causing resistance to\n",
        "infection in incompatible interactions. **D** Certain legumes such as\n",
        "Medicago encode antimicrobial nodule-specific cysteine-rich (NCR)\n",
        "peptides to drive their bacterial partners to terminal differentiation\n",
        "that is required for nitrogen fixation. However, some rhizobial strains\n",
        "cannot survive the antibacterial activity of certain peptide isoforms,\n",
        "leading to formation of nodules defective in nitrogen\n",
        "fixation.](images/nitrogenfixing.jpg)\n",
        "\n",
        "Rhizobial invasion of legumes is primarily mediated by a plant-made\n",
        "tubular invagination called an infection thread (IT). Research has shown\n",
        "that various genes are involved in some of the processes of the\n",
        "legume-rhizobia interaction. [Figure 2](#fig-ljinfection) and text below\n",
        "it from Szczyglowski et al. (1998).\n",
        "\n",
        "![Figure 2: Primary infection of Lotus japonicus roots inoculated with\n",
        "Mesorhizobium loti strain NZP2235. **A**, Brightfield micrograph of root\n",
        "hair curlings resembling shepherd’s-crook structures (arrows). **B–C**,\n",
        "Phase contrast micrographs of the intracellular infection threads within\n",
        "curled root hairs. Arrows point to infection threads with papilla-like\n",
        "structures on their outer surface. Bar, 70 µm **A**, 25 µm **B**, and 20\n",
        "µm **C**.](images/LJinfection.png)\n",
        "\n",
        "-   **RINRK1** (Rhizobial Infection Receptor-like Kinase1), that is\n",
        "    induced by Nod factors (NFs) and is involved in IT formation but not\n",
        "    nodule organogenesis. A paralog, RINRK2, plays a relatively minor\n",
        "    role in infection. RINRK1 is required for full induction of early\n",
        "    infection genes, including Nodule Inception (NIN), encoding an\n",
        "    essential nodulation transcription factor. See Li et al. (2019).\n",
        "-   **HAR1** mediates nitrate inhibition and autoregulation of\n",
        "    nodulation. Autoregulation of nodulation involves\n",
        "    root-to-shoot-to-root long-distance communication, and HAR1\n",
        "    functions in shoots. HAR1 is critical for the inhibition of\n",
        "    nodulation at 10 mM nitrate. The nitrate-induced CLE-RS2\n",
        "    glycopeptide binds directly to the HAR1 receptor, this result\n",
        "    suggests that CLE-RS2/HAR1 long-distance signaling plays an\n",
        "    important role in the both nitrate inhibition and the autoregulation\n",
        "    of nodulation. See Okamoto and Kawaguchi (2015).\n",
        "-   **SYMRKL1**, encodes a protein with an ectodomain predicted to be\n",
        "    nearly identical to that of SYMRK and is required for normal\n",
        "    infection thread formation. See Frank et al. (2023).\n",
        "\n",
        "# UMI-based single cell data from microdroplets\n",
        "\n",
        "The dataset is based on a **microdroplet-based method from 10X\n",
        "chromium**. We remember that a microdroplet single cell sequencing\n",
        "protocol works as follow:\n",
        "\n",
        "-   each cell is isolated together with a barcode bead in a gel/oil\n",
        "    droplet\n",
        "\n",
        "![Figure 3: Isolation of cells and beads into\n",
        "microdroplets.](images/dropletisolation.jpg)\n",
        "\n",
        "-   each transcript in the cell is captured via the bead and assigned a\n",
        "    cell barcode and a transcript unique molecular identifier (UMI)\n",
        "-   3’ reverse transcription of mRNA into cDNA is then performed in\n",
        "    preparation to the PCR amplification\n",
        "-   the cDNA is amplified through PCR cycles\n",
        "\n",
        "![Figure 4: steps for the microdroplet-based single cell RNA sequencing\n",
        "after isolation.](images/10X.png)\n",
        "\n",
        "## The raw data in practice\n",
        "\n",
        "Let’s look at a specific read and its UMI and cell barcode. The data is\n",
        "organized in paired-end reads (written on `fastq` files), where the\n",
        "first `fastq` file contains reads in the following format\n",
        "\n",
        "    @SRR8363305.1 1 length=26\n",
        "    NTGAAGTGTTAAGACAAGCGTGAACT\n",
        "    +SRR8363305.1 1 length=26\n",
        "    #AAFFJJJJJJJJJJJJJJJJFJJJJ\n",
        "\n",
        "Here, the first 16 characters `NTGAAGTGTTAAGACA` represent the cell\n",
        "barcode, while the last 10 characters `AGCGTGAACT` are the transcript\n",
        "UMI tag. The last line represents the quality scores of the 26\n",
        "characters of barcode+UMI.\n",
        "\n",
        "The associated second `fastq` file contains reads of 98nt as the\n",
        "following\n",
        "\n",
        "    @SRR8363305.1 1 length=98\n",
        "    NCTAAAGATCACACTAAGGCAACTCATGGAGGGGTCTTCAAAGA\n",
        "        CCTTGCAAGAAGTACTAACTATGGAGTATCGGCTAAGTCAANCN\n",
        "        TGTATGAGAT\n",
        "    +SRR8363305.1 1 length=98\n",
        "    #A<77AFJJFAAAJJJ7-7-<7FJ-7----<77--7FAAA--\n",
        "        <JFFF-7--7<<-F77---FF---7-7A-777777A-<\n",
        "        -7---#-#A-7-7--7--\n",
        "\n",
        "The 98nt-long string of characters in the second line is a partial\n",
        "sequence of the cDNA transcript. Specifically, the 10X chromium protocol\n",
        "used for sequencing the data is biased towards the 3’ end, because the\n",
        "sequencing is oriented from the 3’ to the 5’ end of the transcripts. The\n",
        "last line contains the corresponding quality scores.\n",
        "\n",
        "## Alignment and expression matrix\n",
        "\n",
        "The data is aligned with `cellranger`, a completely automatized\n",
        "[pipeline implemented by\n",
        "10X](https://support.10xgenomics.com/single-cell-gene-expression/software/pipelines/latest/what-is-cell-ranger)\n",
        "for 10X-genomics data.\n",
        "\n",
        "Apart from the data, the output contains an interactive document\n",
        "reporting the quality of the data and a small preliminary UMAP plot and\n",
        "clustering. In this report it is especially instructive to look at the\n",
        "**knee plot**.\n",
        "\n",
        "The knee plot is created by plotting the number of unique molecular\n",
        "identifiers (UMIs) or reads against the number of cells sequenced,\n",
        "sorted in descending order. The UMIs or reads are a measure of the\n",
        "amount of RNA captured for each cell, and thus a measure of the quality\n",
        "of the data. The plot typically shows a **steep slope at the beginning,\n",
        "followed by a plateau, and then a gradual decrese into a second slope\n",
        "and a final plateau**.\n",
        "\n",
        "-   The steep slope represents the initial cells that are of **high\n",
        "    quality** and have the highest number of UMIs or reads.\n",
        "-   The first plateau represents the cells that have **lower quality\n",
        "    data**, and the gradual decrease represents the addition of droplets\n",
        "    with even lower quality data.\n",
        "-   Usually, beyond the first slope, you have droplets that are **either\n",
        "    empty or of so poor quality**, that they are not worth keeping for\n",
        "    analysis.\n",
        "-   The height of the last plateau gives you an idea of the **presence\n",
        "    of ambient RNA** inside droplets. If the last plateau is located\n",
        "    high up, then the corresponding amount of UMIs consist of background\n",
        "    ambient RNA which likely pollutes all cells in your data.\n",
        "\n",
        "Below, the knee plot from the `control 1` sample used in this analysis.\n",
        "You can see that around 10,000 cells with above ~1000 UMIs seems to be\n",
        "coinsidered of decent quality by `cellranger` (the part of line coloured\n",
        "in blue). Note that the last plateau is located at a very low amount of\n",
        "UMIs, meaning there is not really any relevant contamination from\n",
        "ambient RNA.\n",
        "\n",
        "![Figure 5: Knee plot of the Control 1 sample of the tutorial. Note the\n",
        "lower plateau of ambient RNA](images/knee.png)\n",
        "\n",
        "::: {.callout-note title=\"Exercise\" icon=false}\n",
        "\n",
        " In this same folder you have the document `web_summary.html` that\n",
        " shows you the quality report of an example dataset produced using the\n",
        " `10X cellranger` pipeline for alignment. **Take some time to look at\n",
        " it and explore what it contains** (Click on `Trust HTML` on the top\n",
        " menu if the html remains blank after opening it). Get an idea of how\n",
        " many UMIs there are in cells of decent quality. We will work more on\n",
        " filtering out cells based on their quality in this tutorial.\n",
        "\n",
        " You can read a [technical\n",
        " note](https://www.10xgenomics.com/support/single-cell-gene-expression/documentation/steps/sequencing/interpreting-cell-ranger-web-summary-files-for-single-cell-gene-expression-assays)\n",
        " on interpreting cellranger reports.\n",
        "\n",
        ":::\n",
        "\n",
        ":::{.callout-tip title=\"Something more about knee plots\" collapse=\"true\"}\n",
        "\n",
        " The background RNA (sequenced together with the transcript coming from\n",
        " the cell of interest) makes up the *ambient plateau*: the same\n",
        " background RNA is contained in empty droplets. If your dataset has\n",
        " extremely few UMI counts in empty droplets, then there is not much\n",
        " background RNA present - This is the best situation in which you can\n",
        " find yourself. See Exhibit A in [Figure 6](#fig-bender).\n",
        "\n",
        " If you have a dataset where you can identify an *empty droplet\n",
        " plateau* by eye (Exhibit B in [Figure 6](#fig-bender)), and these\n",
        " empty droplets have 50 or 100 or several hundred counts, then it can\n",
        " be advisable to use a specific software to remove the background\n",
        " transcripts (e.g. `CellBender` (Fleming et al. (2023)), `SoupX` (Young\n",
        " and Behjati (2020))).\n",
        "\n",
        " If you have a dataset with so much background RNA that you cannot\n",
        " identify the *empty droplet plateau* yourself by eye (Exhibit C in\n",
        " [Figure 6](#fig-bender)), then any software to remove background\n",
        " transcripts will also likely have a difficult time. Such the\n",
        " algorithms might be worth a try, but you should **strongly consider\n",
        " re-running the experiment, as the knee plot points to a real QC\n",
        " failure**\n",
        "\n",
        " ![Figure 6: Various cases of knee plot you can encounter from\n",
        " sequenced data. Figure from [the webpage of\n",
        " Cellbender.](https://cellbender.readthedocs.io/)](images/UMI_curve_tropes.png)\n",
        "\n",
        ":::\n",
        "\n",
        "# Preprocessing\n",
        "\n",
        "::: {.callout-note title=\"Learning outcome\"}\n",
        "\n",
        " We will answer to the following questions:\n",
        "\n",
        " -   How can I **import single-cell data** into R?\n",
        " -   How are different types of data/information (e.g. cell\n",
        "     information, gene information, etc.) **stored and manipulated**?\n",
        " -   How can I obtain basic **summary metrics** for cells and genes and\n",
        "     **filter the data** accordingly?\n",
        " -   How can I **visually explore** these metrics?\n",
        "\n",
        ":::\n",
        "\n",
        "We start by loading all the packages necessary for the analysis and\n",
        "setup a few things"
      ]
    },
    {
      "cell_type": "code",
      "execution_count": null,
      "id": "38846463-3e60-4153-b9cf-8b75138fe060",
      "metadata": {
        "tags": [],
        "vscode": {
          "languageId": "r"
        }
      },
      "outputs": [],
      "source": [
        "suppressPackageStartupMessages({\n",
        "library(SeuratDisk); \n",
        "library(Seurat);\n",
        "library(DoubletFinder);\n",
        "library(parallel);\n",
        "library(multtest);\n",
        "library(metap);\n",
        "library(purrr);\n",
        "library(dplyr);\n",
        "library(stringr);\n",
        "library(tibble);\n",
        "library(ggplot2);\n",
        "library(MAST);\n",
        "library(WGCNA);\n",
        "library(hdWGCNA);\n",
        "library(patchwork);\n",
        "library(doFuture);})"
      ]
    },
    {
      "cell_type": "code",
      "execution_count": null,
      "id": "efd2bc1f-f546-414b-9ec3-361ee9e9386a",
      "metadata": {
        "vscode": {
          "languageId": "r"
        }
      },
      "outputs": [],
      "source": [
        "source(\"../Scripts/script.R\")"
      ]
    },
    {
      "cell_type": "code",
      "execution_count": null,
      "id": "408fa1d9-f620-4ed4-9d1a-c41f9805b3a9",
      "metadata": {
        "tags": [],
        "vscode": {
          "languageId": "r"
        }
      },
      "outputs": [],
      "source": [
        "options(future.seed=TRUE)"
      ]
    },
    {
      "cell_type": "code",
      "execution_count": null,
      "id": "0a3dc91f-2f58-4a03-af8e-29ca4af93ca4",
      "metadata": {
        "tags": [],
        "vscode": {
          "languageId": "r"
        }
      },
      "outputs": [],
      "source": [
        "plan(\"multicore\", workers = 8)\n",
        "options(future.globals.maxSize = 8 * 1024^3)"
      ]
    },
    {
      "cell_type": "markdown",
      "id": "93c4e2cd-ff6a-4668-8b12-c3a60ad02abe",
      "metadata": {},
      "source": [
        "## Download data\n",
        "\n",
        "We check if the data exists, otherwise a script will download the\n",
        "missing data files in the appropriate folder, which should be `../Data`."
      ]
    },
    {
      "cell_type": "code",
      "execution_count": null,
      "id": "2d663944-a63e-4d32-addc-d8f6408487d3",
      "metadata": {
        "vscode": {
          "languageId": "r"
        }
      },
      "outputs": [],
      "source": [
        "downloadData()"
      ]
    },
    {
      "cell_type": "markdown",
      "id": "2511203e-2d43-4d56-9fdc-ab2219b33b49",
      "metadata": {},
      "source": [
        "## Import data\n",
        "\n",
        "We import the data reading the matrix files aligned by 10X. Those are\n",
        "usually contained in a folder with a name of the type\n",
        "`aligned_dataset/outs/filtered_bc_matrix`, that 10X Cellranger creates\n",
        "automatically after the alignment. You need to use such a folder when\n",
        "your own data is aligned and you need to import it. In this tutorial,\n",
        "the aligned data is in the folder `../Data/control_1` used below. The\n",
        "command for reading the data is simply `Read10X`."
      ]
    },
    {
      "cell_type": "code",
      "execution_count": null,
      "id": "37b861a3-c382-4187-ae5a-b011f7b8db14",
      "metadata": {
        "tags": [],
        "vscode": {
          "languageId": "r"
        }
      },
      "outputs": [],
      "source": [
        "Control1 <- Read10X(\"../Data/control_1/\")"
      ]
    },
    {
      "cell_type": "markdown",
      "id": "7c3b77c0-8766-48b6-aaf3-da708567dd65",
      "metadata": {},
      "source": [
        "::: {.callout-warning title=\"Preprocessing multiple datasets\"}\n",
        "\n",
        " Note that we are loading only one dataset (`control_1`, one of the two\n",
        " control replicates). Another control dataset, and two infected\n",
        " datasets, have already been preprocessed and will be used later - so\n",
        " **we will now focus on the preprocessing of a single dataset**. In\n",
        " general, when you have multiple datasets, you must preprocess them one\n",
        " at a time before integrating them together.\n",
        "\n",
        ":::\n",
        "\n",
        "What we obtain in the command above is an expression matrix. Look at the\n",
        "first 10 rows and columns of the matrix (whose rows represent genes and\n",
        "columns droplets/cells) - the dots are zeros (they are not stored in the\n",
        "data, which has a compressed format called `dgCMatrix`), and **are the\n",
        "majority of the expression values obtained in scRNA data!**"
      ]
    },
    {
      "cell_type": "code",
      "execution_count": null,
      "id": "f12deb8b-b255-4f13-8747-c037f2659f3b",
      "metadata": {
        "tags": [],
        "vscode": {
          "languageId": "r"
        }
      },
      "outputs": [],
      "source": [
        "Control1[1:10,1:10]"
      ]
    },
    {
      "cell_type": "markdown",
      "id": "5e8eaf82-d22e-4943-b52f-9bfe63b31b9f",
      "metadata": {},
      "source": [
        "What is the percentage of zeros in this matrix? You can see it for\n",
        "yourself below - it is a lot, but quite surprisingly we can get a lot of\n",
        "information from the data!"
      ]
    },
    {
      "cell_type": "code",
      "execution_count": null,
      "id": "2b58ade1-851c-4e20-97ef-d0a981ec89d4",
      "metadata": {
        "tags": [],
        "vscode": {
          "languageId": "r"
        }
      },
      "outputs": [],
      "source": [
        "cat(\"Number of zeros: \")\n",
        "zeros <-  sum(Control1==0)\n",
        "cat( zeros )"
      ]
    },
    {
      "cell_type": "code",
      "execution_count": null,
      "id": "61594631-cac4-47e1-a5f5-04fb10075c06",
      "metadata": {
        "tags": [],
        "vscode": {
          "languageId": "r"
        }
      },
      "outputs": [],
      "source": [
        "cat(\"Number of expression entries: \")\n",
        "total <- dim(Control1)[1] * dim(Control1)[2]\n",
        "cat( total )"
      ]
    },
    {
      "cell_type": "code",
      "execution_count": null,
      "id": "7f49661e-fc72-4fcd-b062-9768a7eeed8a",
      "metadata": {
        "tags": [],
        "vscode": {
          "languageId": "r"
        }
      },
      "outputs": [],
      "source": [
        "cat(\"Percentage of zeros: \")\n",
        "cat( zeros / total * 100 )"
      ]
    },
    {
      "cell_type": "markdown",
      "id": "f5a58782-66a7-4d1d-9360-a846bfd303f6",
      "metadata": {},
      "source": [
        "## Create a single cell object in Seurat\n",
        "\n",
        "We use our count matrix to create a Seurat object. A Seurat object\n",
        "allows you to **store the count matrix** and future modifications of it\n",
        "(for example its normalized version), together with **information\n",
        "regarding cells and genes** (such as clusters of cell types) and their\n",
        "**projections** (such as PCA and tSNE). We will go through these\n",
        "elements, but first we create the object with `CreateSeuratObject`:"
      ]
    },
    {
      "cell_type": "code",
      "execution_count": null,
      "id": "55b9c0b2-64e5-4dc1-be60-7a8bdd74efe2",
      "metadata": {
        "tags": [],
        "vscode": {
          "languageId": "r"
        }
      },
      "outputs": [],
      "source": [
        "Control1_seurat <- CreateSeuratObject(counts = Control1, \n",
        "                                               project = \"Control1_seurat\", \n",
        "                                               min.cells = 3, \n",
        "                                               min.features = 200)"
      ]
    },
    {
      "cell_type": "markdown",
      "id": "61ca9abf-6811-4987-b03a-5ce94943d4f7",
      "metadata": {},
      "source": [
        "The arguments of the command are \\* `counts`: the count matrix \\*\n",
        "`project`: a project name \\* `min.cells`: a minimum requirement for\n",
        "genes, in our case saying they must be expressed in at least 3 cells. If\n",
        "not, they are filtered out already now when creating the object. \\*\n",
        "`min.features`: a minimum requirement for cells. Cells having less than\n",
        "200 expressed genes are removed from the beginning from the data.\n",
        "\n",
        "Values for the minimum requirements chosen above are standard checks\n",
        "when running the analysis. Droplets not satisfying those requirements\n",
        "are of extremely bad quality and not worth carrying on during the\n",
        "analysis (remember the knee plot).\n",
        "\n",
        "How many genes and cells have been filtered out?"
      ]
    },
    {
      "cell_type": "code",
      "execution_count": null,
      "id": "03d2431a-c6bb-4a9c-ab41-37695f1cc515",
      "metadata": {
        "tags": [],
        "vscode": {
          "languageId": "r"
        }
      },
      "outputs": [],
      "source": [
        "cat(\"Starting Genes and Cells:\\n\")\n",
        "cat( dim(Control1) )\n",
        "\n",
        "cat(\"\\nFiltered Genes and Cells:\\n\")\n",
        "cat( dim(Control1) - dim(Control1_seurat) )\n",
        "\n",
        "cat(\"\\nRemaining Genes and Cells:\\n\")\n",
        "cat( dim(Control1_seurat) )"
      ]
    },
    {
      "cell_type": "markdown",
      "id": "773f6d13-830e-4398-8949-ed858ebe2dc5",
      "metadata": {},
      "source": [
        "We want to use this data later in the analysis with other `Control` and\n",
        "`Infected` datasets. Therefore we add a `Condition` to the metadata\n",
        "table, and for this dataset we establish that each cell is `Control`."
      ]
    },
    {
      "cell_type": "code",
      "execution_count": null,
      "id": "abe1f20e-08fb-466f-8ee2-4d148bbca202",
      "metadata": {
        "tags": [],
        "vscode": {
          "languageId": "r"
        }
      },
      "outputs": [],
      "source": [
        "Control1_seurat <- AddMetaData(object = Control1_seurat, \n",
        "                                        metadata = \"Control\", \n",
        "                                        col.name = \"Condition\")"
      ]
    },
    {
      "cell_type": "markdown",
      "id": "dbcbb4e7-fa17-466d-92c9-dc4e049a0dd3",
      "metadata": {},
      "source": [
        "### Content of a Seurat Object\n",
        "\n",
        "What is contained in the Seurat object? We can use the command `str` to\n",
        "list the various *slots* of the object."
      ]
    },
    {
      "cell_type": "code",
      "execution_count": null,
      "id": "efe1a14e-d7d0-4977-ad20-a5d16bb5ceb1",
      "metadata": {
        "tags": [],
        "vscode": {
          "languageId": "r"
        }
      },
      "outputs": [],
      "source": [
        "str(Control1_seurat, max.level = 2)"
      ]
    },
    {
      "cell_type": "markdown",
      "id": "cfe407fb-eca8-41cd-99db-a43d8bd62366",
      "metadata": {},
      "source": [
        "The first slot is called `assays`, and it contains all the count\n",
        "matrices we have collected during our analysis when, for example,\n",
        "normalizing data or doing other transformations of it. Right now we only\n",
        "have the `RNA` assay with the raw counts:"
      ]
    },
    {
      "cell_type": "code",
      "execution_count": null,
      "id": "c4517a9c-056e-47ac-8069-683cd9e57dcf",
      "metadata": {
        "tags": [],
        "vscode": {
          "languageId": "r"
        }
      },
      "outputs": [],
      "source": [
        "Control1_seurat@assays"
      ]
    },
    {
      "cell_type": "markdown",
      "id": "a1aebedd-d42f-4a9e-ad4e-d62a26153f68",
      "metadata": {},
      "source": [
        "You can always select which matrix is currently in use for the analysis\n",
        "by assigning it to `DefaultAssay()`. The default assay is often changed\n",
        "automatically by Seurat, for example the normalized assay is used as\n",
        "default after normalization is performed."
      ]
    },
    {
      "cell_type": "code",
      "execution_count": null,
      "id": "3421ea20-873e-48e4-b292-0da75c9828e7",
      "metadata": {
        "tags": [],
        "vscode": {
          "languageId": "r"
        }
      },
      "outputs": [],
      "source": [
        "DefaultAssay(object = Control1_seurat) <- \"RNA\""
      ]
    },
    {
      "cell_type": "code",
      "execution_count": null,
      "id": "c53bca1f-615a-46a7-9b84-d2f8e9e9882c",
      "metadata": {
        "tags": [],
        "vscode": {
          "languageId": "r"
        }
      },
      "outputs": [],
      "source": [
        "cat(\"Your default assay is \")\n",
        "cat(DefaultAssay(object = Control1_seurat))"
      ]
    },
    {
      "cell_type": "markdown",
      "id": "3e9b94a9-65c4-45e7-9805-8f023657cb2a",
      "metadata": {},
      "source": [
        "The second slot is the one that contains the metadata for each cell. It\n",
        "is easily visualized as a table (the command `head` shows only the first\n",
        "6 rows of the table):"
      ]
    },
    {
      "cell_type": "code",
      "execution_count": null,
      "id": "c7b52fd1-659e-469d-844e-1c2d8ff8efa2",
      "metadata": {
        "tags": [],
        "vscode": {
          "languageId": "r"
        }
      },
      "outputs": [],
      "source": [
        "head( Control1_seurat@meta.data )"
      ]
    },
    {
      "cell_type": "markdown",
      "id": "3a6a37f7-3bbd-43e2-9177-1c008391450e",
      "metadata": {},
      "source": [
        "The table contains a name for the dataset (`orig.ident`, useful to\n",
        "distinguish multiple datasets merged together), how many RNA transcripts\n",
        "are contained in each cell (`nCount_RNA`), the number of expressed genes\n",
        "in each cell (`nFeature_RNA`), and the `Condition` (added by us\n",
        "previously). More metadata can be added along the analysis, and some is\n",
        "added automatically by Seurat when running specific commands.\n",
        "\n",
        "The `assays` and `meta.data` slots are the most relevant and useful to\n",
        "know - the other ones are mostly for internal use by Seurat and we do\n",
        "not go into detail with those.\n",
        "\n",
        "## Finding filtering criteria\n",
        "\n",
        "We want to look in depth at which droplets do not contain good quality\n",
        "data, so that we can filter them out. The standard approach - which\n",
        "works quite well - is to study the **distribution of various quality\n",
        "measures and remove doublets** (droplets containing more than one cell)\n",
        "which can confound the analysis results. We will look at some plots and\n",
        "decide some threshold, then we will apply them at the end after looking\n",
        "at all the histograms.\n",
        "\n",
        "### Quality measure distributions\n",
        "\n",
        "A first step is to calculate the percentage of mitochondrial and\n",
        "chloroplastic genes. A high percentage indicates the presence of spilled\n",
        "material from broken cells. We use the command `PercentageFeatureSet`\n",
        "and provide the pattern of the gene ID which corresponds to\n",
        "mitochondrial and ribosomal genes. The percentages are saved into the\n",
        "metadata simply by using the double squared brackets `[[`."
      ]
    },
    {
      "cell_type": "code",
      "execution_count": null,
      "id": "01d1777f-10f5-4a7b-891a-f8497dc29c9c",
      "metadata": {
        "tags": [],
        "vscode": {
          "languageId": "r"
        }
      },
      "outputs": [],
      "source": [
        "Control1_seurat[[\"percent.mt\"]] <- PercentageFeatureSet(Control1_seurat, \n",
        "                                                                 pattern = \"LotjaGiM1v\")\n",
        "Control1_seurat[[\"percent.chloroplast\"]] <- PercentageFeatureSet(Control1_seurat, \n",
        "                                                                          pattern = \"LotjaGiC1v\")"
      ]
    },
    {
      "cell_type": "markdown",
      "id": "9fc755a7-9b5a-405b-a40d-738f930fdff0",
      "metadata": {},
      "source": [
        "You can see the new metadata is now added for each cell"
      ]
    },
    {
      "cell_type": "code",
      "execution_count": null,
      "id": "e6fab61f-7646-4924-b573-7a959c7d1acb",
      "metadata": {
        "tags": [],
        "vscode": {
          "languageId": "r"
        }
      },
      "outputs": [],
      "source": [
        "head( Control1_seurat@meta.data )"
      ]
    },
    {
      "cell_type": "markdown",
      "id": "a16100d2-bc13-440b-a78f-d29bf2cf88bf",
      "metadata": {},
      "source": [
        "#### Number of transcripts per cell\n",
        "\n",
        "We plot a histogram of the number of transcripts per cell in\n",
        "[Figure 7](#fig-rnacount) below. On the right, we zoom into the\n",
        "histogram. We want to **filter out the cells with the lowest number of\n",
        "transcripts** - often there is a peak we can identify with a group of\n",
        "low-quality cells. Here we can choose to remove cells with less than\n",
        "~700 transcripts (some people prefere to do a lighter filtering, and\n",
        "would for example set a threshold to a lower value). We remove also\n",
        "**cells with too many transcripts** that might contain some weird\n",
        "transcripts - which is also helpful for normalization because it removes\n",
        "some outlying values. For those we can set a limit to 30000, where there\n",
        "is a very thin tail in the histogram."
      ]
    },
    {
      "cell_type": "code",
      "execution_count": null,
      "id": "fig-rnacount",
      "metadata": {
        "tags": [],
        "vscode": {
          "languageId": "r"
        }
      },
      "outputs": [],
      "source": [
        "options(repr.plot.width=14, repr.plot.height=5)\n",
        "\n",
        "plot1 <- ggplot(Control1_seurat@meta.data, aes(x=nCount_RNA)) + \n",
        "     geom_histogram(fill=\"#69b3a2\", color=\"#e9ecef\", alpha=0.9)\n",
        "\n",
        "plot2 <- ggplot(Control1_seurat@meta.data, aes(x=nCount_RNA)) + \n",
        "     geom_histogram(fill=\"#69b3a2\", color=\"#e9ecef\", alpha=0.9) +\n",
        "     xlim(0,2000)\n",
        "\n",
        "plot1 + plot2"
      ]
    },
    {
      "cell_type": "markdown",
      "id": "46fde468-8b21-4fee-a85e-c39af9b0779f",
      "metadata": {},
      "source": [
        "#### Number of detected genes per cell\n",
        "\n",
        "Here we work similarly to filter out cells based on how many genes are\n",
        "detected ([Figure 8](#fig-genecounts)). The right-side plot is a zoom\n",
        "into the histogram. It seems easy to set the thresholds at ~400 and\n",
        "~7000 detected genes."
      ]
    },
    {
      "cell_type": "code",
      "execution_count": null,
      "id": "fig-genecounts",
      "metadata": {
        "tags": [],
        "vscode": {
          "languageId": "r"
        }
      },
      "outputs": [],
      "source": [
        "options(repr.plot.width=14, repr.plot.height=5)\n",
        "\n",
        "plot1 <- ggplot(Control1_seurat@meta.data, aes(x=nFeature_RNA)) + \n",
        "     geom_histogram(fill=\"#69b3a2\", color=\"#e9ecef\", alpha=0.9)\n",
        "\n",
        "plot2 <- ggplot(Control1_seurat@meta.data, aes(x=nFeature_RNA)) + \n",
        "     geom_histogram(fill=\"#69b3a2\", color=\"#e9ecef\", alpha=0.9) +\n",
        "     xlim(0,1000)\n",
        "\n",
        "\n",
        "plot1 + plot2"
      ]
    },
    {
      "cell_type": "markdown",
      "id": "be343f26-ba42-42c0-a3f8-1ec059e4b055",
      "metadata": {},
      "source": [
        "#### Mitochondrial and Chloroplast percentages\n",
        "\n",
        "The percentages of mitochondrial and chloroplastic transcripts tells us\n",
        "the data is of good quality, since most cells have low values of those\n",
        "([Figure 9](#fig-mt)). Thresholds are usually set between 5% and 20% in\n",
        "single cell data analysis. In the paper, thresholds were for example set\n",
        "at 20%."
      ]
    },
    {
      "cell_type": "code",
      "execution_count": null,
      "id": "fig-mt",
      "metadata": {
        "tags": [],
        "vscode": {
          "languageId": "r"
        }
      },
      "outputs": [],
      "source": [
        "options(repr.plot.width=14, repr.plot.height=5)\n",
        "\n",
        "plot1 <- ggplot(Control1_seurat@meta.data, aes(x=percent.mt)) + \n",
        "     geom_histogram(fill=\"#69b3a2\", color=\"#e9ecef\", alpha=0.9)\n",
        "\n",
        "plot2 <- ggplot(Control1_seurat@meta.data, aes(x=percent.chloroplast)) + \n",
        "     geom_histogram(fill=\"#69b3a2\", color=\"#e9ecef\", alpha=0.9)\n",
        "\n",
        "plot1 + plot2"
      ]
    },
    {
      "cell_type": "markdown",
      "id": "9f2f6452-663c-4b88-bba5-7d66978e3f73",
      "metadata": {},
      "source": [
        "#### Counts-Features relationship\n",
        "\n",
        "In [Figure 10](#fig-gentra) below, we look at the plot of the number of\n",
        "transcripts per cell vs the number of detected genes per cell. Usually,\n",
        "those two measure grow simultaneously. At lower counts the relationship\n",
        "is quite linear, then becomes a curve, typically bending in favour of\n",
        "the number of transcripts per cell. You can see below that each dot\n",
        "(representing a droplet) is coloured by percentage of mitochondria.\n",
        "Droplets with a high percentage of mitochondrial genes also have very\n",
        "low amount of transcripts and detected genes, **confirming that high\n",
        "mitochondrial content is a measure of low quality**."
      ]
    },
    {
      "cell_type": "code",
      "execution_count": null,
      "id": "fig-gentra",
      "metadata": {
        "tags": [],
        "vscode": {
          "languageId": "r"
        }
      },
      "outputs": [],
      "source": [
        "options(repr.plot.width=14, repr.plot.height=5)\n",
        "\n",
        "meta <- Control1_seurat@meta.data %>% arrange(percent.mt)\n",
        "\n",
        "plot1 <- ggplot( meta, aes(x=nCount_RNA, y=nFeature_RNA, colour=percent.mt)) + \n",
        "         geom_point(alpha=0.75, size=5)+\n",
        "         geom_smooth(se=TRUE, method=\"loess\")\n",
        "\n",
        "plot1"
      ]
    },
    {
      "cell_type": "markdown",
      "id": "845b823e-6959-443d-a10a-cf80bc213b50",
      "metadata": {},
      "source": [
        "In a similar way the chloroplastic genes confirm the pattern of low\n",
        "quality droplets."
      ]
    },
    {
      "cell_type": "code",
      "execution_count": null,
      "id": "fig-gentrach",
      "metadata": {
        "tags": [],
        "vscode": {
          "languageId": "r"
        }
      },
      "outputs": [],
      "source": [
        "options(repr.plot.width=14, repr.plot.height=5)\n",
        "\n",
        "meta <- Control1_seurat@meta.data %>% arrange(percent.chloroplast)\n",
        "\n",
        "plot1 <- ggplot( meta, aes(x=nCount_RNA, y=nFeature_RNA, colour=percent.chloroplast)) + \n",
        "         geom_point(alpha=0.75, size=5)+\n",
        "         geom_smooth(se=TRUE, method=\"loess\")\n",
        "\n",
        "plot1"
      ]
    },
    {
      "cell_type": "markdown",
      "id": "f4c2a315-a2f1-4844-bd1a-aef6b2fa7c11",
      "metadata": {},
      "source": [
        "### Filtering with the chosen criteria\n",
        "\n",
        "Here we use the command `subset` and impose the criteria we chose above\n",
        "looking at the histograms. We set each criteria for keeping cells of\n",
        "good quality using the names of the features in metadata. We print those\n",
        "names to remember them."
      ]
    },
    {
      "cell_type": "code",
      "execution_count": null,
      "id": "0af0fd10-1d1b-4f76-b451-56174643d5e2",
      "metadata": {
        "tags": [],
        "vscode": {
          "languageId": "r"
        }
      },
      "outputs": [],
      "source": [
        "cat(\"Meta data names:\\n\")\n",
        "cat( names(Control1_seurat@meta.data), sep='; ' )"
      ]
    },
    {
      "cell_type": "markdown",
      "id": "41d7b1ed-73e1-42c2-8c31-93ef46ccaf0a",
      "metadata": {},
      "source": [
        "The filtered object is called `Control1_seurat_filt`"
      ]
    },
    {
      "cell_type": "code",
      "execution_count": null,
      "id": "57cba667-11b6-4443-a399-533f381ea076",
      "metadata": {
        "tags": [],
        "vscode": {
          "languageId": "r"
        }
      },
      "outputs": [],
      "source": [
        "Control1_seurat_filt <- subset(x = Control1_seurat, \n",
        "                                        subset = nCount_RNA > 700 &\n",
        "                                                 nCount_RNA < 35000 &\n",
        "                                                 nFeature_RNA > 400 & \n",
        "                                                 nFeature_RNA < 7000 & \n",
        "                                                 percent.mt < 5 & \n",
        "                                                 percent.chloroplast < 5)\n",
        "\n",
        "cat(\"Filtered Genes and Cells: \")\n",
        "cat( dim(Control1_seurat) - dim(Control1_seurat_filt) )\n",
        "cat(\"\\nRemaining Genes and Cells: \")\n",
        "cat( dim(Control1_seurat_filt) )"
      ]
    },
    {
      "cell_type": "markdown",
      "id": "242dc758-fb99-4669-868e-ba55221ff4e6",
      "metadata": {},
      "source": [
        "Now the transcripts vs genes can be seen in\n",
        "[Figure 12](#fig-filtrelationship). The relationship is much more linear\n",
        "than previously after the removal of extreme values for transcripts and\n",
        "detected genes."
      ]
    },
    {
      "cell_type": "code",
      "execution_count": null,
      "id": "fig-filtrelationship",
      "metadata": {
        "tags": [],
        "vscode": {
          "languageId": "r"
        }
      },
      "outputs": [],
      "source": [
        "options(repr.plot.width=14, repr.plot.height=5)\n",
        "\n",
        "meta <- Control1_seurat_filt@meta.data %>% arrange(percent.mt)\n",
        "\n",
        "plot1 <- ggplot( meta, aes(x=nCount_RNA, y=nFeature_RNA, colour=percent.mt)) + \n",
        "         geom_point(alpha=0.75, size=5)+\n",
        "         geom_smooth(se=TRUE, method=\"loess\")\n",
        "\n",
        "plot1"
      ]
    },
    {
      "cell_type": "markdown",
      "id": "3b9e5a85-1b67-4cc7-8207-da7c948f683c",
      "metadata": {},
      "source": [
        "## Normalization\n",
        "\n",
        "scRNA-seq data is **affected by highly variable RNA quantities and\n",
        "qualities** across different cells. Furthermore, it is often subject to\n",
        "**batch effects, sequencing depth differences, and other technical\n",
        "biases** that can confound downstream analyses.\n",
        "\n",
        "Normalization methods are used to **adjust for these technical\n",
        "variations so that true biological differences between cells can be\n",
        "accurately identified**.\n",
        "\n",
        "Some commonly used normalization methods in scRNA-seq data include the\n",
        "following:\n",
        "\n",
        "-   **Total count normalization**: Normalizing the read counts to the\n",
        "    total number of transcripts in each sample\n",
        "-   **TPM (transcripts per million)** normalization: Normalizing the\n",
        "    read counts to the total number of transcripts in each sample,\n",
        "    scaled to a million\n",
        "-   **Library size normalization:** Normalizing the read counts to the\n",
        "    total number of reads or transcripts in each sample, adjusted for\n",
        "    sequencing depth\n",
        "\n",
        "All the above suffer from distorting some gene expressions, especially\n",
        "if the data varies a lot in term of sequencing depth. A new and more\n",
        "advanced method, at the moment the state-of-the-art, is `SCTransform`\n",
        "(Hafemeister and Satija (2019)), a software package that can **correct\n",
        "for technical sources of variation and remove batch effects**.\n",
        "\n",
        "### Finding technical sources of variation\n",
        "\n",
        "Before normalizing we want to check for technical sources of variation\n",
        "in the data. One of those is the total number of transcripts: two\n",
        "similar cells might be sequenced at different depth. This influences of\n",
        "course normalization. The influence of the number of transcripts per\n",
        "cell is however always removed by `SCtransform`.\n",
        "\n",
        "We want to look into other possible sources of variation. Those are\n",
        "usually quantities we calculate for each cell, for example the\n",
        "percentage of mitochondrial and chloroplastic genes.\n",
        "\n",
        "To see if those quantities actually influence our data a lot, we check\n",
        "how much is their highest correlation with the first 10 components of\n",
        "the PCA of the dataset. In short, **we see if any technical variation is\n",
        "such that it explains much of the variability of the data, covering\n",
        "possibly biological signal**.\n",
        "\n",
        "We now use the function `plotCorrelations` to plot the highest\n",
        "correlation of three quantities with the PCA: number of transcripts,\n",
        "percent of mitochondrial genes and percent of chloroplastic genes. You\n",
        "will see in [Figure 13](#fig-corr) how **there is little correlation for\n",
        "the two percentages**, for which we do not need to worry about, while\n",
        "**there is correlation with the total number of transcripts per cell**\n",
        "(this is always expected and, as mentioned before, is removed\n",
        "automatically by the normalization process). We created the function\n",
        "`plotCorrelations` specifically for the course, together with a few\n",
        "others, mostly for plotting or handling tables. You can find them in the\n",
        "file `script.R`."
      ]
    },
    {
      "cell_type": "code",
      "execution_count": null,
      "id": "fig-corr",
      "metadata": {
        "tags": [],
        "vscode": {
          "languageId": "r"
        }
      },
      "outputs": [],
      "source": [
        "plotCorrelations( object=Control1_seurat, measures=c('nCount_RNA', 'percent.mt', 'percent.chloroplast') )"
      ]
    },
    {
      "cell_type": "markdown",
      "id": "f61ecc53-6485-478a-9d9a-d25423f16bcc",
      "metadata": {},
      "source": [
        "### Executing normalization\n",
        "\n",
        "We run `SCtransform` normalization below. Here you can choose to\n",
        "subsample some cells to do the normalization (`ncells` option): this is\n",
        "**useful to avoid ending up waiting for a long time**. A few thousands\n",
        "cells is enough.\n",
        "\n",
        "You can also choose how many genes to consider for normalization\n",
        "(`variable.features.n` option): in this case it is best to **use the\n",
        "genes that vary the most their expression across cells**. We look at a\n",
        "histogram ([Figure 14](#fig-hvg)) of the variance of each gene to choose\n",
        "a threshold to identify highly-variable genes."
      ]
    },
    {
      "cell_type": "code",
      "execution_count": null,
      "id": "fig-hvg",
      "metadata": {
        "vscode": {
          "languageId": "r"
        }
      },
      "outputs": [],
      "source": [
        "variance_genes <- apply( as.matrix(Control1_seurat_filt[['RNA']]@counts), 1, var)\n",
        "\n",
        "options(repr.plot.width=14, repr.plot.height=5)\n",
        "\n",
        "plot1 <- ggplot(data.frame(variance_genes), aes(variance_genes)) + \n",
        "     geom_histogram(fill=\"#69b3a2\", color=\"#e9ecef\", alpha=0.9) + xlim(0,1)\n",
        "\n",
        "plot1"
      ]
    },
    {
      "cell_type": "code",
      "execution_count": null,
      "id": "f798bc85-a7dc-499b-959e-09667a14467b",
      "metadata": {
        "vscode": {
          "languageId": "r"
        }
      },
      "outputs": [],
      "source": [
        "hvighly_var_genes <- variance_genes > .25\n",
        "cat(\"The total number of highly variable genes selected is: \")\n",
        "cat(sum( hvighly_var_genes ))"
      ]
    },
    {
      "cell_type": "code",
      "execution_count": null,
      "id": "3644dddf-7123-44a9-a935-279722979620",
      "metadata": {
        "tags": [],
        "vscode": {
          "languageId": "r"
        }
      },
      "outputs": [],
      "source": [
        "Control1_seurat_norm <- SCTransform(Control1_seurat_filt, \n",
        "                                             return.only.var.genes = FALSE, \n",
        "                                             ncells = 3000, \n",
        "                                             variable.features.n = sum( hvighly_var_genes ),\n",
        "                                             verbose = FALSE)"
      ]
    },
    {
      "cell_type": "markdown",
      "id": "ac871141-5fea-488b-a2b1-0a955f4149ef",
      "metadata": {},
      "source": [
        "Normalized data is now in the object `Control1_seurat_norm`, in a new\n",
        "assay called `SCT`. This assay is now the default used for data\n",
        "analysis: you can verify it very easily below:"
      ]
    },
    {
      "cell_type": "code",
      "execution_count": null,
      "id": "eb0ca08d-f859-49f6-81d8-3ac65fc1d21f",
      "metadata": {
        "vscode": {
          "languageId": "r"
        }
      },
      "outputs": [],
      "source": [
        "cat(\"Your default assay is: \")\n",
        "cat(DefaultAssay(object = Control1_seurat_norm))"
      ]
    },
    {
      "cell_type": "markdown",
      "id": "3ef8d4c1-94c9-4e42-9110-8f60a5be8334",
      "metadata": {},
      "source": [
        "### Visualizing the result\n",
        "\n",
        "Now we plot the UMAP plot of the data to have a first impression of how\n",
        "the data is structured (presence of clusters, how many, etc.). First of\n",
        "all, we create a PCA plot, which tells us how many PCA components are of\n",
        "relevance with the elbow plot of [Figure 15](#fig-elbow). In the elbow\n",
        "plot, we see the variability of each component in descending order. Note\n",
        "how, after a few rapidly descending components, there is an elbow. We\n",
        "schoose a threshold just after the elbow (for example at 15), which\n",
        "means those components will be used to calculate some other things of\n",
        "relevance in the data, such as distance between cells and the UMAP\n",
        "projection of [Figure 16](#fig-umap): specific commands using PCA allow\n",
        "to choose the components, and we will set 10 with the option\n",
        "`dims = 1:15`."
      ]
    },
    {
      "cell_type": "code",
      "execution_count": null,
      "id": "4d339cab-7ec6-48fc-87c3-6e007116938c",
      "metadata": {
        "tags": [],
        "vscode": {
          "languageId": "r"
        }
      },
      "outputs": [],
      "source": [
        "Control1_seurat_norm <- FindVariableFeatures(Control1_seurat_norm,\n",
        "                                                     nfeatures = sum( hvighly_var_genes ))"
      ]
    },
    {
      "cell_type": "code",
      "execution_count": null,
      "id": "abc531e2-578c-40fd-b20a-35cf2464b005",
      "metadata": {
        "tags": [],
        "vscode": {
          "languageId": "r"
        }
      },
      "outputs": [],
      "source": [
        "Control1_seurat_norm <- RunPCA(object = Control1_seurat_norm, \n",
        "                                        verbose = FALSE, seed.use = 123)"
      ]
    },
    {
      "cell_type": "code",
      "execution_count": null,
      "id": "fig-elbow",
      "metadata": {
        "vscode": {
          "languageId": "r"
        }
      },
      "outputs": [],
      "source": [
        "ElbowPlot(Control1_seurat_norm, ndims = 30)"
      ]
    },
    {
      "cell_type": "markdown",
      "id": "c107d55f-2129-4660-95d5-1b96601b058c",
      "metadata": {},
      "source": [
        "We calculate the projection using the UMAP algorithm (McInnes et al.\n",
        "(2018), Becht et al. (2019)). The parameters `a` and `b` will change how\n",
        "stretched and scattered the data looks like. When you do your own UMAP\n",
        "projection, you can avoid setting `a` and `b`, and those will be chosen\n",
        "automatically by the command."
      ]
    },
    {
      "cell_type": "code",
      "execution_count": null,
      "id": "ff448eaf-eab5-4dd9-ae28-e506dea7054c",
      "metadata": {
        "tags": [],
        "vscode": {
          "languageId": "r"
        }
      },
      "outputs": [],
      "source": [
        "Control1_seurat_norm <- RunUMAP(object = Control1_seurat_norm, \n",
        "                                         a = .8, b=1,\n",
        "                                         dims = 1:15, \n",
        "                                         verbose = FALSE, \n",
        "                                         seed.use = 123)"
      ]
    },
    {
      "cell_type": "markdown",
      "id": "69c17e6e-683d-44f7-ac20-10d74adaf58c",
      "metadata": {},
      "source": [
        "In [Figure 16](#fig-umap) we can see the resulting projection. The\n",
        "result looks pretty neat and structured (we can clearly see there are\n",
        "various clusters)."
      ]
    },
    {
      "cell_type": "code",
      "execution_count": null,
      "id": "fig-umap",
      "metadata": {
        "tags": [],
        "vscode": {
          "languageId": "r"
        }
      },
      "outputs": [],
      "source": [
        "options(repr.plot.width=10, repr.plot.height=8)\n",
        "UMAPPlot(object = Control1_seurat_norm)"
      ]
    },
    {
      "cell_type": "markdown",
      "id": "dfaac7c7-f1c3-459a-b263-f6805504ae89",
      "metadata": {},
      "source": [
        "## Removing doublets\n",
        "\n",
        "Doublets removal is part of filtering, but it needs normalized data to\n",
        "work. This is why we do it after using `SCtransform`.\n",
        "\n",
        "Doublets (and the very rare multiplets) refer to droplets that **contain\n",
        "the transcriptional profiles of two or more distinct cells**. Doublets\n",
        "can occur during the cell dissociation process or when two or more cells\n",
        "are captured in the same droplet during the library preparation step.\n",
        "\n",
        "It is quite obvious that a doublet transcriptional profile can confound\n",
        "downstream analyses, such as cell clustering and differential gene\n",
        "expression analysis. Most doublet detectors, like `DoubletFinder`\n",
        "(McGinnis, Murrow, and Gartner (2019)) which we will use, **simulates\n",
        "doublets and then finds cells in the data which are similar to the\n",
        "simulated doublets**. Most such packages need an idea of the\n",
        "number/proportion of expected doublets in the dataset. **As indicated\n",
        "from the Chromium user guide, expected doublet rates are about as\n",
        "follows:**\n",
        "\n",
        "![Figure 17: Table of expected doublet rates based on the number of\n",
        "cells.](./images/doublet_rates.png)\n",
        "\n",
        "The data we are using contained about 10000 cells per sample (as in the\n",
        "knee plot at the beginning), hence we can assume that it originates from\n",
        "around 18000 loaded cells and should have a doublet rate at about 7.6%.\n",
        "\n",
        "::: {.callout-warning}\n",
        "\n",
        "Doublet prediction, like the rest of the filtering, **should be run on each sample separately**.\n",
        "\n",
        ":::\n",
        "\n",
        "Here, we apply `DoubletFinder` to predict doublet cells. Most parameters\n",
        "are quite standard, we mostly need to choose `nExp` (expected number of\n",
        "doublets), `PCs` (number of principal components to use), `sct` (use the\n",
        "normalized data). The last three option are not part of the package, but\n",
        "have been added by creating a slightly modified version\n",
        "([here](https://github.com/SamueleSoraggi/DoubletFinder)) - they allow\n",
        "to use multiple cores and a subset of cells for calculations for a\n",
        "considerable speedup. However, the code takes some time to run, so be\n",
        "patient. There will be a lot of printout as well, but don’t worry."
      ]
    },
    {
      "cell_type": "code",
      "execution_count": null,
      "id": "afb01f91-1599-4a33-b2e5-d7bab9bc4058",
      "metadata": {
        "tags": [],
        "vscode": {
          "languageId": "r"
        }
      },
      "outputs": [],
      "source": [
        "nExp <- round(ncol(Control1_seurat_norm) * 0.076)  # expected doublet rate"
      ]
    },
    {
      "cell_type": "code",
      "execution_count": null,
      "id": "b75b77bd-8e9c-4349-94e8-a2e55f203c4d",
      "metadata": {
        "tags": [],
        "vscode": {
          "languageId": "r"
        }
      },
      "outputs": [],
      "source": [
        "Control1_seurat_norm <- doubletFinder_v3(Control1_seurat_norm,\n",
        "                                                  pN = 0.25, #proportion of doublets to simulate)\n",
        "                                                  pK = 0.09, \n",
        "                                                  nExp = nExp, \n",
        "                                                  PCs = 1:15, \n",
        "                                                  sct=TRUE, \n",
        "                                                  workers=8, \n",
        "                                                  future.globals.maxSize = 8*1024^13,\n",
        "                                                  seurat.ncells=3000)"
      ]
    },
    {
      "cell_type": "markdown",
      "id": "c2716c4d-be7a-4c9c-84d8-b4b27d319591",
      "metadata": {},
      "source": [
        "We visualize the UMAP plot and which cells are estimated doublets in\n",
        "[Figure 18](#fig-doublets). Fortunately, there are only a few potential\n",
        "doublets."
      ]
    },
    {
      "cell_type": "code",
      "execution_count": null,
      "id": "fig-doublets",
      "metadata": {
        "tags": [],
        "vscode": {
          "languageId": "r"
        }
      },
      "outputs": [],
      "source": [
        "options(repr.plot.width=10, repr.plot.height=10)\n",
        "\n",
        "DF.name = colnames(Control1_seurat_norm@meta.data)[grepl(\"DF.classification\", colnames(Control1_seurat_norm@meta.data))]\n",
        "\n",
        "DimPlot(Control1_seurat_norm, group.by = DF.name, pt.size = 2, \n",
        "        split.by = DF.name)"
      ]
    },
    {
      "cell_type": "markdown",
      "id": "082996a2-8eb2-4e00-ad6e-2d914924a13b",
      "metadata": {},
      "source": [
        "Sometimes doublets have more detected genes than a single cell. In our\n",
        "case, some of the droplets have higher number of genes than the average\n",
        "(the red violin is large also above 3000 detected genes), so there is\n",
        "aclear sign of the presence of some doublets. Of course, as with any\n",
        "filtering, we might remove some actual cells. To be more effective in\n",
        "our filtering, we can select doublets with more than 2000 detected genes\n",
        "when we filter."
      ]
    },
    {
      "cell_type": "code",
      "execution_count": null,
      "id": "ec08a08a-db1c-4cfd-bc7f-faf4ff62e587",
      "metadata": {
        "tags": [],
        "vscode": {
          "languageId": "r"
        }
      },
      "outputs": [],
      "source": [
        "VlnPlot(Control1_seurat_norm, features = \"nFeature_RNA\", group.by = DF.name, pt.size = 0.1)"
      ]
    },
    {
      "cell_type": "markdown",
      "id": "316600b9-b94e-4de4-8083-3865da93d6d5",
      "metadata": {},
      "source": [
        "Here we keep only singlets:"
      ]
    },
    {
      "cell_type": "code",
      "execution_count": null,
      "id": "15486993-f717-4c18-95fb-5f8c2cff0ff7",
      "metadata": {
        "tags": [],
        "vscode": {
          "languageId": "r"
        }
      },
      "outputs": [],
      "source": [
        "Control1_seurat_norm = Control1_seurat_norm[, (Control1_seurat_norm@meta.data[, DF.name] == \"Singlet\")&(Control1_seurat_norm@meta.data$nFeature_RNA>2000)]"
      ]
    },
    {
      "cell_type": "markdown",
      "id": "1a8d5119-d631-4f5d-a10c-26598a09a7f2",
      "metadata": {},
      "source": [
        "We save our data after all the filtering work!"
      ]
    },
    {
      "cell_type": "code",
      "execution_count": null,
      "id": "eb7521e2-b57d-4e62-8f6d-07f6e000e552",
      "metadata": {
        "tags": [],
        "vscode": {
          "languageId": "r"
        }
      },
      "outputs": [],
      "source": [
        "SaveH5Seurat(object = Control1_seurat_norm, \n",
        "             filename = \"control1.normalized.h5Seurat\", \n",
        "             overwrite = TRUE,\n",
        "             verbose = FALSE)"
      ]
    },
    {
      "cell_type": "markdown",
      "id": "c2cf29ac-1c4b-4aad-86f7-e57611ac6125",
      "metadata": {},
      "source": [
        "# Integration\n",
        "\n",
        "Integration of scRNA-seq data is useful to combine datasets from\n",
        "different experimental conditions (in our case the Control vs Infected)\n",
        "and sequencing runs, to gain a broader understanding of cellular\n",
        "processes. Integration is challenging due to technical variations and\n",
        "biological differences between the datasets (where we want to remove the\n",
        "formers to study correctly the latters).\n",
        "\n",
        "Before integrating scRNA-seq datasets, we have applyed **quality control\n",
        "and normalization to each sample** to ensure consistency and accuracy of\n",
        "the data. Integration can happen using various methods (Adossa et al.\n",
        "(2021)). Seurat uses **canonical correlation analysis (CCA)** (Stuart et\n",
        "al. (2019), Xinming (2022)) to integrate scRNA-seq datasets from\n",
        "different experimental conditions. CCA identifies shared variation\n",
        "between two datasets while accounting for technical differences, such as\n",
        "batch effects.\n",
        "\n",
        "The shared covariance patterns **can represent biological signals that\n",
        "are common across the datasets**, such as cell types or signaling\n",
        "pathways.\n",
        "\n",
        "We load another control and two infected datasets. Those have been\n",
        "previously preprocessed, so you will not need to. Remember again: each\n",
        "dataset must be preprocessed separately before integration."
      ]
    },
    {
      "cell_type": "code",
      "execution_count": null,
      "id": "12cf3d26-fbef-479a-9711-fc68cb4347d8",
      "metadata": {
        "tags": [],
        "vscode": {
          "languageId": "r"
        }
      },
      "outputs": [],
      "source": [
        "Control1_seurat_norm <- LoadH5Seurat(\"control1.normalized.h5Seurat\", verbose = FALSE)"
      ]
    },
    {
      "cell_type": "code",
      "execution_count": null,
      "id": "66466d68-3a03-45a3-8620-b520230f871b",
      "metadata": {
        "tags": [],
        "vscode": {
          "languageId": "r"
        }
      },
      "outputs": [],
      "source": [
        "Control2_seurat_norm <- LoadH5Seurat(\"../Data/control2.normalized.h5Seurat\", verbose = FALSE)\n",
        "Infected1_seurat_norm <- LoadH5Seurat(\"../Data/infected1.normalized.h5Seurat\", verbose = FALSE)\n",
        "Infected2_seurat_norm <- LoadH5Seurat(\"../Data/infected2.normalized.h5Seurat\", verbose = FALSE)"
      ]
    },
    {
      "cell_type": "markdown",
      "id": "570bbfd3-6ea6-49da-90c0-2e61794a6b5d",
      "metadata": {},
      "source": [
        "To integrate the datasets, we need to start creating a list with all\n",
        "datasets."
      ]
    },
    {
      "cell_type": "code",
      "execution_count": null,
      "id": "5fb53986-b9de-4b0f-89bd-ecfc12dcecd1",
      "metadata": {
        "tags": [],
        "vscode": {
          "languageId": "r"
        }
      },
      "outputs": [],
      "source": [
        "Gifu.list <- list(Control1_seurat_norm, \n",
        "                  Control2_seurat_norm, \n",
        "                  Infected1_seurat_norm, \n",
        "                  Infected2_seurat_norm)"
      ]
    },
    {
      "cell_type": "markdown",
      "id": "1570335f-091a-4716-aad3-5b6b6e9f1c15",
      "metadata": {},
      "source": [
        "We then start by normalizing each dataset of the list with\n",
        "`SCtransform`."
      ]
    },
    {
      "cell_type": "code",
      "execution_count": null,
      "id": "5f17f46b-65f1-4724-b977-33b1836d801d",
      "metadata": {
        "tags": [],
        "vscode": {
          "languageId": "r"
        }
      },
      "outputs": [],
      "source": [
        "Gifu.list <- lapply(X = Gifu.list, FUN = function(x) {\n",
        "  message(\"Normalizing\\n\")\n",
        "  x <- SCTransform(x, ncells=3000, variable.features.n = 2000, return.only.var.genes = FALSE, verbose=FALSE)\n",
        "})"
      ]
    },
    {
      "cell_type": "markdown",
      "id": "580f62d5-a39f-4313-96e5-07b22cceb018",
      "metadata": {},
      "source": [
        ":::{.callout-note}\n",
        "Running `SCTransform` as above does not contain any variable to regress out. By definition, the normalization will remove the technical effect of the number of transcripts per cell only. This is important because the amount of transcripts greatly vary in each cell, and it might seem a sign of biological variation, rather than a sign of varying capture efficiency of the mRNA transcripts. If you want to remove other sources of technical variation, for example chloroplastic and mitochondrial transcripts percentage, then you can use this command\n",
        "\n",
        "```\n",
        "x <- SCTransform(x, vars.to.regress = c(\"percent.mt\",  \"percent.chloroplast\"),\n",
        "                 variable.features.n = 10000,\n",
        "                 return.only.var.genes = FALSE,\n",
        "                 verbose = TRUE)\n",
        "```\n",
        "\n",
        "You can also include differences due to biological variation which you want to remove, to highlight the effect of other biological processes. Find the [manual of SCTransform](https://satijalab.org/seurat/reference/sctransform) to understand all possible options of the command. [This other tutorial](https://hbctraining.github.io/scRNA-seq/lessons/06_SC_SCT_and_integration.html) has a good application of `SCTransform` which you can read.\n",
        "\n",
        ":::\n",
        "\n",
        "Now we apply the CCA (Canonical Correlation Analysis) to put datasets\n",
        "together according to their similarities, while removing differences.\n",
        "The number of genes to use during integration is expressed below as\n",
        "`nfeatures`. The default choice is 2000 as written below."
      ]
    },
    {
      "cell_type": "code",
      "execution_count": null,
      "id": "5727d46d-fa21-4850-8190-e8f27d415d97",
      "metadata": {
        "tags": [],
        "vscode": {
          "languageId": "r"
        }
      },
      "outputs": [],
      "source": [
        "Gifu.features <- SelectIntegrationFeatures(object.list = Gifu.list, nfeatures = 2000)\n",
        "\n",
        "Gifu.list <- PrepSCTIntegration(object.list = Gifu.list, anchor.features = Gifu.features)"
      ]
    },
    {
      "cell_type": "code",
      "execution_count": null,
      "id": "1a254189-c859-40a1-9529-4013a7e5916a",
      "metadata": {
        "scrolled": true,
        "tags": [],
        "vscode": {
          "languageId": "r"
        }
      },
      "outputs": [],
      "source": [
        "Gifu.anchors <- FindIntegrationAnchors(object.list = Gifu.list, normalization.method = \"SCT\", \n",
        "                                       anchor.features = Gifu.features, reference = c(1,2))\n",
        "\n",
        "seurat.integrated <- IntegrateData(anchorset = Gifu.anchors, normalization.method = \"SCT\")"
      ]
    },
    {
      "cell_type": "markdown",
      "id": "a286d16b-c721-4b69-8db4-f9e76ce44d1d",
      "metadata": {},
      "source": [
        "Now the default assay used for analysis has changed into `integrated`:"
      ]
    },
    {
      "cell_type": "code",
      "execution_count": null,
      "id": "65f40c64-b43a-4bd7-a0a0-da837a5cfb6b",
      "metadata": {
        "tags": [],
        "vscode": {
          "languageId": "r"
        }
      },
      "outputs": [],
      "source": [
        "cat(\"The default assay of the data is now called: \")\n",
        "cat(DefaultAssay(seurat.integrated))"
      ]
    },
    {
      "cell_type": "markdown",
      "id": "2ba46720-4968-4fd9-8b64-f18b2b00c6a3",
      "metadata": {},
      "source": [
        "We need to recalculate PCA and UMAP to look at all datasets integrated\n",
        "together. We choose again 10 principal components from\n",
        "[Figure 19](#fig-elbowint). The newUMAP is in [Figure 20](#fig-umapint)."
      ]
    },
    {
      "cell_type": "code",
      "execution_count": null,
      "id": "98df96ed-7856-4061-a1f4-d453643288d1",
      "metadata": {
        "tags": [],
        "vscode": {
          "languageId": "r"
        }
      },
      "outputs": [],
      "source": [
        "seurat.integrated <- RunPCA(object = seurat.integrated, verbose = FALSE)"
      ]
    },
    {
      "cell_type": "code",
      "execution_count": null,
      "id": "fig-elbowint",
      "metadata": {
        "vscode": {
          "languageId": "r"
        }
      },
      "outputs": [],
      "source": [
        "ElbowPlot(seurat.integrated, ndims = 30)"
      ]
    },
    {
      "cell_type": "code",
      "execution_count": null,
      "id": "0810303a-0fa7-4a3d-b0c3-fcc5d204309f",
      "metadata": {
        "tags": [],
        "vscode": {
          "languageId": "r"
        }
      },
      "outputs": [],
      "source": [
        "seurat.integrated <- FindNeighbors(object = seurat.integrated, dims = 1:20, k.param = 30)"
      ]
    },
    {
      "cell_type": "code",
      "execution_count": null,
      "id": "223e2b50-925b-4948-98d7-a42e31dbe087",
      "metadata": {
        "scrolled": true,
        "tags": [],
        "vscode": {
          "languageId": "r"
        }
      },
      "outputs": [],
      "source": [
        "seurat.integrated <- RunUMAP(object = seurat.integrated, dims = 1:20, a=.8, b=.8)"
      ]
    },
    {
      "cell_type": "code",
      "execution_count": null,
      "id": "976b2547-b8f3-4020-a5b6-f821e681f0c5",
      "metadata": {
        "vscode": {
          "languageId": "r"
        }
      },
      "outputs": [],
      "source": [
        "seurat.integrated <- SetIdent(seurat.integrated, value = \"orig.ident\")"
      ]
    },
    {
      "cell_type": "code",
      "execution_count": null,
      "id": "fig-umapint",
      "metadata": {
        "tags": [],
        "vscode": {
          "languageId": "r"
        }
      },
      "outputs": [],
      "source": [
        "options(repr.plot.width=10, repr.plot.height=8)\n",
        "DimPlot(object = seurat.integrated, reduction = \"umap\",  label = T, repel = TRUE, pt.size = 0.5)"
      ]
    },
    {
      "cell_type": "markdown",
      "id": "1a775528-cc87-47ea-9755-0ace2d29b3cf",
      "metadata": {},
      "source": [
        "We save our integrated data"
      ]
    },
    {
      "cell_type": "code",
      "execution_count": null,
      "id": "727fe156-6efe-40d1-a497-77d72ad4150f",
      "metadata": {
        "tags": [],
        "vscode": {
          "languageId": "r"
        }
      },
      "outputs": [],
      "source": [
        "SaveH5Seurat(object = seurat.integrated, filename = \"seurat.integrated.h5Seurat\", overwrite=TRUE)"
      ]
    },
    {
      "cell_type": "markdown",
      "id": "be8c36d3-7ed8-4687-ba87-1cfe2cd94d57",
      "metadata": {},
      "source": [
        "## Clustering and cell type assignment\n",
        "\n",
        "We perform clustering on the data using the leiden algorithm\n",
        "(blondel_fast_2008, Traag, Waltman, and Van Eck (2019)). Then, we look\n",
        "at a typical strategy of **naming clusters by visualizing known\n",
        "markers**. Since this is very subjective and biased, we then resort to\n",
        "naming cell types **using a reference annotated dataset**. An overview\n",
        "of cell type assignment procedures can be found at Cheng et al. (2023)."
      ]
    },
    {
      "cell_type": "code",
      "execution_count": null,
      "id": "66fb78ec-98ec-4402-b4b1-bc9580dc43ae",
      "metadata": {
        "vscode": {
          "languageId": "r"
        }
      },
      "outputs": [],
      "source": [
        "seurat.integrated <-  LoadH5Seurat(\"seurat.integrated.h5Seurat\", verbose=FALSE)"
      ]
    },
    {
      "cell_type": "markdown",
      "id": "42b49f41-5c4f-4787-b7cd-92c5fdce7bf7",
      "metadata": {},
      "source": [
        "Clustering function `FindClusters`. The resolution is used to change the\n",
        "number of clusters detected. We do not need many, so we set on to 0.5.\n",
        "Usual values range between 0.1 and 1."
      ]
    },
    {
      "cell_type": "code",
      "execution_count": null,
      "id": "25439743-f64e-43ef-84eb-8d8daa03e35a",
      "metadata": {
        "tags": [],
        "vscode": {
          "languageId": "r"
        }
      },
      "outputs": [],
      "source": [
        "seurat.integrated <- FindClusters(object = seurat.integrated, \n",
        "                                  resolution = .5,\n",
        "                                  random.seed = 123)"
      ]
    },
    {
      "cell_type": "markdown",
      "id": "316b994d-ae3d-42c6-8c09-497874c84edf",
      "metadata": {},
      "source": [
        "The clusters are saved in the meta data table as\n",
        "`integrated_snn_res.0.25`. **Note that the name changes with the\n",
        "resolution**. Also observe how much metadata we have: many columns come\n",
        "from tools we have applied, such as doubletfinder (DF) and nearest\n",
        "neighbor distances (snn)."
      ]
    },
    {
      "cell_type": "code",
      "execution_count": null,
      "id": "fd3552e6-4cb0-4f60-9b27-62cf2db2bcf9",
      "metadata": {
        "tags": [],
        "vscode": {
          "languageId": "r"
        }
      },
      "outputs": [],
      "source": [
        "head( seurat.integrated@meta.data )"
      ]
    },
    {
      "cell_type": "markdown",
      "id": "7d94e895-eccf-4eea-baf5-10777b9c5b7f",
      "metadata": {},
      "source": [
        "We can plot the clusters in the UMAP plot"
      ]
    },
    {
      "cell_type": "code",
      "execution_count": null,
      "id": "fig-umapleiden",
      "metadata": {
        "tags": [],
        "vscode": {
          "languageId": "r"
        }
      },
      "outputs": [],
      "source": [
        "options(repr.plot.width=10, repr.plot.height=8)\n",
        "DimPlot(object = seurat.integrated, reduction = \"umap\",  label = T, repel = TRUE, pt.size = 0.5)"
      ]
    },
    {
      "cell_type": "markdown",
      "id": "90f017bd-b4c8-4f1b-a180-8529c1181c4d",
      "metadata": {},
      "source": [
        "### Cluster assignment from visualized marker scores\n",
        "\n",
        "Here, we look at how to assign names based on known markers. In this\n",
        "procedure, biological knowledge of the cell types is needed. Below,\n",
        "there is a list of known markers for each cell type, extracted from the\n",
        "supplementary data of Frank et al. (2023)."
      ]
    },
    {
      "cell_type": "code",
      "execution_count": null,
      "id": "60923daf-2b38-46ec-b80c-d369c9bd404d",
      "metadata": {
        "vscode": {
          "languageId": "r"
        }
      },
      "outputs": [],
      "source": [
        "features_list <- list(\n",
        "    'Cortex_scoring' = c(\"LotjaGi1g1v0006200\",\n",
        "                 \"LotjaGi1g1v0022100\",\n",
        "                 \"LotjaGi1g1v0261700\",\n",
        "                 \"LotjaGi1g1v0348000\",\n",
        "                 \"LotjaGi2g1v0303000\",\n",
        "                 \"LotjaGi3g1v0505900\"),\n",
        "    'Epidermis_scoring' = c(\"LotjaGi1g1v0080000\",\n",
        "                    \"LotjaGi1g1v0377600\",\n",
        "                    \"LotjaGi1g1v0613100\",\n",
        "                    \"LotjaGi3g1v0070500\"),\n",
        "    'Endodermis_scoring' = c(\"LotjaGi1g1v0114400\",\n",
        "                     \"LotjaGi1g1v0221300\",\n",
        "                     \"LotjaGi1g1v0240900-LC\",\n",
        "                     \"LotjaGi1g1v0707500\"), \n",
        "    'RootCap_scoring' = c(\"LotjaGi1g1v0020900\",\n",
        "                   \"LotjaGi1g1v0039700-LC\",\n",
        "                   \"LotjaGi1g1v0040300\",\n",
        "                   \"LotjaGi1g1v0147500\"),  \n",
        "    'Meristem_scoring'= c(\"LotjaGi4g1v0300900\",\n",
        "                         \"LotjaGi6g1v0056500\",\n",
        "                         \"LotjaGi1g1v0594200\"),\n",
        "    'Phloem_scoring'= c(\"LotjaGi1g1v0028800\",\n",
        "                \"LotjaGi1g1v0085900\",\n",
        "                \"LotjaGi1g1v0119300\",\n",
        "                \"LotjaGi1g1v0149100\"),\n",
        "    'QuiescentCenter_scoring' = c(\"LotjaGi1g1v0004300\",\n",
        "                           \"LotjaGi1g1v0021400\",\n",
        "                           \"LotjaGi1g1v0052700\",\n",
        "                           \"LotjaGi1g1v0084000\"),\n",
        "    'RootHair_scoring'= c(\"LotjaGi1g1v0014300\",\n",
        "                   \"LotjaGi1g1v0109000\",\n",
        "                   \"LotjaGi1g1v0109100\",\n",
        "                   \"LLotjaGi1g1v0143900\"),  \n",
        "    'Pericycle_scoring'= c(\"LotjaGi3g1v0222100\",\n",
        "                   \"LotjaGi3g1v0395900-LC\",\n",
        "                   \"LotjaGi5g1v0166000-LC\",\n",
        "                   \"LotjaGi3g1v0395500-LC\",\n",
        "                   \"LotjaGi1g1v0783700-LC\",\n",
        "                   \"LotjaGi2g1v0333200\",\n",
        "                   \"LotjaGi4g1v0293000-LC\"),     \n",
        "    'Stele_scoring' = c(\"LotjaGi2g1v0126700\",\n",
        "                \"LotjaGi1g1v0558200\",\n",
        "                \"LotjaGi4g1v0215500\",\n",
        "                \"LotjaGi3g1v0174100\",\n",
        "                \"LotjaGi5g1v0288600\",\n",
        "                \"LotjaGi3g1v0129700\"),\n",
        "    'Xylem_scoring' = c(\"LotjaGi1g1v0623100\",\n",
        "                \"LotjaGi1g1v0569300\",\n",
        "                \"LotjaGi1g1v0443000\",\n",
        "                \"LotjaGi1g1v0428800\")\n",
        "    )"
      ]
    },
    {
      "cell_type": "markdown",
      "id": "63ce23fc-4854-4083-8ef1-56927a973ca3",
      "metadata": {},
      "source": [
        "Here, we need a function calculating the scores for each cell type. This\n",
        "is the average expression of the markers in the list, from which we\n",
        "remove the average expression of some control genes, which are supposed\n",
        "not to be specific for the cell type of interest. The cells matching the\n",
        "desired type should retain a high score."
      ]
    },
    {
      "cell_type": "code",
      "execution_count": null,
      "id": "18269d54-63c1-4247-84eb-ac5409604b65",
      "metadata": {
        "vscode": {
          "languageId": "r"
        }
      },
      "outputs": [],
      "source": [
        "seurat.clustered <- AddModuleScore(\n",
        "  object = seurat.integrated,\n",
        "  features = features_list,\n",
        "  ctrl = 5,\n",
        "  name = 'LJ_scores'\n",
        ")"
      ]
    },
    {
      "cell_type": "markdown",
      "id": "b60ce435-80be-4c36-bab0-41f605549785",
      "metadata": {},
      "source": [
        "We also apply a function (from `script.R`) to rename the scores in the\n",
        "metadata. Their names are not intuitive by default, they are all called\n",
        "with the name chosen above and a number after it:"
      ]
    },
    {
      "cell_type": "code",
      "execution_count": null,
      "id": "57db061f-25e0-4b02-9d0b-4d3ffbc543fb",
      "metadata": {
        "vscode": {
          "languageId": "r"
        }
      },
      "outputs": [],
      "source": [
        "names(seurat.clustered@meta.data)"
      ]
    },
    {
      "cell_type": "code",
      "execution_count": null,
      "id": "c3b9cb17-287e-4eee-8e3e-1a7910021ab0",
      "metadata": {
        "vscode": {
          "languageId": "r"
        }
      },
      "outputs": [],
      "source": [
        "seurat.clustered <- renameScores(markers_list = features_list, seurat_data = seurat.clustered)      "
      ]
    },
    {
      "cell_type": "markdown",
      "id": "2d5fa826-2fd4-4770-9c89-4f26ded6279d",
      "metadata": {},
      "source": [
        "Now we run the function `plotScoresUMAP` (from the file `script.R`). In\n",
        "[Figure 22](#fig-scores) we can see that some clusters are easy to\n",
        "classify (phloem and xylem), but many others are not. This is mainly due\n",
        "to the fact that the change of many cell types is a continuum, and this\n",
        "manual annotation is very subjective."
      ]
    },
    {
      "cell_type": "code",
      "execution_count": null,
      "id": "fig-scores",
      "metadata": {
        "vscode": {
          "languageId": "r"
        }
      },
      "outputs": [],
      "source": [
        "plotScoresUMAP(markers_list = features_list, seurat_data = seurat.clustered)                                  "
      ]
    },
    {
      "cell_type": "markdown",
      "id": "7a8dc275-b9b4-47e6-bd79-550c3a82272a",
      "metadata": {},
      "source": [
        "One easy solution is to use the highest scoring of each cluster to\n",
        "assign the cluster name. Below, in the function `clusterNames`, for each\n",
        "cluster, we sum the scores of each cell type, and the highest value\n",
        "decides the cluster name."
      ]
    },
    {
      "cell_type": "code",
      "execution_count": null,
      "id": "f35cbb53-9dfc-4fcc-af35-f9b9f2c5ae40",
      "metadata": {
        "vscode": {
          "languageId": "r"
        }
      },
      "outputs": [],
      "source": [
        "#use the clustering above\n",
        "Idents(seurat.clustered) <- 'integrated_snn_res.0.5' \n",
        "#assign names\n",
        "seurat.clustered@meta.data[\"Cell_types\"] <- clusterNames(seurat.clustered, features_list)\n",
        "#use the new names as clustering labels\n",
        "Idents(seurat.clustered) <- 'Cell_types'"
      ]
    },
    {
      "cell_type": "markdown",
      "id": "e2ac2c6d-3eb4-4e31-b00a-a72e66939376",
      "metadata": {},
      "source": [
        ":::{.callout-note}\n",
        "\n",
        "Running `SCTransform` as above does not contain any variable to regress out. By definition, the normalization will remove the technical effect of the number of transcripts per cell only. This is important because the amount of transcripts greatly vary in each cell, and it might seem a sign of biological variation, rather than a sign of varying capture efficiency of the mRNA transcripts. If you want to remove other sources of technical variation, for example chloroplastic and mitochondrial transcripts percentage, then you can use this command\n",
        "\n",
        "```\n",
        "x <- SCTransform(x, vars.to.regress = c(\"percent.mt\",  \"percent.chloroplast\"),\n",
        "                 variable.features.n = 10000,\n",
        "                 return.only.var.genes = FALSE,\n",
        "                 verbose = TRUE)\n",
        "```\n",
        "\n",
        "You can also include differences due to biological variation which you want to remove, to highlight the effect of other biological processes. Find the [manual of SCTransform](https://satijalab.org/seurat/reference/sctransform) to understand all possible options of the command. [This other tutorial](https://hbctraining.github.io/scRNA-seq/lessons/06_SC_SCT_and_integration.html) has a good application of `SCTransform` which you can read.\n",
        "\n",
        ":::\n",
        "\n",
        "It seems from [Figure 23](#fig-umapbyeye) that we have quite consistent\n",
        "clustering across the various cell types."
      ]
    },
    {
      "cell_type": "code",
      "execution_count": null,
      "id": "fig-umapbyeye",
      "metadata": {
        "tags": [],
        "vscode": {
          "languageId": "r"
        }
      },
      "outputs": [],
      "source": [
        "options(repr.plot.width=10, repr.plot.height=10)\n",
        "DimPlot(object = seurat.clustered, reduction = \"umap\", repel = TRUE, label=T, pt.size = 2, label.size = 5)"
      ]
    },
    {
      "cell_type": "markdown",
      "id": "0fa1a14a-eb8f-4984-b831-47c68467ad58",
      "metadata": {},
      "source": [
        "#### Optional: assigning a mixed cluster\n",
        "\n",
        "Consider the marker plots for pericycle and Stele cell types in\n",
        "[Figure 22](#fig-scores). Here you can see overlap of the markers, which\n",
        "is not unnormal, since biological processes often transition gradually\n",
        "and eventually share some markers. We can try to separate the two cell\n",
        "types more precisely by assigning the cell type to each single data\n",
        "point, by comparing its score for Pericycle and Stele, instead of\n",
        "renaming each cluster as a whole.\n",
        "\n",
        "The code below runs such comparison for each cell in the pericycle and\n",
        "stele clusters."
      ]
    },
    {
      "cell_type": "code",
      "execution_count": null,
      "id": "1378b76c-8cf2-48f4-9b63-1577e6148030",
      "metadata": {
        "scrolled": true,
        "vscode": {
          "languageId": "r"
        }
      },
      "outputs": [],
      "source": [
        "peri <- seurat.clustered@meta.data$Pericycle_scoring[ seurat.clustered@meta.data$Cell_types == 'Pericycle' | seurat.clustered@meta.data$Cell_types == 'Stele']\n",
        "stel <- seurat.clustered@meta.data$Stele_scoring[ seurat.clustered@meta.data$Cell_types == 'Pericycle' | seurat.clustered@meta.data$Cell_types == 'Stele' ]\n",
        "peri_stele <- peri>=stel\n",
        "finalcl = c()\n",
        "for(i in peri_stele)\n",
        "    finalcl = c(finalcl, ifelse(i, \"Pericycle\", \"Stele\"))\n",
        "\n",
        "celltypes <- seurat.clustered@meta.data$Cell_types\n",
        "celltypes[ seurat.clustered@meta.data$Cell_types == 'Pericycle' | seurat.clustered@meta.data$Cell_types == 'Stele' ] <- finalcl\n",
        "seurat.clustered@meta.data$Cell_types <- celltypes\n",
        "Idents(seurat.clustered) <- 'Cell_types'"
      ]
    },
    {
      "cell_type": "code",
      "execution_count": null,
      "id": "fig-umapsubcluster",
      "metadata": {
        "tags": [],
        "vscode": {
          "languageId": "r"
        }
      },
      "outputs": [],
      "source": [
        "options(repr.plot.width=10, repr.plot.height=10)\n",
        "DimPlot(object = seurat.clustered, reduction = \"umap\", repel = TRUE, label=T, pt.size = 2, label.size = 5)"
      ]
    },
    {
      "cell_type": "markdown",
      "id": "dbe6b045-7591-44bd-b2a0-e5d9b85a5c34",
      "metadata": {},
      "source": [
        "### Cluster assignment from an annotated dataset\n",
        "\n",
        "We now use the annotated data from Frank et al. (2023) (which is the\n",
        "same we are using in the tutorial) to transfer data labels to our own\n",
        "processed data. More about label transfer can be read at Stuart et al.\n",
        "(2019). We load the data from the paper and define reference and query\n",
        "data."
      ]
    },
    {
      "cell_type": "code",
      "execution_count": null,
      "id": "91760f51-075b-4319-8280-861b6856299d",
      "metadata": {
        "vscode": {
          "languageId": "r"
        }
      },
      "outputs": [],
      "source": [
        "seurat.reference <- readRDS(\"../Data/data_lavinia.RDS\")"
      ]
    },
    {
      "cell_type": "code",
      "execution_count": null,
      "id": "88273b1b-984a-4d21-bd8f-4bebc85ab15f",
      "metadata": {
        "vscode": {
          "languageId": "r"
        }
      },
      "outputs": [],
      "source": [
        "seurat.query <- seurat.clustered"
      ]
    },
    {
      "cell_type": "markdown",
      "id": "6a8a3cdf-f09a-47ae-b0a8-aec421428c3d",
      "metadata": {},
      "source": [
        "We have to define the data integration between query and reference\n",
        "before we can transfer the cluster names. For the algorithm to work, we\n",
        "need to use the “RNA” assay, which contains raw expression values."
      ]
    },
    {
      "cell_type": "code",
      "execution_count": null,
      "id": "29430f35-b79e-45e9-8544-a1c311c063f3",
      "metadata": {
        "vscode": {
          "languageId": "r"
        }
      },
      "outputs": [],
      "source": [
        "DefaultAssay(seurat.query) <- \"RNA\""
      ]
    },
    {
      "cell_type": "code",
      "execution_count": null,
      "id": "80398792-11c7-4290-8b94-52195ab1d863",
      "metadata": {
        "vscode": {
          "languageId": "r"
        }
      },
      "outputs": [],
      "source": [
        "lotusjaponicus.anchors <- FindTransferAnchors(reference = seurat.reference, \n",
        "                                        features = intersect( rownames(seurat.query), \n",
        "                                                   rownames( seurat.reference[['SCT']]@scale.data ) ),\n",
        "                                        query = seurat.query, dims = 1:20, \n",
        "                                        reference.reduction = \"pca\",\n",
        "                                        reference.assay='RNA')"
      ]
    },
    {
      "cell_type": "markdown",
      "id": "e9c98d10-f8e7-4281-ae34-d36076e004ab",
      "metadata": {},
      "source": [
        "Calculating the integration of the labels from the reference takes time.\n",
        "So we save the calculated anchors for the integration. If you need to\n",
        "rerun the code, skip the command above and instead load the data with\n",
        "`readRDS` below."
      ]
    },
    {
      "cell_type": "code",
      "execution_count": null,
      "id": "ea38d4f3-d9f8-496c-9d42-5273f2d5a9fc",
      "metadata": {
        "vscode": {
          "languageId": "r"
        }
      },
      "outputs": [],
      "source": [
        "saveRDS(lotusjaponicus.anchors, file = \"anchors.RDS\")"
      ]
    },
    {
      "cell_type": "code",
      "execution_count": null,
      "id": "aa290e0f-fdd4-47cf-980f-0e476690c60e",
      "metadata": {
        "vscode": {
          "languageId": "r"
        }
      },
      "outputs": [],
      "source": [
        "lotusjaponicus.anchors <- readRDS(\"anchors.RDS\")"
      ]
    },
    {
      "cell_type": "markdown",
      "id": "daceb8b6-dd63-41f5-82cd-0e31bdad46e1",
      "metadata": {},
      "source": [
        "Now it is finally time to transfer the labels and add them to the\n",
        "metadata. The column in the metadata is called by default\n",
        "`predicted.id`."
      ]
    },
    {
      "cell_type": "code",
      "execution_count": null,
      "id": "3f358a94-e470-4a92-ae44-3960359b48f9",
      "metadata": {
        "vscode": {
          "languageId": "r"
        }
      },
      "outputs": [],
      "source": [
        "predictions <- TransferData(anchorset = lotusjaponicus.anchors, \n",
        "                            refdata = Idents(seurat.reference), \n",
        "                            dims = 1:20)"
      ]
    },
    {
      "cell_type": "code",
      "execution_count": null,
      "id": "4122af82-f96c-49c7-ab65-84b4b3ac5c58",
      "metadata": {
        "vscode": {
          "languageId": "r"
        }
      },
      "outputs": [],
      "source": [
        "seurat.clustered <- AddMetaData(seurat.clustered, metadata = predictions['predicted.id'])"
      ]
    },
    {
      "cell_type": "markdown",
      "id": "a03735c7-ccbc-4c70-a672-9c5048e94a69",
      "metadata": {},
      "source": [
        "Just as a reminder of what is in the metadata, we can quickly look at\n",
        "the column names. Those are ordered by when we added things along the\n",
        "analysis. If you read the names, you can recognize part of the analysis\n",
        "steps until now."
      ]
    },
    {
      "cell_type": "code",
      "execution_count": null,
      "id": "48dffe7f-9866-4cb4-98b7-8225882e2f39",
      "metadata": {
        "vscode": {
          "languageId": "r"
        }
      },
      "outputs": [],
      "source": [
        "names( seurat.clustered@meta.data )"
      ]
    },
    {
      "cell_type": "markdown",
      "id": "478e7516-c797-4397-bf73-0c46f77662c5",
      "metadata": {},
      "source": [
        "Here we define as clustering for the data and the plots, the one\n",
        "transfered just before. We then have a look at\n",
        "[Figure 25](#fig-transfer) to observe that the labels look fine."
      ]
    },
    {
      "cell_type": "code",
      "execution_count": null,
      "id": "613965db-0030-4bfe-aeff-15bef935ea77",
      "metadata": {
        "vscode": {
          "languageId": "r"
        }
      },
      "outputs": [],
      "source": [
        "Idents(seurat.clustered) <- 'predicted.id'"
      ]
    },
    {
      "cell_type": "code",
      "execution_count": null,
      "id": "fig-transfer",
      "metadata": {
        "tags": [],
        "vscode": {
          "languageId": "r"
        }
      },
      "outputs": [],
      "source": [
        "options(repr.plot.width=10, repr.plot.height=10)\n",
        "DimPlot(object = seurat.clustered, \n",
        "        reduction = \"umap\", \n",
        "        repel = TRUE, label=T, \n",
        "        pt.size = 0.5, label.size = 10, )"
      ]
    },
    {
      "cell_type": "markdown",
      "id": "aecb2947-6ae9-43be-af0a-b68c00761a79",
      "metadata": {},
      "source": [
        "We save the data"
      ]
    },
    {
      "cell_type": "code",
      "execution_count": null,
      "id": "334d0cad-9444-45da-9221-29a61601827a",
      "metadata": {
        "vscode": {
          "languageId": "r"
        }
      },
      "outputs": [],
      "source": [
        "SaveH5Seurat(object = seurat.clustered, \n",
        "             filename = \"seurat.clustered.h5Seurat\", \n",
        "             overwrite = TRUE,\n",
        "             verbose=FALSE)"
      ]
    },
    {
      "cell_type": "markdown",
      "id": "992c6c11-6974-47f9-90a6-ce4a10446e1a",
      "metadata": {},
      "source": [
        "# Gene Expression Analysis\n",
        "\n",
        "In this section we explore the gene expression through\n",
        "\n",
        "-   determining **differentially expressed genes** for the infected\n",
        "    condition against the control. Differentially expressed genes are\n",
        "    significantly more epressed in one of the two groups used for the\n",
        "    comparison. Usually the wild type is used as query for the\n",
        "    comparison, such that differentially expressed genes are referred to\n",
        "    the perturbated condition (infection, knock-out, illness, …)\n",
        "-   studying **coexpression modules** (a module is a group of gene\n",
        "    similarly expressed across cells in the data) to find if\n",
        "    -   any of them contains the gene of interest,\n",
        "    -   they are significantly more expressed in specific cell groups\n",
        "        (**Differential module expression**)\n",
        "    -   if there are specific known functions associated to some modules\n",
        "\n",
        "We will also use gene ontology terms for understanding the function of\n",
        "groups of genes.\n",
        "\n",
        "## Differential Gene Expression (DGE)\n",
        "\n",
        "Here we test each cluster to see which are significantly more expressed\n",
        "genes in the infected samples compared to the wild-type samples. We also\n",
        "see if we find the gene RINRK1 as being significant. Again, the\n",
        "resulting genes can be useful to be integrated with the GO terms as we\n",
        "did before.\n",
        "\n",
        "We first have a quick look to see how much the RINRK1 gene is expressed\n",
        "in the data. We use the `RNA` assay to plot the true expression values.\n",
        "The UMAP plot shows few cells expressing the genes, meaning its average\n",
        "expression is going to be very low, so it is likely we will not find the\n",
        "gene to be differentially expressed anywhere."
      ]
    },
    {
      "cell_type": "code",
      "execution_count": null,
      "id": "fig-rinrk",
      "metadata": {
        "tags": [],
        "vscode": {
          "languageId": "r"
        }
      },
      "outputs": [],
      "source": [
        "RINRK1.id <- 'LotjaGi1g1v0182900'\n",
        "\n",
        "DefaultAssay(seurat.clustered) <- \"RNA\"\n",
        "\n",
        "FeaturePlot(seurat.clustered,\n",
        "            reduction = \"umap\", \n",
        "            features = c(RINRK1.id), \n",
        "            order = TRUE,\n",
        "            min.cutoff = 0, \n",
        "            pt.size = 1,\n",
        "            label = TRUE,\n",
        "            label.size = 7) + theme(legend.position = \"right\")"
      ]
    },
    {
      "cell_type": "markdown",
      "id": "e71ed201-b712-4fb1-9a39-9fc03f4fc39f",
      "metadata": {},
      "source": [
        "From biological knowledge, we expect the gene mostly expressed in the\n",
        "cortex and trichoblasts upon inoculation with rhizobia, and that is what\n",
        "happens in our data as well. We can see it in the code and violin plot\n",
        "of [Figure 27](#fig-vln)"
      ]
    },
    {
      "cell_type": "code",
      "execution_count": null,
      "id": "9ff450e2-7834-40d9-991b-9bfca77769b4",
      "metadata": {
        "tags": [],
        "vscode": {
          "languageId": "r"
        }
      },
      "outputs": [],
      "source": [
        "cat(\"Cells in inoculated L.J. expressing\", RINRK1.id, \"\\n\")\n",
        "\n",
        "cat( sum( as.numeric(GetAssayData(seurat.clustered[RINRK1.id,]))>0 & \n",
        "     seurat.clustered@meta.data$Condition==\"R7A\" ) )\n",
        "\n",
        "cat(\"\\nCells in control L.J. expressing\", RINRK1.id, \"\\n\")\n",
        "\n",
        "cat( sum( as.numeric(GetAssayData(seurat.clustered[RINRK1.id,]))>0 & \n",
        "    seurat.clustered@meta.data$Condition==\"Control\" ) )"
      ]
    },
    {
      "cell_type": "code",
      "execution_count": null,
      "id": "fig-vln",
      "metadata": {
        "vscode": {
          "languageId": "r"
        }
      },
      "outputs": [],
      "source": [
        "VlnPlot(seurat.clustered, \n",
        "        features = RINRK1.id)"
      ]
    },
    {
      "cell_type": "markdown",
      "id": "83ae6fd4-0dc6-491c-a264-921574cab22a",
      "metadata": {},
      "source": [
        "The code below uses `FindMarkers` to compare `R7A` condition against\n",
        "`Control` for each cluster, with a filter to remove non-singnificant\n",
        "genes (keeping p-value below 0.001 and log fold change \\> 1 and \\< -1).\n",
        "We keep also genes expressed 30% more than in the condition where they\n",
        "are underexpressed. We use only the 2000 most variable genes, since we\n",
        "are interested in very variable gene expressions across data."
      ]
    },
    {
      "cell_type": "code",
      "execution_count": null,
      "id": "f29a970f-42a8-4094-bac5-e4a539dbdf5c",
      "metadata": {
        "vscode": {
          "languageId": "r"
        }
      },
      "outputs": [],
      "source": [
        "seurat.clustered <- FindVariableFeatures(seurat.clustered, nfeatures = 2000, assay = \"integrated\")"
      ]
    },
    {
      "cell_type": "code",
      "execution_count": null,
      "id": "9fca13e5-d3a3-45c6-8fac-e4f9a290f758",
      "metadata": {
        "vscode": {
          "languageId": "r"
        }
      },
      "outputs": [],
      "source": [
        "DEG_table <- FindMarkers(seurat.clustered, \n",
        "                             assay='integrated',\n",
        "                             ident.1 = \"R7A\",\n",
        "                             ident.2 = \"Control\", \n",
        "                             group.by = \"Condition\",\n",
        "                             subset.ident=\"Cortex\",\n",
        "                             min.diff.pct = 0.3,\n",
        "                             verbose = TRUE, \n",
        "                             features = seurat.clustered@assays$integrated@var.features,\n",
        "                             test.use = \"wilcox\") %>%\n",
        "                             filter(p_val_adj <= 0.001 & abs(avg_log2FC)>1) %>%\n",
        "                             select(-p_val)"
      ]
    },
    {
      "cell_type": "code",
      "execution_count": null,
      "id": "3a954ec0-354d-44c8-8f4b-f9b2a03c6b42",
      "metadata": {
        "tags": [],
        "vscode": {
          "languageId": "r"
        }
      },
      "outputs": [],
      "source": [
        "DefaultAssay(seurat.clustered) <- \"integrated\" #return to the integrated data\n",
        "DEG <- data.frame()\n",
        "cluster.names <- unique(Idents(seurat.clustered))\n",
        "\n",
        "for(CLUSTER in cluster.names){\n",
        "    DEG_table <- FindMarkers(seurat.clustered,\n",
        "                             assay='integrated',\n",
        "                             ident.1 = \"R7A\",\n",
        "                             ident.2 = \"Control\", \n",
        "                             group.by = \"Condition\",\n",
        "                             subset.ident=CLUSTER,\n",
        "                             verbose = TRUE, \n",
        "                             min.diff.pct = 0.3,\n",
        "                             features = seurat.clustered@assays$integrated@var.features,\n",
        "                             test.use = \"wilcox\") %>%\n",
        "                             filter(p_val_adj <= 0.001 & abs(avg_log2FC)>1) %>%\n",
        "                             select(-p_val)\n",
        "    if(dim(DEG_table)[1]>0){\n",
        "        DEG_table$'cluster' <- CLUSTER\n",
        "        DEG <- rbind(DEG, DEG_table)}\n",
        "    else{\n",
        "        message(paste0(\"---> Warning: No DE genes in cluster \", CLUSTER), appendLF=FALSE)}\n",
        "    message(paste0(\"Done with cluster \",CLUSTER), appendLF=FALSE)\n",
        "    }\n",
        "\n",
        "DEG <- as.data.frame(DEG)\n",
        "DEG$gene <- rownames(DEG)"
      ]
    },
    {
      "cell_type": "markdown",
      "id": "95818406-941e-46a4-ba2c-71d9a029d35d",
      "metadata": {},
      "source": [
        "The table looks like this. Columns represent:\n",
        "\n",
        "-   average logfoldchange between R7A and Control\n",
        "-   percentage of cells in R7A expressing the gene\n",
        "-   percentage of cells in Control expressing the gene\n",
        "-   adjusted p-value\n",
        "-   cluster\n",
        "-   gene\n",
        "\n",
        "There are some genes in the table"
      ]
    },
    {
      "cell_type": "code",
      "execution_count": null,
      "id": "c37a8cbc-263c-4ca9-b7eb-8c008de96196",
      "metadata": {
        "vscode": {
          "languageId": "r"
        }
      },
      "outputs": [],
      "source": [
        "dim(DEG)[1]"
      ]
    },
    {
      "cell_type": "markdown",
      "id": "65a1c494-e657-4b73-943d-5645d81a66ad",
      "metadata": {},
      "source": [
        "We now integrate GO terms using a table of predefined GO terms. The\n",
        "function doing that is `addGOterms`:"
      ]
    },
    {
      "cell_type": "code",
      "execution_count": null,
      "id": "d06e4365-c2f5-4b11-944d-a1dc9643b97d",
      "metadata": {
        "tags": [],
        "vscode": {
          "languageId": "r"
        }
      },
      "outputs": [],
      "source": [
        "go_table <- read.table(\"../Data/LJ_GO_terms.gaf\", skip=6, sep='\\t', fill=TRUE, quote = \"\\\"\")"
      ]
    },
    {
      "cell_type": "code",
      "execution_count": null,
      "id": "e20db2fd-c764-49dd-9ada-bcfc16531d6f",
      "metadata": {
        "tags": [],
        "vscode": {
          "languageId": "r"
        }
      },
      "outputs": [],
      "source": [
        "DEG <- addGOterms(DEG, go_table, n.cores = 16)"
      ]
    },
    {
      "cell_type": "markdown",
      "id": "63391b12-10b9-4c7e-9339-80582b10d020",
      "metadata": {},
      "source": [
        "So we can see which GO terms are relevant in each cluster for the\n",
        "infected samples against the control:"
      ]
    },
    {
      "cell_type": "code",
      "execution_count": null,
      "id": "d62cf91c-a55c-4c9a-9951-f98602482da6",
      "metadata": {
        "scrolled": true,
        "vscode": {
          "languageId": "r"
        }
      },
      "outputs": [],
      "source": [
        "DEG %>% filter(cluster==\"Cortex\" & GO!=\"Undefined\")"
      ]
    },
    {
      "cell_type": "markdown",
      "id": "8970912c-10e2-4829-b3fc-06e6883a9c33",
      "metadata": {},
      "source": [
        "Finally, we do not expect to find the RINRK1 gene as differentially\n",
        "expressed, because its expression is on average too low."
      ]
    },
    {
      "cell_type": "code",
      "execution_count": null,
      "id": "0278de8d-4870-424c-b886-1f3164a9b831",
      "metadata": {
        "vscode": {
          "languageId": "r"
        }
      },
      "outputs": [],
      "source": [
        "DEG %>% filter(gene==RINRK1.id)"
      ]
    },
    {
      "cell_type": "markdown",
      "id": "686fba57-9e9a-4f13-8c4b-bec2ecfebc89",
      "metadata": {},
      "source": [
        "We can save the table for future use. Such a table can be downloaded and\n",
        "open in any table processor (such as Excel)."
      ]
    },
    {
      "cell_type": "code",
      "execution_count": null,
      "id": "b4dc9238-5304-470e-802a-11ca32e97fea",
      "metadata": {
        "tags": [],
        "vscode": {
          "languageId": "r"
        }
      },
      "outputs": [],
      "source": [
        "write.csv(DEG_table, \"DEG_table.csv\")"
      ]
    },
    {
      "cell_type": "markdown",
      "id": "d76fba22-3c58-4fb4-a622-77fe5a0d5d94",
      "metadata": {},
      "source": [
        "## Coexpression analysis\n",
        "\n",
        "We use the package hdWGCNA to detect groups of cells expressed\n",
        "simultaneously, and we find which modules are differentially expressed\n",
        "in specific clusters. We look at the GO terms to gain biological insight\n",
        "in the data.\n",
        "\n",
        "::: {.callout-note}\n",
        "\n",
        "Before running hdWGCNA, we first have to set up the Seurat object. Most of the information computed by hdWGCNA will be stored in the Seurat object’s `@misc` slot. \n",
        "\n",
        ":::\n",
        "\n",
        "Here we will set up the Seurat object using the `SetupForWGCNA`\n",
        "function, specifying the name of the `hdWGNCA` experiment. This function\n",
        "also selects the genes that will be used for WGCNA. The user can select\n",
        "genes using three different approaches using the posse gene_select\n",
        "parameter:\n",
        "\n",
        "-   variable: use the genes stored in the Seurat object’s\n",
        "    VariableFeatures.\n",
        "-   fraction: use genes that are expressed in a certain fraction of\n",
        "    cells for in the whole dataset or in each group of cells, specified\n",
        "    by `group.by`.\n",
        "-   custom: use genes that are specified in a custom list.\n",
        "\n",
        "In this example, we will select genes that are expressed in at least 5%\n",
        "of cells in this dataset, and we will name our `hdWGCNA` experiment\n",
        "“tutorial”."
      ]
    },
    {
      "cell_type": "code",
      "execution_count": null,
      "id": "ae3f0a17-fb24-414b-993b-415534aa73f1",
      "metadata": {
        "vscode": {
          "languageId": "r"
        }
      },
      "outputs": [],
      "source": [
        "seurat.clustered <- LoadH5Seurat(\"seurat.clustered.h5Seurat\", verbose=FALSE)"
      ]
    },
    {
      "cell_type": "code",
      "execution_count": null,
      "id": "088f41b0-6204-4081-b387-a2a234eae8c2",
      "metadata": {
        "vscode": {
          "languageId": "r"
        }
      },
      "outputs": [],
      "source": [
        "seurat.clustered <- SetupForWGCNA(\n",
        "  seurat.clustered,\n",
        "  gene_select = \"variable\",\n",
        "  fraction = 0.05, # fraction of cells that a gene needs to be expressed in order to be included\n",
        "  wgcna_name = \"tutorial\" # the name of the hdWGCNA experiment\n",
        ")"
      ]
    },
    {
      "cell_type": "markdown",
      "id": "3e67382d-6d96-4ce8-b05e-f2bce7e8452c",
      "metadata": {},
      "source": [
        "### Construct metacells\n",
        "\n",
        "After we have set up our Seurat object, the first step in running the\n",
        "hdWGCNA pipeline is to construct metacells from the single-cell dataset.\n",
        "Briefly, metacells are **aggregates of small groups of similar cells\n",
        "originating from the same biological sample of origin**.\n",
        "\n",
        "![Workflow of hdWGCNA. Similar cells are summed or averaged together to\n",
        "form metacells. The resulting matrix is then used as the basis for\n",
        "inferring modules of coexpressed genes. The metacells expression matrix\n",
        "is the base for all the downstream analysis, such as differential\n",
        "expression of genes modules in specific\n",
        "clusters](./images/hdwgcna.jpg) {#fig-hdwgcna, width=800}\n",
        "\n",
        "::: {.callout-tip title=\"Something more about hdWGCNA\" collapse=\"true\"}\n",
        "\n",
        "The k-Nearest Neighbors (KNN) algorithm is used to identify groups of similar cells to aggregate, and then the average or summed expression of these cells is computed, thus yielding a metacell gene expression matrix (**as if you had many bulk samples**). The **sparsity of the metacell expression matrix is considerably reduced** when compared to the original expression matrix, and therefore it is preferable to use. We were originally motivated to use metacells in place of the original single cells because correlation **network approaches such as WGCNA are sensitive to data sparsity**.\n",
        "\n",
        "`hdWGCNA` includes a function `MetacellsByGroups` to construct metacell expression matrices given a single-cell dataset. This function constructs a new Seurat object for the metacell dataset which is stored internally in the `hdWGCNA` experiment. The `group.by` parameter determines which groups metacells will be constructed in. We only want to construct metacells from cells that came from the same biological sample of origin, so it is critical to pass that information to `hdWGCNA` via the `group.by` parameter. Additionally, we usually construct metacells for each cell type separately. Thus, in this example, we are **grouping by Sample and cell type** to achieve the desired result.\n",
        "\n",
        "**The number of cells to be aggregated `k` should be tuned based on the size of the input dataset**, in general a lower number for `k` can be used for small datasets. We generally use `k` values between 20 and 75. The dataset used for this tutorial has 21,369 cells, and here we use `k=30`. The amount of allowable overlap between metacells can be tuned using the `max_shared` argument. There should be a range of `k` values that are suitable for reducing the sparsity while retaining cellular heterogeneity for a given dataset, rather than a single optimal value.\n",
        "\n",
        "Note: the authors of `hdWGCNA` have found that the metacell aggregation approach does not yield good results for extremely underrepresented cell types. For example, in this dataset, the `Meristem` and `Xylem` are the least represented, and will be excluded them from this analysis. `MetacellsByGroups` has a parameter `min_cells` to exclude groups that are smaller than a specified number of cells. **Errors are likely to arise if the selected value for `min_cells` is too low**.\n",
        "\n",
        ":::\n",
        "\n",
        "Here **we construct metacells and normalize the resulting expression\n",
        "matrix** using the following code (read the additional text in the box\n",
        "above to understand the parameters). Note how the clusters Xylem and\n",
        "Quiescent center are removed, simply because they contain too few cells\n",
        "and cannot be used. So from now on we do not consider them for the\n",
        "coexpression analysis. Note that we use the scaled integrated data\n",
        "matrix (assay `integrated` and slot `scale.data`), so that we take\n",
        "advantage of the integration procedure we have been running before to\n",
        "unbias the data from technical features."
      ]
    },
    {
      "cell_type": "code",
      "execution_count": null,
      "id": "61ad465a-0368-4365-8366-10380ac38cf5",
      "metadata": {
        "scrolled": true,
        "vscode": {
          "languageId": "r"
        }
      },
      "outputs": [],
      "source": [
        "# construct metacells  in each group\n",
        "seurat.clustered <- MetacellsByGroups(\n",
        "  seurat_obj = seurat.clustered,\n",
        "  group.by = c(\"predicted.id\", \"Condition\"), # specify metadata to split by cluster and condition\n",
        "  reduction = 'pca', # select the dimensionality reduction to perform KNN on\n",
        "  k = 30, # nearest-neighbors parameter\n",
        "  max_shared = 10, # maximum number of shared cells between two metacells\n",
        "  ident.group = 'predicted.id', # set the Idents of the metacell seurat object\n",
        "  assay = \"integrated\",\n",
        "  slot = \"scale.data\",\n",
        "  min_cells = 100,\n",
        "  wgcna_name = \"tutorial\",\n",
        "  verbose=TRUE\n",
        ")"
      ]
    },
    {
      "cell_type": "markdown",
      "id": "f0bc5454-68ff-4926-8a4e-48ebbbf4440e",
      "metadata": {},
      "source": [
        "The metacell matrix always needs to be normalized, which is immediately\n",
        "done below"
      ]
    },
    {
      "cell_type": "code",
      "execution_count": null,
      "id": "f40e8bd1-8eab-4141-b590-fdf613eb37ed",
      "metadata": {
        "vscode": {
          "languageId": "r"
        }
      },
      "outputs": [],
      "source": [
        "#normalize metacell expression matrix:\n",
        "seurat.clustered <- NormalizeMetacells(seurat.clustered)"
      ]
    },
    {
      "cell_type": "markdown",
      "id": "b1175bcd-bc03-4607-b47b-cfb0ce81a6cc",
      "metadata": {},
      "source": [
        "Here we specify the expression matrix that we will use for network\n",
        "analysis. It is natural to choose the integrated data matrix (which is\n",
        "chosen with the assay `integrated` and the matrix slot `counts`). We\n",
        "still need the data matrix after building the gene coexpression network\n",
        "when we want to evaluate the expression of each cell and gene in the\n",
        "original data."
      ]
    },
    {
      "cell_type": "code",
      "execution_count": null,
      "id": "a207fe5c-d719-4f6d-9cd0-f09427c006ce",
      "metadata": {
        "scrolled": true,
        "vscode": {
          "languageId": "r"
        }
      },
      "outputs": [],
      "source": [
        "seurat.clustered <- SetDatExpr(\n",
        "  seurat.clustered,\n",
        "  group_name = c('Pericycle','Cortex','Trichoblasts','Root tip',\n",
        "                 'Phloem','Stele','Endodermis','Atrichoblasts',\n",
        "                 'Meristem'), #all groups of interest in the data (we use all clusters)\n",
        "  group.by='predicted.id', # the metadata column containing the cell type info. This same column should have also been used in MetacellsByGroups\n",
        "  assay = 'integrated', # using integrated assay\n",
        "  slot = 'counts' # using count data\n",
        ")"
      ]
    },
    {
      "cell_type": "markdown",
      "id": "d9db8be3-78fe-4a06-8322-1d356954579e",
      "metadata": {},
      "source": [
        "### Select soft-power threshold\n",
        "\n",
        "Next we will select the soft power threshold. This is an extremely\n",
        "important step in the pipeline. `hdWGCNA` constructs a gene-gene\n",
        "correlation adjacency matrix to infer co-expression relationships\n",
        "between genes. The correlations are **raised to a power to reduce the\n",
        "amount of noise present in the correlation matrix**, thereby **retaining\n",
        "the strong connections and removing the weak connections**. Therefore,\n",
        "it is critical to determine a proper value for the soft power threshold.\n",
        "\n",
        "We use the function `TestSoftPowers` to perform a parameter sweep for\n",
        "different soft power thresholds. This function helps us to guide our\n",
        "choice in a soft power threshold for constructing the co-expression\n",
        "network by inspecting the resulting network topology for different power\n",
        "values. The following code performs the parameter sweep and outputs a\n",
        "summary figure."
      ]
    },
    {
      "cell_type": "code",
      "execution_count": null,
      "id": "fig-sweep",
      "metadata": {
        "scrolled": true,
        "vscode": {
          "languageId": "r"
        }
      },
      "outputs": [],
      "source": [
        "# Test different soft powers:\n",
        "seurat.clustered <- TestSoftPowers(powers = 1:50,\n",
        "  seurat.clustered,\n",
        "  networkType = 'signed'\n",
        ")\n",
        "\n",
        "# plot the results:\n",
        "plot_list <- PlotSoftPowers(seurat.clustered)\n",
        "\n",
        "# assemble with patchwork\n",
        "wrap_plots(plot_list, ncol=2)"
      ]
    },
    {
      "cell_type": "markdown",
      "id": "62caaa28-e348-4d0e-abc9-2ba1e87e43ca",
      "metadata": {},
      "source": [
        "The general guidance for `hdWGCNA` is to pick the lowest soft power\n",
        "threshold that has Model Fit greater than or equal to 0.8. We will do it\n",
        "automatically, so you do not need to do it manually following the\n",
        "illustration fo [Figure 28](#fig-sweep).\n",
        "\n",
        "## Construction of co-expression network\n",
        "\n",
        "We now have everything that we need to construct our co-expression\n",
        "network. Here we use the `hdWGCNA` function `ConstructNetwork`. This\n",
        "function has quite a few parameters to play with if you are an advanced\n",
        "user (read [this\n",
        "manual](https://rdrr.io/github/smorabit/hdWGCNA/man/ConstructNetwork.html)\n",
        "and the function `ConstructNetwork` is based on\n",
        "[here](https://www.rdocumentation.org/packages/WGCNA/versions/1.72-5/topics/blockwiseConsensusModules)),\n",
        "but we use default parameters that work well with many single-cell\n",
        "datasets.\n",
        "\n",
        "The following code selects the power threshold from the values plotted\n",
        "in [Figure 28](#fig-sweep) and constructs the co-expression network."
      ]
    },
    {
      "cell_type": "code",
      "execution_count": null,
      "id": "7555f27b-b690-4d62-9b62-67b63ce6fdc7",
      "metadata": {
        "vscode": {
          "languageId": "r"
        }
      },
      "outputs": [],
      "source": [
        "# automatic choice of soft power value\n",
        "softPowerValue <- which(seurat.clustered@misc$tutorial$wgcna_powerTable$SFT.R.sq > .8)[1]\n",
        "message(paste0(\"Chosen Soft Power Value: \",softPowerValue))\n",
        "\n",
        "#multithreading for faster calculations\n",
        "enableWGCNAThreads(nThreads = 8)\n",
        "\n",
        "# construct co-expression network\n",
        "seurat.clustered <- ConstructNetwork(na.rm=TRUE,\n",
        "  seurat.clustered,\n",
        "  soft_power=softPowerValue,                                   \n",
        "  setDatExpr=FALSE,\n",
        "  tom_name = 'Network', # name of the topoligical overlap matrix written to disk\n",
        "  overwrite_tom = TRUE,\n",
        "  randomSeed = 123\n",
        ")"
      ]
    },
    {
      "cell_type": "markdown",
      "id": "c466a1c7-c404-465b-a3f8-cbb88ed37afb",
      "metadata": {},
      "source": [
        "We can plot the network dendrogram in [Figure 29](#fig-dendro). Each\n",
        "leaf on the dendrogram represents a single gene, and the color at the\n",
        "bottom indicates the co-expression module assignment. Clusters with\n",
        "similar brancing heights contain genes that are more similar to each\n",
        "other in terms of expression patterns when compared to genes in clusters\n",
        "with higher variation in merging heights.\n",
        "\n",
        ":::{.callout-note}\n",
        "\n",
        "the “gray” module consists of genes that were not grouped into any co-expression module. The gray module is to be ignored for all downstream analysis and interpretation.\n",
        "\n",
        ":::"
      ]
    },
    {
      "cell_type": "code",
      "execution_count": null,
      "id": "fig-dendro",
      "metadata": {
        "vscode": {
          "languageId": "r"
        }
      },
      "outputs": [],
      "source": [
        "PlotDendrogram(seurat.clustered, main='Phloem hdWGCNA Dendrogram')"
      ]
    },
    {
      "cell_type": "markdown",
      "id": "752a4b5d-a8d9-4b8c-9c5d-ef7e843ab57b",
      "metadata": {},
      "source": [
        "### Module Eigengenes (MEs)\n",
        "\n",
        "We calculate harmonized module eigengenes. This is a way of doing PCA of\n",
        "the expression matrix of metacells including the genes of one\n",
        "coexpression module at a time. Thus we have a PCA of the data for each\n",
        "module. The first principal component of each PCA is called module\n",
        "eigengene: it is enough to distinguish one module from all the others\n",
        "and characterize the expression pattern of the module (Langfelder and\n",
        "Horvath (2007))!\n",
        "\n",
        "Dimensionality reduction techniques are a very hot topic in single-cell\n",
        "genomics (Xiang et al. (2021)). It is well known that technical\n",
        "artifacts can muddy the analysis of single-cell datasets, and over the\n",
        "years there have been many methods that aim to reduce the effects of\n",
        "these artifacts. Therefore it stands to reason that MEs would be subject\n",
        "to these technical artifacts as well, and `hdWGCNA` seeks to alleviate\n",
        "these effects by using the integration software `Harmony` (Korsunsky et\n",
        "al. (2019)).\n",
        "\n",
        "The following code performs the module eigengene computation harmonizing\n",
        "by the Sample of origin using the `group.by.vars` parameter. We need to\n",
        "run `ScaleData` to avoid errors from the `harmony` software."
      ]
    },
    {
      "cell_type": "code",
      "execution_count": null,
      "id": "ceabe2a0-ab03-450e-8a7c-ca0729496dbb",
      "metadata": {
        "scrolled": true,
        "vscode": {
          "languageId": "r"
        }
      },
      "outputs": [],
      "source": [
        "# need to run ScaleData first or else harmony throws an error:\n",
        "seurat.clustered <- ScaleData(seurat.clustered, \n",
        "                              features=VariableFeatures(seurat.clustered), \n",
        "                              verbose = FALSE)"
      ]
    },
    {
      "cell_type": "markdown",
      "id": "aed98fc5-64b0-4492-a68d-69b3494f4753",
      "metadata": {},
      "source": [
        "We still want to use the integrated data matrix to calculate the modules\n",
        "eigengenes, so we assign the scaled matrix to the `counts` slot, which\n",
        "is where `hdWGCNA` looks by default for computing module eigengenes."
      ]
    },
    {
      "cell_type": "code",
      "execution_count": null,
      "id": "e0b39b5f-989a-4300-86d3-e8ffb221d925",
      "metadata": {
        "vscode": {
          "languageId": "r"
        }
      },
      "outputs": [],
      "source": [
        "seurat.clustered@assays$integrated@counts <- seurat.clustered@assays$integrated@scale.data"
      ]
    },
    {
      "cell_type": "code",
      "execution_count": null,
      "id": "475a8602-28a7-48b5-9d8a-5ed285e79722",
      "metadata": {
        "scrolled": true,
        "vscode": {
          "languageId": "r"
        }
      },
      "outputs": [],
      "source": [
        "# compute all MEs in the full single-cell dataset\n",
        "seurat.clustered <- ModuleEigengenes( \n",
        " seurat.clustered,\n",
        " group.by.vars=\"orig.ident\",\n",
        " verbose = FALSE\n",
        ")"
      ]
    },
    {
      "cell_type": "markdown",
      "id": "e8e795f4-2c89-4b68-92be-1697feda47ea",
      "metadata": {},
      "source": [
        "### Compute module connectivity\n",
        "\n",
        "In co-expression network analysis, we often want to focus on the **hub\n",
        "genes, those which are highly connected within each module**. Therefore\n",
        "we wish to determine the eigengene-based connectivity, also known as\n",
        "kME, of each gene. The `ModuleConnectivity` function computes the kMEs\n",
        "in the single-cell dataset (rather than the metacell dataset). This\n",
        "function essentially computes pairwise correlations between genes and\n",
        "module eigengenes. kME can be computed for all cells in the dataset, but\n",
        "it is recommended computing kMEs in the cell type(s) or group(s)\n",
        "previously used to run `ConstructNetwork`."
      ]
    },
    {
      "cell_type": "code",
      "execution_count": null,
      "id": "c326f95a-1876-4fd2-8962-e70a86c25b87",
      "metadata": {
        "vscode": {
          "languageId": "r"
        }
      },
      "outputs": [],
      "source": [
        "# compute eigengene-based connectivity (kME):\n",
        "seurat.clustered <- ModuleConnectivity(\n",
        "  seurat.clustered,\n",
        "  group.by = 'predicted.id', \n",
        "  group_name = c('Pericycle','Cortex','Trichoblasts','Root tip',\n",
        "                 'Phloem','Stele','Endodermis','Atrichoblasts',\n",
        "                 'Meristem'),\n",
        ")"
      ]
    },
    {
      "cell_type": "markdown",
      "id": "8f9f9e5e-7c9e-4868-86e4-9b7d31050cda",
      "metadata": {},
      "source": [
        "For convenience, we re-name the hdWGCNA modules to indicate such that\n",
        "they are not called `cluster##`, but `Lotus-Mod##` instead, which is a\n",
        "more meaningful name."
      ]
    },
    {
      "cell_type": "code",
      "execution_count": null,
      "id": "546f8ecd-4514-4606-8449-15c3d89c7e59",
      "metadata": {
        "vscode": {
          "languageId": "r"
        }
      },
      "outputs": [],
      "source": [
        "# rename the modules\n",
        "seurat.clustered <- ResetModuleNames(\n",
        "  seurat.clustered,\n",
        "  new_name = \"Lotus-Mod\"\n",
        ")"
      ]
    },
    {
      "cell_type": "markdown",
      "id": "af03a792-3394-44a6-a7cc-d195d50da7ae",
      "metadata": {},
      "source": [
        "We can visualize the genes in each module ranked by kME using the\n",
        "`PlotKMEs` function. Each plot shows the kME-score (which is at most 1)\n",
        "for a module. On the left side of the y axis you see the kME scores (how\n",
        "much a gene is well-correlated with others in the module). On the right\n",
        "side of the y axis you have a bar showing how many genes have the\n",
        "corresponding kME score. The x axis should show the number of genes\n",
        "corresponding to the bar (but no number is shown by this plotting\n",
        "function). What is important to observe is that only few genes have high\n",
        "kME score in each module, and those are the ones you want to focus on.\n",
        "The top ten names are plotted for each module as well."
      ]
    },
    {
      "cell_type": "code",
      "execution_count": null,
      "id": "fig-kme",
      "metadata": {
        "vscode": {
          "languageId": "r"
        }
      },
      "outputs": [],
      "source": [
        "options(repr.plot.width=20, repr.plot.height=25)\n",
        "p <- capture.output({PlotKMEs(seurat.clustered, ncol=3, text_size = 4);})"
      ]
    },
    {
      "cell_type": "markdown",
      "id": "b08907d5-dcc2-4e4d-90f3-45dd82277fd3",
      "metadata": {},
      "source": [
        "### Getting the module assignment table\n",
        "\n",
        "The plots of [Figure 30](#fig-kme) are a bit hard to read, though fancy\n",
        "to plot. `hdWGCNA` allows for easy access of the module assignment table\n",
        "using the `GetModules` function. This table consists of three columns:\n",
        "`gene_name` stores the gene’s symbol or ID, module stores the gene’s\n",
        "module assignment, and color stores a color mapping for each module\n",
        "(which is used in plotting steps). If `ModuleConnectivity` has been used\n",
        "on this hdWGCNA experiment, as it is our case, this table has additional\n",
        "columns with the connectivities plotted in [Figure 30](#fig-kme)"
      ]
    },
    {
      "cell_type": "code",
      "execution_count": null,
      "id": "f0a27660-3276-4adf-b83e-eff32fb9b2db",
      "metadata": {
        "vscode": {
          "languageId": "r"
        }
      },
      "outputs": [],
      "source": [
        "# get the module assignment table:\n",
        "modules <- GetModules(seurat.clustered)\n",
        "\n",
        "# show the first 6 columns:\n",
        "head(modules[,1:6])"
      ]
    },
    {
      "cell_type": "markdown",
      "id": "e5b4e07b-0460-46ef-9e76-d43dab3b2578",
      "metadata": {},
      "source": [
        "A table of the top N hub genes sorted by kME can be extracted using the\n",
        "`GetHubGenes` function. Here we choose the top 10 genes, but you can\n",
        "change the value if you want. The table contains all the top 10 genes\n",
        "for each module, the name of the module they come from and the kME\n",
        "score."
      ]
    },
    {
      "cell_type": "code",
      "execution_count": null,
      "id": "9e5e1a57-a3af-48f7-b7d5-17284a3e1364",
      "metadata": {
        "scrolled": true,
        "vscode": {
          "languageId": "r"
        }
      },
      "outputs": [],
      "source": [
        "# get hub genes\n",
        "hub_df <- GetHubGenes(seurat.clustered, n_hubs = 10)\n",
        "# print the first lines of the table to see its structure\n",
        "head( hub_df )"
      ]
    },
    {
      "cell_type": "markdown",
      "id": "b2f82086-8539-436c-a950-f0c76dbb69ae",
      "metadata": {},
      "source": [
        "Again, we can assign GO terms to better check associated functions"
      ]
    },
    {
      "cell_type": "code",
      "execution_count": null,
      "id": "f7feb78d-5813-4961-9cfa-2f82718af289",
      "metadata": {
        "tags": [],
        "vscode": {
          "languageId": "r"
        }
      },
      "outputs": [],
      "source": [
        "go_table <- read.table(\"../Data/LJ_GO_terms.gaf\", skip=6, sep='\\t', fill=TRUE, quote = \"\\\"\")"
      ]
    },
    {
      "cell_type": "code",
      "execution_count": null,
      "id": "4602d709-4e25-4062-88ee-ddfb07eb97eb",
      "metadata": {
        "tags": [],
        "vscode": {
          "languageId": "r"
        }
      },
      "outputs": [],
      "source": [
        "hub_df <- addGOterms(input_table = hub_df, \n",
        "                     go_table = go_table, \n",
        "                     gene_column = 'gene_name',\n",
        "                     n.cores = 16)"
      ]
    },
    {
      "cell_type": "markdown",
      "id": "0b82af77-1385-40c1-80f4-c85168468100",
      "metadata": {},
      "source": [
        "Now it is easy to look at each module and relevant GO terms."
      ]
    },
    {
      "cell_type": "code",
      "execution_count": null,
      "id": "18d2aa7a-c460-48a7-9dbc-643ea2345792",
      "metadata": {
        "vscode": {
          "languageId": "r"
        }
      },
      "outputs": [],
      "source": [
        "hub_filtered <- hub_df %>% filter(module == \"Lotus-Mod3\")"
      ]
    },
    {
      "cell_type": "code",
      "execution_count": null,
      "id": "8df34620-18c9-4f05-8b94-a28ce28f8b20",
      "metadata": {
        "vscode": {
          "languageId": "r"
        }
      },
      "outputs": [],
      "source": [
        "hub_filtered"
      ]
    },
    {
      "cell_type": "markdown",
      "id": "fb19fe07-76e8-48da-b15c-dbd8bc644505",
      "metadata": {},
      "source": [
        "We save the table for later use"
      ]
    },
    {
      "cell_type": "code",
      "execution_count": null,
      "id": "ae4b31b1-9933-4b5f-8a26-d07069a014ce",
      "metadata": {
        "vscode": {
          "languageId": "r"
        }
      },
      "outputs": [],
      "source": [
        "write.csv(hub_df, \"top_genes_networks.csv\")"
      ]
    },
    {
      "cell_type": "markdown",
      "id": "7336adbe-ad54-4bf5-937f-f714ed7ecc95",
      "metadata": {},
      "source": [
        "We can also plot the modules to see where they are most relevant on the\n",
        "UMAP plot. First we calculate the scores of each module and renames each\n",
        "module from `Cluster##` to `Lotus-Mod##`. The scores are the same for\n",
        "the markers plots for clustering, but calculated instead on the genes of\n",
        "each module."
      ]
    },
    {
      "cell_type": "code",
      "execution_count": null,
      "id": "fe098314-15a4-4ef8-8e70-ad198b4b93de",
      "metadata": {
        "vscode": {
          "languageId": "r"
        }
      },
      "outputs": [],
      "source": [
        "features_list <- list()\n",
        "\n",
        "for(MOD in hub_df$module){\n",
        "    genes <- hub_df %>% filter(module == MOD)\n",
        "    genes_mod <- genes$gene_name\n",
        "    features_list[[MOD]] <- genes_mod\n",
        "    }\n",
        "\n",
        "seurat.clustered <- AddModuleScore(\n",
        "  object = seurat.clustered,\n",
        "  features = features_list,\n",
        "  ctrl = 5,\n",
        ")\n",
        "\n",
        "seurat.clustered <- renameScores(markers_list = features_list, seurat_data = seurat.clustered)\n",
        "plotScoresUMAP(markers_list = features_list, seurat_data = seurat.clustered)\n"
      ]
    },
    {
      "cell_type": "markdown",
      "id": "d501abb2-3b8b-480f-938b-3ed6f099ace6",
      "metadata": {},
      "source": [
        ":::{.callout-tip}\n",
        "\n",
        "Plots can be hard to see when they are small. You can plot any module singularly. For example Mod1. You simply need to choose one of the elements from `feature_list` (below we chose `feature_list[1]` for `Lotus-Mod1`)\n",
        "\n",
        ":::"
      ]
    },
    {
      "cell_type": "code",
      "execution_count": null,
      "id": "31244f25-9023-4ec7-96e1-fafed5636186",
      "metadata": {
        "vscode": {
          "languageId": "r"
        }
      },
      "outputs": [],
      "source": [
        "plotScoresUMAP(markers_list = features_list[1], seurat_data = seurat.clustered)"
      ]
    },
    {
      "cell_type": "markdown",
      "id": "c124a37d-0edc-43ee-ae57-b10183a95ee3",
      "metadata": {},
      "source": [
        "We save the seurat object and the network separately (because for some\n",
        "inscrutable error, `hdWGCNA` cannot load together with the Seurat object\n",
        "when it is needed again)."
      ]
    },
    {
      "cell_type": "code",
      "execution_count": null,
      "id": "c52251b7-9a95-481c-a2da-bfb36d28a64a",
      "metadata": {
        "vscode": {
          "languageId": "r"
        }
      },
      "outputs": [],
      "source": [
        "SaveH5Seurat(seurat.clustered, 'seurat.network.h5Seurat', overwrite = TRUE, verbose=FALSE)"
      ]
    },
    {
      "cell_type": "code",
      "execution_count": null,
      "id": "9711fc8f-1147-4bb7-8de7-a3d8b1133919",
      "metadata": {
        "vscode": {
          "languageId": "r"
        }
      },
      "outputs": [],
      "source": [
        "saveRDS(seurat.clustered@misc, \"network_lotus.RDS\")"
      ]
    },
    {
      "cell_type": "markdown",
      "id": "462530a0-7b55-4aa3-a45e-d1901dee4e58",
      "metadata": {},
      "source": [
        "## Differential module Expression (DME) analysis\n",
        "\n",
        "Lastly, we can see which modules are most expressed in a specific\n",
        "cluster against the others, in a similar way to differential gene\n",
        "expression."
      ]
    },
    {
      "cell_type": "code",
      "execution_count": null,
      "id": "ea549b5e-6c33-4eb1-aa0b-3ffb8d78387a",
      "metadata": {
        "scrolled": true,
        "vscode": {
          "languageId": "r"
        }
      },
      "outputs": [],
      "source": [
        "seurat.network <- LoadH5Seurat('seurat.network.h5Seurat', misc=FALSE, verbose=FALSE)"
      ]
    },
    {
      "cell_type": "code",
      "execution_count": null,
      "id": "7d799f71-1eb6-4617-abf5-f69f02938a8e",
      "metadata": {
        "vscode": {
          "languageId": "r"
        }
      },
      "outputs": [],
      "source": [
        "seurat.network@misc <- readRDS(\"network_lotus.RDS\")"
      ]
    },
    {
      "cell_type": "markdown",
      "id": "eb56bece-2630-49ab-badd-550bac9f9a43",
      "metadata": {},
      "source": [
        "Here we discuss how to perform **DME testing between two different\n",
        "groups**. We use the `hdWGCNA` function `FindDMEs`, which is similar to\n",
        "the Seurat function FindMarkers. We use the Mann-Whitney U test, also\n",
        "known as the Wilcoxon test, to compare two groups, but other tests can\n",
        "be used at the user’s discretion with the `test.use` parameter.\n",
        "\n",
        "We are interested in defining our two groups both by condition. We\n",
        "filter DMEs by p-value and fold-change, so to remove non-significant\n",
        "ones from the list."
      ]
    },
    {
      "cell_type": "code",
      "execution_count": null,
      "id": "6d7a9dd0-6de5-4be8-8597-c8d454f02f88",
      "metadata": {
        "vscode": {
          "languageId": "r"
        }
      },
      "outputs": [],
      "source": [
        "R7Agroup <- seurat.network@meta.data %>% subset(Condition == 'R7A') %>% rownames\n",
        "WTgroup <- seurat.network@meta.data %>% subset(Condition == 'Control') %>% rownames"
      ]
    },
    {
      "cell_type": "code",
      "execution_count": null,
      "id": "83f019f9-8954-4325-8c38-615a24952f33",
      "metadata": {
        "vscode": {
          "languageId": "r"
        }
      },
      "outputs": [],
      "source": [
        "DMEs <- FindDMEs(\n",
        "  seurat.network,\n",
        "  barcodes1 = R7Agroup,\n",
        "  barcodes2 = WTgroup,\n",
        "  test.use='wilcox',\n",
        "  wgcna_name='tutorial'\n",
        ") %>% filter(p_val_adj < 0.001 & abs(avg_log2FC)>1) %>% select(-p_val)\n"
      ]
    },
    {
      "cell_type": "markdown",
      "id": "e68a5699-1b6c-43f5-bb73-eec210bbaf72",
      "metadata": {},
      "source": [
        "The resulting table below is very similar to the one for differential\n",
        "gene expression. Now the p-values and fold changes are referred to the\n",
        "differential module expression in the inoculated VS the control cells.\n",
        "We can see there are some differences and one could study those modules\n",
        "in depth by looking at the top genes and their GO terms."
      ]
    },
    {
      "cell_type": "code",
      "execution_count": null,
      "id": "0cd77324-511b-477c-b409-980bfb6d19b9",
      "metadata": {
        "vscode": {
          "languageId": "r"
        }
      },
      "outputs": [],
      "source": [
        "DMEs"
      ]
    },
    {
      "cell_type": "markdown",
      "id": "5b476352-2307-4f1b-801b-8b3edfb08add",
      "metadata": {},
      "source": [
        "Graphically, you can always produce a lollipop plot as in\n",
        "[Figure 31](#fig-lol), where the size of each circle is the p-value, and\n",
        "the x-axis is the log-fold change. A cross on a circle means the p-value\n",
        "is not significant. In our case we filtered out p-values that were too\n",
        "high, so we have only significant modules in the plot."
      ]
    },
    {
      "cell_type": "code",
      "execution_count": null,
      "id": "fig-lol",
      "metadata": {
        "vscode": {
          "languageId": "r"
        }
      },
      "outputs": [],
      "source": [
        "options(repr.plot.width=6, repr.plot.height=6)\n",
        "\n",
        "PlotDMEsLollipop(\n",
        "  seurat.network, \n",
        "  DMEs, \n",
        "  wgcna_name='tutorial', \n",
        "  pvalue = \"p_val_adj\",\n",
        ")"
      ]
    },
    {
      "cell_type": "markdown",
      "id": "11466819-0053-40a0-a473-1bd9fdab6e73",
      "metadata": {},
      "source": [
        "### One-versus-all DME analysis\n",
        "\n",
        "This is another case of DME analysis, where each cluster is tested\n",
        "against the rest of the data to see which modules are differentially\n",
        "expressed and are specific of each cell type. We can test by cell type\n",
        "(`predicted.id`) or by condition (`Condition`), or by any other label a\n",
        "dataset might have and that is contained in the meta data."
      ]
    },
    {
      "cell_type": "code",
      "execution_count": null,
      "id": "60f51515-2c17-44b6-bfd5-fe9d796f00c7",
      "metadata": {
        "vscode": {
          "languageId": "r"
        }
      },
      "outputs": [],
      "source": [
        "DMEs_all <- FindAllDMEs(\n",
        "  seurat.network,\n",
        "  group.by = 'predicted.id',\n",
        "  wgcna_name = 'tutorial'\n",
        ") "
      ]
    },
    {
      "cell_type": "markdown",
      "id": "08a05a54-fea8-4a9f-935a-f7bccc635044",
      "metadata": {},
      "source": [
        "The table is usually big, but you can choose to filter by various\n",
        "parameters as below, and to look only at one cluster of interest"
      ]
    },
    {
      "cell_type": "code",
      "execution_count": null,
      "id": "40f3db82-2be0-4cd2-9864-79755fa04aea",
      "metadata": {
        "vscode": {
          "languageId": "r"
        }
      },
      "outputs": [],
      "source": [
        "DMEs_cortex <- DMEs_all %>% filter(p_val_adj < .001 & abs(avg_log2FC)>1 \n",
        "                                       & is.finite(avg_log2FC)\n",
        "                                       & group=='Cortex')"
      ]
    },
    {
      "cell_type": "markdown",
      "id": "044086cf-d22a-4a45-869c-9cf4564f84b5",
      "metadata": {},
      "source": [
        "The DME analysis results in a lot of significant results for the cortex.\n",
        "The most significant modules for a cluster are the ones where `pct.1`\n",
        "and `pct.2` are very different, and at the same time have a large\n",
        "fold-change and a small p-value. The column `group` tells you in which\n",
        "cluster the module is differentially overexpressed (positive fold-change\n",
        "`avg_log2FC`) or underexpressed (negative fold-change)."
      ]
    },
    {
      "cell_type": "code",
      "execution_count": null,
      "id": "8570e17b-3261-45dc-b5f3-83540a04a4a3",
      "metadata": {
        "vscode": {
          "languageId": "r"
        }
      },
      "outputs": [],
      "source": [
        "DMEs_cortex"
      ]
    },
    {
      "cell_type": "markdown",
      "id": "8eeb060f-e6db-4271-ac25-be6c95836cb7",
      "metadata": {},
      "source": [
        "You can look at any other cluster. For example trichoblasts. Here you\n",
        "can see how module 4 pops up as being basically entirely expressed only\n",
        "in Trichoblasts."
      ]
    },
    {
      "cell_type": "code",
      "execution_count": null,
      "id": "8680b3b3-1174-4ae9-a148-46a7a869c67a",
      "metadata": {
        "vscode": {
          "languageId": "r"
        }
      },
      "outputs": [],
      "source": [
        "DMEs_tricho <- DMEs_all %>% filter(p_val_adj < .001 & abs(avg_log2FC)>1 \n",
        "                                       & is.finite(avg_log2FC)\n",
        "                                       & group=='Trichoblasts')"
      ]
    },
    {
      "cell_type": "code",
      "execution_count": null,
      "id": "e44d420d-ab9f-4d29-9b9a-124a8d69b40c",
      "metadata": {
        "vscode": {
          "languageId": "r"
        }
      },
      "outputs": [],
      "source": [
        "DMEs_tricho"
      ]
    },
    {
      "cell_type": "markdown",
      "id": "b9610371-9dd2-4b02-ab8d-7c8b436b339b",
      "metadata": {},
      "source": [
        "For better visualization, you can always use the lolliplot plots using\n",
        "the correct table as an argument, so that you can plot multiple\n",
        "instances for the various clusters. In [Figure 32](#fig-lol2) we plot\n",
        "boyh for cortex and trichoblasts from the tables determined in the code\n",
        "above."
      ]
    },
    {
      "cell_type": "code",
      "execution_count": null,
      "id": "fig-lol2",
      "metadata": {
        "vscode": {
          "languageId": "r"
        }
      },
      "outputs": [],
      "source": [
        "options(repr.plot.width=12, repr.plot.height=6)\n",
        "\n",
        "#lollipop with cortex table\n",
        "p1 <- PlotDMEsLollipop(\n",
        "  seurat.network, \n",
        "  DMEs_cortex, \n",
        "  wgcna_name='tutorial', \n",
        "  pvalue = \"p_val_adj\",\n",
        ")\n",
        "\n",
        "#lollipop with trichoblasts table\n",
        "p2 <- PlotDMEsLollipop(\n",
        "  seurat.network, \n",
        "  DMEs_tricho, \n",
        "  wgcna_name='tutorial', \n",
        "  pvalue = \"p_val_adj\",\n",
        ")\n",
        "\n",
        "#plot an add a title\n",
        "p1 + ggtitle(\"DMEs of Cortex VS data\") + \n",
        "p2 + ggtitle(\"DMEs of Trichoblasts VS data\")"
      ]
    },
    {
      "cell_type": "markdown",
      "id": "ccafa92d-96f0-4df7-ac04-da9f4f60e354",
      "metadata": {},
      "source": [
        ":::{.callout-note title=\"Wrapping Up\"}\n",
        "\n",
        "This is the end of the tutorial. We have not shown much biological conclusion from the analysis - this is something that comes out by studying for example the GO terms of the various genes and modules identified. The scope of the tutorial was mainly to give all the means to perform your own analysis, from which you can then gain biological insight.\n",
        "\n",
        "If you are interested in more resources to learn single cell analysis, you can find them at some of our courses. We have other single-cell analysis tutorials including different tools at\n",
        "\n",
        "- **Introduction to NGS data analysis** (found in the `Genomics Sandbox` **[at this link](https://cloud.sdu.dk/app/jobs/create?app=genomics&version=2023.03.01)** - note that this is in the `python` language )\n",
        "- **Introduction to scRNAseq analysis in R** (found in the `Transcriptomics Sandbox` **[at this link](https://cloud.sdu.dk/app/jobs/create?app=transcriptomics&version=2023.11)** )\n",
        "\n",
        "You can also find a lot of material in the **[`Seurat` webpage](https://satijalab.org/seurat/articles/get_started.html)**. If you create a new notebook in this environment, you are likely to have all the packages needed to try the `Seurat` tutorials.\n",
        "\n",
        ":::\n",
        "\n",
        "# Bibliography\n",
        "\n",
        "Adossa, Nigatu, Sofia Khan, Kalle T. Rytkönen, and Laura L. Elo. 2021.\n",
        "“Computational Strategies for Single-Cell Multi-Omics Integration.”\n",
        "*Computational and Structural Biotechnology Journal* 19: 2588–96.\n",
        "<https://doi.org/10.1016/j.csbj.2021.04.060>.\n",
        "\n",
        "Becht, Etienne, Leland McInnes, John Healy, Charles-Antoine Dutertre,\n",
        "Immanuel W H Kwok, Lai Guan Ng, Florent Ginhoux, and Evan W Newell.\n",
        "2019. “Dimensionality Reduction for Visualizing Single-Cell Data Using\n",
        "UMAP.” *Nature Biotechnology* 37 (1): 38–44.\n",
        "<https://doi.org/10.1038/nbt.4314>.\n",
        "\n",
        "Cheng, Changde, Wenan Chen, Hongjian Jin, and Xiang Chen. 2023. “A\n",
        "Review of Single-Cell RNA-Seq Annotation, Integration, and Cell–Cell\n",
        "Communication.” *Cells* 12 (15): 1970.\n",
        "<https://doi.org/10.3390/cells12151970>.\n",
        "\n",
        "Fleming, Stephen J., Mark D. Chaffin, Alessandro Arduini, Amer-Denis\n",
        "Akkad, Eric Banks, John C. Marioni, Anthony A. Philippakis, Patrick T.\n",
        "Ellinor, and Mehrtash Babadi. 2023. “Unsupervised Removal of Systematic\n",
        "Background Noise from Droplet-Based Single-Cell Experiments Using\n",
        "CellBender.” *Nature Methods* 20 (9): 1323–35.\n",
        "<https://doi.org/10.1038/s41592-023-01943-7>.\n",
        "\n",
        "Frank, Manuel, Lavinia Ioana Fechete, Francesca Tedeschi, Marcin\n",
        "Nadzieja, Malita Malou Malekzadeh Nørgaard, Jesus Montiel, Kasper\n",
        "Røjkjær Andersen, Mikkel H. Schierup, Dugald Reid, and Stig Uggerhøj\n",
        "Andersen. 2023. “Single-Cell Analysis Identifies Genes Facilitating\n",
        "Rhizobium Infection in Lotus Japonicus.” *Nature Communications* 14\n",
        "(November): 7171. <https://doi.org/10.1038/s41467-023-42911-1>.\n",
        "\n",
        "Hafemeister, Christoph, and Rahul Satija. 2019. “Normalization and\n",
        "Variance Stabilization of Single-Cell RNA-Seq Data Using Regularized\n",
        "Negative Binomial Regression.” *Genome Biology* 20 (1): 296.\n",
        "<https://doi.org/10.1186/s13059-019-1874-1>.\n",
        "\n",
        "Heumos, Lukas, Anna C. Schaar, Christopher Lance, Anastasia\n",
        "Litinetskaya, Felix Drost, Luke Zappia, Malte D. Lücken, et al. 2023.\n",
        "“Best Practices for Single-Cell Analysis Across Modalities.” *Nature\n",
        "Reviews Genetics* 24 (8): 550–72.\n",
        "<https://doi.org/10.1038/s41576-023-00586-w>.\n",
        "\n",
        "Korsunsky, Ilya, Nghia Millard, Jean Fan, Kamil Slowikowski, Fan Zhang,\n",
        "Kevin Wei, Yuriy Baglaenko, Michael Brenner, Po-ru Loh, and Soumya\n",
        "Raychaudhuri. 2019. “Fast, Sensitive and Accurate Integration of\n",
        "Single-Cell Data with Harmony.” *Nature Methods* 16 (12): 1289–96.\n",
        "<https://doi.org/10.1038/s41592-019-0619-0>.\n",
        "\n",
        "Langfelder, Peter, and Steve Horvath. 2007. “Eigengene Networks for\n",
        "Studying the Relationships Between Co-Expression Modules.” *BMC Systems\n",
        "Biology* 1 (1): 54. <https://doi.org/10.1186/1752-0509-1-54>.\n",
        "\n",
        "Li, Xiaolin, Zhiqiong Zheng, Xiangxiao Kong, Ji Xu, Liping Qiu, Jongho\n",
        "Sun, Dugald Reid, et al. 2019. “Atypical Receptor Kinase RINRK1 Required\n",
        "for Rhizobial Infection but Not Nodule Development in *Lotus\n",
        "Japonicus*.” *Plant Physiology* 181 (2): 804–16.\n",
        "<https://doi.org/10.1104/pp.19.00509>.\n",
        "\n",
        "Luecken, Malte D, and Fabian J Theis. 2019. “Current Best Practices in\n",
        "Single‐cell RNA‐seq Analysis: A Tutorial.” *Molecular Systems Biology*\n",
        "15 (6): e8746. <https://doi.org/10.15252/msb.20188746>.\n",
        "\n",
        "McGinnis, Christopher S., Lyndsay M. Murrow, and Zev J. Gartner. 2019.\n",
        "“DoubletFinder: Doublet Detection in Single-Cell RNA Sequencing Data\n",
        "Using Artificial Nearest Neighbors.” *Cell Systems* 8 (4): 329–337.e4.\n",
        "<https://doi.org/10.1016/j.cels.2019.03.003>.\n",
        "\n",
        "McInnes, Leland, John Healy, Nathaniel Saul, and Lukas Großberger. 2018.\n",
        "“UMAP: Uniform Manifold Approximation and Projection.” *Journal of Open\n",
        "Source Software* 3 (29): 861. <https://doi.org/10.21105/joss.00861>.\n",
        "\n",
        "Morabito, Samuel, Fairlie Reese, Negin Rahimzadeh, Emily Miyoshi, and\n",
        "Vivek Swarup. 2023. “<span class=\"nocase\">hdWGCNA</span> Identifies\n",
        "Co-Expression Networks in High-Dimensional Transcriptomics Data.” *Cell\n",
        "Reports Methods* 3 (6): 100498.\n",
        "<https://doi.org/10.1016/j.crmeth.2023.100498>.\n",
        "\n",
        "Okamoto, Satoru, and Masayoshi Kawaguchi. 2015. “Shoot HAR1 Mediates\n",
        "Nitrate Inhibition of Nodulation in *Lotus Japonicus*.” *Plant Signaling\n",
        "& Behavior* 10 (5): e1000138.\n",
        "<https://doi.org/10.1080/15592324.2014.1000138>.\n",
        "\n",
        "Stuart, Tim, Andrew Butler, Paul Hoffman, Christoph Hafemeister,\n",
        "Efthymia Papalexi, William M. Mauck, Yuhan Hao, Marlon Stoeckius, Peter\n",
        "Smibert, and Rahul Satija. 2019. “Comprehensive Integration of\n",
        "Single-Cell Data.” *Cell* 177 (7): 1888–1902.e21.\n",
        "<https://doi.org/10.1016/j.cell.2019.05.031>.\n",
        "\n",
        "Szczyglowski, Krzysztof, Robert S. Shaw, Judith Wopereis, Sue Copeland,\n",
        "Dirk Hamburger, Beth Kasiborski, Frank B. Dazzo, and Frans J. De Bruijn.\n",
        "1998. “Nodule Organogenesis and Symbiotic Mutants of the Model Legume\n",
        "*Lotus Japonicus*.” *Molecular Plant-Microbe Interactions®* 11 (7):\n",
        "684–97. <https://doi.org/10.1094/MPMI.1998.11.7.684>.\n",
        "\n",
        "Traag, V. A., L. Waltman, and N. J. Van Eck. 2019. “From Louvain to\n",
        "Leiden: Guaranteeing Well-Connected Communities.” *Scientific Reports* 9\n",
        "(1): 5233. <https://doi.org/10.1038/s41598-019-41695-z>.\n",
        "\n",
        "Wang, Qi, Jinge Liu, and Hongyan Zhu. 2018. “Genetic and Molecular\n",
        "Mechanisms Underlying Symbiotic Specificity in Legume-Rhizobium\n",
        "Interactions.” *Frontiers in Plant Science* 9.\n",
        "<https://www.frontiersin.org/journals/plant-science/articles/10.3389/fpls.2018.00313>.\n",
        "\n",
        "Xiang, Ruizhi, Wencan Wang, Lei Yang, Shiyuan Wang, Chaohan Xu, and\n",
        "Xiaowen Chen. 2021. “A Comparison for Dimensionality Reduction Methods\n",
        "of Single-Cell RNA-Seq Data.” *Frontiers in Genetics* 12 (March):\n",
        "646936. <https://doi.org/10.3389/fgene.2021.646936>.\n",
        "\n",
        "Xinming, Tu. 2022. “Seurat CCA? It’s Just a Simple Extension of PCA!”\n",
        "<https://xinmingtu.cn/blog/2022/CCA_dual_PCA/>.\n",
        "\n",
        "Young, Matthew D, and Sam Behjati. 2020. “SoupX Removes Ambient RNA\n",
        "Contamination from Droplet-Based Single-Cell RNA Sequencing Data.”\n",
        "*GigaScience* 9 (12): giaa151.\n",
        "<https://doi.org/10.1093/gigascience/giaa151>."
      ]
    }
  ],
  "metadata": {
    "colab": {
      "collapsed_sections": [],
      "name": "Single_cell_day_Notebook_students.ipynb",
      "provenance": [],
      "toc_visible": true
    },
    "kernelspec": {
      "display_name": "R Adv Single Cell",
      "language": "R",
      "name": "r_scrna"
    },
    "language_info": {
      "codemirror_mode": "r",
      "file_extension": ".r",
      "mimetype": "text/x-r-source",
      "name": "R",
      "pygments_lexer": "r",
      "version": "4.2.3"
    },
    "toc-autonumbering": true,
    "toc-showmarkdowntxt": false
  },
  "nbformat": 4,
  "nbformat_minor": 5
}
